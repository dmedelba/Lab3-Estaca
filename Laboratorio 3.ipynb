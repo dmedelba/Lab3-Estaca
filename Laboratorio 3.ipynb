{
 "cells": [
  {
   "cell_type": "markdown",
   "metadata": {},
   "source": [
    "<table style=\"width:100%\">\n",
    "  <tr>\n",
    "    <th align=\"right\"><img src=\"img/dilogo.png\" style=\"float:left;height:90px\"></th>\n",
    "    <th align=\"center\">\n",
    "    <h1 align=\"center\">Laboratorio 3</h1>\n",
    "    <h2 align=\"center\">Profesor: Ricardo Ñanculef</h2>\n",
    "    <h3 align=\"center\">Ayudante: Gabriel Ortega</h3>\n",
    "    <h3 align=\"center\">Juan Pablo Jorquera;201573533-6</h3>\n",
    "    <h3 align=\"center\">David Medel;201573548-4</h3>\n",
    "    <h3 align=\"center\">Diciembre de 2019</h3>\n",
    "    </th> \n",
    "    <th align=\"left\"><img src=\"img/usmlogo.png\" style=\"float:right;height:85px\"></th>\n",
    "  </tr>"
   ]
  },
  {
   "cell_type": "markdown",
   "metadata": {},
   "source": [
    "## Instrucciones\n",
    "\n",
    "La modalidad de trabajo será mediante el uso de jupyter notebook. El notebook debe ser desarrollado en parejas o individual y ser entregado el 31 de diciembre de 2019.\n",
    "\n",
    "La **modalidad de entrega será un archivo Apellido1_Apellido2_Lab3.zip** que contenga un notebook que incluya todas las preguntas con sus respectivas respuestas, un README que indique la forma correcta de ejecutar su notebook y cualquier archivo/carpeta extra que considere necesario para el correcto funcionamiento de su tarea. El laboratorio puede ser trabajado tanto en lenguaje R como en python 3 (para los que usen python 2.X, absténganse a las consecuencias). Lea bien el enunciado.\n",
    "\n",
    "**Cualquier copia detectada implicará nota 0 en el laboratorio correspondiente y se notificará la situación al profesor.**\n",
    "\n",
    "\n"
   ]
  },
  {
   "cell_type": "markdown",
   "metadata": {},
   "source": [
    "## 1. Ley de Zipf y NLP (30p)\n",
    "\n",
    "\n",
    "#### Zipf\n",
    "\n",
    "La ley de Zipf corresponde a una ley empírica elaborada por George Kingsley Zipf, lingüista americano. Esta ley dice que la distribución de palabras en un texto es de libre escala. Este fenómeno se evidenció en el idioma inglés y, después, se expandió a todos los otros idiomas. Su popularidad es tal, que se tiende a asociar a Zipf con leyes de potencia más allá del ámbito lingüista, se habla de comportamiento \"zipfiano\".\n",
    "\n",
    "Para trabajar con esta ley es necesario analizar texto/s de gran extensión, formalmente conocidos como corpus. En este caso, trabajarán con una selección de libros en formatos .txt [disponibles aqui](https://www.gutenberg.org/browse/scores/top). No es necesario que los descargue todos, mínimo 3, máximo una cantidad que su computador pueda procesar en un tiempo decente para usted.\n",
    "\n",
    "> a) Con los libros que usted seleccionó haga un gráfico en el que se muestren las 10 palabras de mayor frecuencia. ¿Qué puede decir acerca de las palabras que aparecen? \n",
    "\n",
    "> b) Del universo de palabras que puede construir mediante el análisis de texto ¿Cuál es la probabilidad de que, al elegir al azar una de ellas, obtenga una palabra rara? **Palabra rara:** su frecuencia de aparición es 1.\n",
    "\n",
    "> c) ¿Se podría establecer alguna relación entre la probabilidad de encontrar $N$ palabras raras (su frecuencia de aparición es 1) en función del largo del texto analizado? ¿Hay alguna relación con b)? Fundamente. Pruebe para 3-5 valores distintos de $N$.\n",
    "\n",
    "*Hint: podría ir leyendo por partes y cada vez seleccionando partes de mayor o menor largo.*\n",
    "\n",
    "Para clasificar un texto (asignarles palabras o temas claves) se necesitan utilizar palabras características. Utilizando la ley de zipf se tiene que los extremos de la distribución no son útiles. Las palabras más comunes estarían presentes en casi todos los textos y las menos frecuentes no estarían en ninguno.\n",
    "\n",
    "> d) En base a lo anterior seleccione 2 palabras que usted utilizaría para clasificar los textos analizados (el conjunto entero). Para las dos palabras $(w_1,w_2)$ seleccionadas se plantea la siguiente pregunta ¿La ocurrencia de $w_1$ en un texto es independiente de la presencia de $w_2$ en el mismo texto?. Debido que la cantidad de libros podría no ser suficiente para mostrar esto, es posible considerar sub-secciones como \"mismo texto\", por ejemplo, los capítulos. \n",
    "\n",
    "* Usted debe hacer la partición útil de la distribución según su criterio. No use stopwords para $w_1,w_2$ (¿No sabe lo que es una stopword? [Pinche aqui](https://www.google.com/)). Los extremos no sirven así que deberá buscar en otra parte.\n",
    "* Explique el prodecimiento que realizará para mostrar la independencia o no independencia de las palabras.\n",
    "\n",
    "----\n",
    "\n",
    "Es muy posible que su corpus no pueda ser adjuntado junto a su laboratorio. Debido a esto, debe referenciar el sitio de donde descargó su corpus en el README."
   ]
  },
  {
   "cell_type": "markdown",
   "metadata": {},
   "source": [
    "## Respuesta \n",
    "\n",
    "### Indicaciones generales\n",
    "\n",
    "Inicialmente se listará los diez libros (y archivos) utilizados para trabajar para luego continuar trabajando parte por parte. Dichos libros fueron obtenidos del [proyecto gutenberg](https://www.gutenberg.org/browse/scores/top), se encuentran más detalles sobre los textos en el archivo `README.md`.\n",
    "\n",
    "Para acelerar el proceso de ejecución, se adjunta el archivo \"corpus.txt\" con el cuerpo de dichos libros y realizando la limpieza de los textos para trabajar con palabras, además, se añadió el script para la generación del corpus en el archivo \"armarCorpus.py\". Cabe destacar que en dicho script, también se realizó una limpieza de los textos, para la consideración adecuada de palabras se eliminaron símbolos y se normalizó el texto a minúsculas. También se filtró texto que se incluía sobre información del sitio que se consideró irrelevante y formular el corpus puramente en base a los libros incluidos. Es posible que no se hayan filtrado todos los casos deseables, pero se estima que dichos casos son ínfimos con respecto al tamaño de los textos."
   ]
  },
  {
   "cell_type": "code",
   "execution_count": 100,
   "metadata": {},
   "outputs": [],
   "source": [
    "# Incluir librerías a utilizar a lo largo del informe\n",
    "import pandas as pd\n",
    "import numpy as np\n",
    "import matplotlib.pyplot as plt\n",
    "from matplotlib import style\n",
    "import re\n",
    "import string"
   ]
  },
  {
   "cell_type": "markdown",
   "metadata": {},
   "source": [
    "### Parte 1.a)\n",
    "\n",
    "> a) Con los libros que usted seleccionó haga un gráfico en el que se muestren las 10 palabras de mayor frecuencia. ¿Qué puede decir acerca de las palabras que aparecen? \n",
    "\n",
    "Para ello se contabilizara cada palabra en el corpus con su respectiva frecuencia y en base a ello se generará el gráfico requerido. Cabe destacar que en dicho corpus se trabajó con los 10 libros seleccionados para simular un libro más grande."
   ]
  },
  {
   "cell_type": "code",
   "execution_count": 101,
   "metadata": {},
   "outputs": [
    {
     "data": {
      "image/png": "[encoded data removed]",
      "text/plain": [
       "<Figure size 432x288 with 1 Axes>"
      ]
     },
     "metadata": {},
     "output_type": "display_data"
    }
   ],
   "source": [
    "# Función para realizar conteo de palabras y frecuencias\n",
    "def conteoPalabras(nombreArchivo):\n",
    "    nLineas = 0\n",
    "    nPalabras = 0\n",
    "    cuenta_palabras = dict()\n",
    "    corpus = open('./'+nombreArchivo, 'r')\n",
    "    for linea in corpus:\n",
    "        nLineas += 1\n",
    "        for palabra in linea.split():\n",
    "            nPalabras += 1\n",
    "            # Contabilizar palabras\n",
    "            if palabra in cuenta_palabras:\n",
    "                cuenta_palabras[palabra] += 1\n",
    "            else:\n",
    "                cuenta_palabras[palabra] = 1\n",
    "    corpus.close()\n",
    "    return cuenta_palabras, nLineas, nPalabras\n",
    "\n",
    "# Armar dataframe resultado\n",
    "cuenta_palabras, nLineas, nPalabras = conteoPalabras('corpus.txt')\n",
    "df = pd.DataFrame(list(cuenta_palabras.items()), columns=('palabra', 'frecuencia'))\n",
    "df.sort_values(by=['frecuencia'], ascending=False, inplace=True)\n",
    "\n",
    "# Graficar\n",
    "style.use('ggplot')\n",
    "plt.bar(df.head(10)['palabra'].tolist(), df.head(10)['frecuencia'].tolist(), align='center')\n",
    "plt.title('Palabras con más apariciones en los libros seleccionados')\n",
    "plt.ylabel('Frecuencia de apariciones')\n",
    "plt.xlabel('Palabras')\n",
    "plt.show()"
   ]
  },
  {
   "cell_type": "markdown",
   "metadata": {},
   "source": [
    "Sobre las palabras podemos decir que las que más se repiten son artículos o pronombres, es decir, palabras que se utilizan para componer oraciones por sobre palabras que conlleven contenido (stopwords)."
   ]
  },
  {
   "cell_type": "markdown",
   "metadata": {},
   "source": [
    "### Parte 1.b)\n",
    "\n",
    "> b) Del universo de palabras que puede construir mediante el análisis de texto ¿Cuál es la probabilidad de que, al elegir al azar una de ellas, obtenga una palabra rara? **Palabra rara:** su frecuencia de aparición es 1.\n",
    "\n",
    "En base al conteo realizado en a), se calculará la probabilidad en base a los casos favorables (cantidad de palabras raras) y casos posibles (total de palabras)."
   ]
  },
  {
   "cell_type": "code",
   "execution_count": 102,
   "metadata": {},
   "outputs": [
    {
     "name": "stdout",
     "output_type": "stream",
     "text": [
      "La probabilidad de obtener una palabra rara es de:  0.01917\n"
     ]
    }
   ],
   "source": [
    "cuenta_rara = 0\n",
    "total = 0\n",
    "# Realizar conteo de palabras raras y palabras totales\n",
    "for palabra in cuenta_palabras:\n",
    "    cuenta_pal_actual = cuenta_palabras[palabra]\n",
    "    if cuenta_pal_actual == 1:\n",
    "        cuenta_rara += 1\n",
    "    total += cuenta_pal_actual\n",
    "probabilidad = round(cuenta_rara/total, 5)\n",
    "print('La probabilidad de obtener una palabra rara es de: ', probabilidad)"
   ]
  },
  {
   "cell_type": "markdown",
   "metadata": {},
   "source": [
    "Como se puede ver, hay una muy baja probabilidad de obtener una palabra rara con aproximadamente un 1,92%; lo que concuerda con el crecimiento de libre escala, en donde las palabras más comunes crecen más, aislando las palabras raras."
   ]
  },
  {
   "cell_type": "markdown",
   "metadata": {},
   "source": [
    "### Parte 1.c)\n",
    "\n",
    "> c) ¿Se podría establecer alguna relación entre la probabilidad de encontrar $N$ palabras raras (su frecuencia de aparición es 1) en función del largo del texto analizado? ¿Hay alguna relación con b)? Fundamente. Pruebe para 3-5 valores distintos de $N$."
   ]
  },
  {
   "cell_type": "markdown",
   "metadata": {},
   "source": [
    "Para ello se dividirá el texto en tamaños de distinto largo (según la cantidad de palabras) y cinco $N$ arbitrarios, se contará las palabras raras del texto y así verificar si se logra encontrar al menos $N$ palabras raras, para luego obtener la probabilidad según lo éxitos obtenidos en cada parte y el total de las partes. Con dichos valores: los largos utilizados y la probabilidad encontrada se buscará el coeficiente de correlación de Pearson para determinar la existencia de relación entre ambas variables."
   ]
  },
  {
   "cell_type": "code",
   "execution_count": 103,
   "metadata": {},
   "outputs": [
    {
     "name": "stdout",
     "output_type": "stream",
     "text": [
      "Cantidad de palabras del corpus original:  1066892\n"
     ]
    },
    {
     "data": {
      "image/png": "[encoded data removed]",
      "text/plain": [
       "<Figure size 432x288 with 1 Axes>"
      ]
     },
     "metadata": {},
     "output_type": "display_data"
    },
    {
     "name": "stdout",
     "output_type": "stream",
     "text": [
      "Resultando en un coeficiente de correlación de:  0.4877\n"
     ]
    },
    {
     "data": {
      "image/png": "[encoded data removed]",
      "text/plain": [
       "<Figure size 432x288 with 1 Axes>"
      ]
     },
     "metadata": {},
     "output_type": "display_data"
    },
    {
     "name": "stdout",
     "output_type": "stream",
     "text": [
      "Resultando en un coeficiente de correlación de:  0.5845\n"
     ]
    },
    {
     "data": {
      "image/png": "[encoded data removed]",
      "text/plain": [
       "<Figure size 432x288 with 1 Axes>"
      ]
     },
     "metadata": {},
     "output_type": "display_data"
    },
    {
     "name": "stdout",
     "output_type": "stream",
     "text": [
      "Resultando en un coeficiente de correlación de:  0.6762\n"
     ]
    },
    {
     "data": {
      "image/png": "[encoded data removed]",
      "text/plain": [
       "<Figure size 432x288 with 1 Axes>"
      ]
     },
     "metadata": {},
     "output_type": "display_data"
    },
    {
     "name": "stdout",
     "output_type": "stream",
     "text": [
      "Resultando en un coeficiente de correlación de:  0.7348\n"
     ]
    },
    {
     "data": {
      "image/png": "[encoded data removed]",
      "text/plain": [
       "<Figure size 432x288 with 1 Axes>"
      ]
     },
     "metadata": {},
     "output_type": "display_data"
    },
    {
     "name": "stdout",
     "output_type": "stream",
     "text": [
      "Resultando en un coeficiente de correlación de:  0.774\n"
     ]
    }
   ],
   "source": [
    "print(\"Cantidad de palabras del corpus original: \", nPalabras)\n",
    "\n",
    "# Función para contar palabras y frecuencias según cierto tamaño de secciones\n",
    "# en cantidad de palabras\n",
    "def cuentaPalabras(tamPalabras):\n",
    "    cuenta_parte = dict()\n",
    "    palabrasLeidas = 0\n",
    "    cantidad_raras = list()\n",
    "    corpus = open('./corpus.txt', 'r')\n",
    "    for linea in corpus:\n",
    "        for palabra in linea.split():\n",
    "            # Contabilizar palabras\n",
    "            if palabra in cuenta_parte:\n",
    "                cuenta_parte[palabra] += 1\n",
    "            else:\n",
    "                cuenta_parte[palabra] = 1\n",
    "            palabrasLeidas += 1\n",
    "            # Finalizar revisión parte actual\n",
    "            if palabrasLeidas == (tamPalabras):\n",
    "                cuenta_rara = 0\n",
    "                # Conteo palabras raras\n",
    "                for palabra in cuenta_parte:\n",
    "                    cuenta_pal_actual = cuenta_parte[palabra]\n",
    "                    if cuenta_pal_actual == 1:\n",
    "                        cuenta_rara += 1\n",
    "                # Calcular resultado\n",
    "                cantidad_raras.append(cuenta_rara)\n",
    "                # Resetear variables\n",
    "                cuenta_parte.clear()\n",
    "                palabrasLeidas = 0\n",
    "    corpus.close()\n",
    "    df_probs = pd.DataFrame(cantidad_raras, columns = ['nRaras'])\n",
    "    return df_probs\n",
    "\n",
    "# Función para contabilizar las palabras raras según al menos n, también\n",
    "# genera los resultados\n",
    "def analizarN(n):\n",
    "    # Selección de tamaño en función del N\n",
    "    # Tramos de tamaño [1, 150%]; [150%, 200%]; [200%, 500%]; [500%, 10000%] de N\n",
    "    rango1 = np.linspace(1, 1.5*n, 5)\n",
    "    rango2 = np.linspace(1.5*n, 2*n, 5)\n",
    "    rango3 = np.linspace(2*n, 5*n, 5)\n",
    "    rango4 = np.linspace(5*n, 10*n, 5)\n",
    "    largoPartesEnPalabras = np.concatenate((rango1, rango2, rango3, rango4))\n",
    "    probabilidades = []\n",
    "    # Cálculos en distintos largos\n",
    "    for largo in largoPartesEnPalabras:\n",
    "        # Contar palabras\n",
    "        df_aux = cuentaPalabras(int(largo))\n",
    "        # Analizar exitos\n",
    "        df_aux2 = df_aux['nRaras'].apply(lambda x: 0 if x<n else 1)#x/largo)\n",
    "        # Calcular promedio total para al menos n palabras raras\n",
    "        exitos = df_aux2.sum()\n",
    "        nPartes = df_aux2.count()\n",
    "        probabilidades.append(exitos/nPartes)\n",
    "    # Graficar\n",
    "    plt.plot(largoPartesEnPalabras, probabilidades, linewidth=3)\n",
    "    axes = plt.gca()\n",
    "    axes.set_ylim([0, 1])\n",
    "    plt.title('Para al menos '+str(n)+' palabras raras')\n",
    "    plt.xlabel('Tamaño secciones en cantidad de palabras')\n",
    "    plt.ylabel('Probabilidad')\n",
    "    plt.show()\n",
    "    # Cálculo coef correlacion\n",
    "    correlacion = np.corrcoef(largoPartesEnPalabras, probabilidades)\n",
    "    print('Resultando en un coeficiente de correlación de: ', round(correlacion[0][1],4))\n",
    "    probabilidades.clear()\n",
    "\n",
    "# Analizar para distintos n\n",
    "nPalabrasRaras = [8, 28, 45, 59, 72]\n",
    "for n in nPalabrasRaras:\n",
    "    analizarN(n)"
   ]
  },
  {
   "cell_type": "markdown",
   "metadata": {},
   "source": [
    "Es importante discutir en primer lugar sobre las diferencias de los gráficos. Éstas se generan principalmente debido a la importancia de los $N$ y los tamaños escogidos, según el crecimiento de los gráficos y la evidencia encontrada después de cierto tamaño de las partes leídas se garantiza que siempre se encontrará al menos $N$ palabras raras y los gráficos se mantienen constantes. Es por ello que no tiene sentido comparar gráficos de la misma escala, ya que los tamaños a utilizar son útiles para el orden de cada $N$ específico. Para dicho proósito se escogieron tamaños en función de cierto porcentaje de $N$.\n",
    "\n",
    "En base a los coeficientes de correlación obtenidos, existe una relación positiva entre el tamaño de las partes escogidas y la probabilidad de encontrar $N$ palabras raras, es decir, si se busca en secciones más grandes, en más probable encontrar al menos $N$ palabras raras. Además, para mayor $N$, se necesitan tomar secciones de tamaño más grande para obtener mayores probabilidades.\n",
    "\n",
    "Si comparamos con b), se puede notar que son casos distintos, ya que en la pregunta b), se está evaluando la proporción de cantidad de palabras raras con respecto al total, lo que depende directamente de la frecuencia de las palabras no raras y que aumentan más su frecuencia al leer más palabras. Por otro lado, en la pregunta c), se relaciona la cantidad de palabras raras con respecto al largo del texto elegido, es decir, para este caso no afecta en mayor grado las palabras que no sean raras. Así, al aumentar el tamaño de lectura del corpus, es probable que los éxitos (cantidad de palabras raras) aumenten, a diferencia de b). \n",
    "\n",
    "Si lo vemos como un grafo (disjunto) en el cual los nodos son las palabras y los nodos nuevos se van uniendo a las palabras iguales, el tamaño de cada subgrafo representaría a la frecuencia. En este caso, esta pregunta estaría asociada a agregar nodos, donde es más probable unirlos a los de mayor frecuencia y ahí ver si aumentan los nodos aislados. Por otro lado, b) corresponde simplemente a seleccionar un nodo aislado del grafo siendo que son amplia minoría."
   ]
  },
  {
   "cell_type": "markdown",
   "metadata": {},
   "source": [
    "### Parte 1.d)\n",
    "> d) En base a lo anterior seleccione 2 palabras que usted utilizaría para clasificar los textos analizados (el conjunto entero). Para las dos palabras $(w_1,w_2)$ seleccionadas se plantea la siguiente pregunta ¿La ocurrencia de $w_1$ en un texto es independiente de la presencia de $w_2$ en el mismo texto?. Debido que la cantidad de libros podría no ser suficiente para mostrar esto, es posible considerar sub-secciones como \"mismo texto\", por ejemplo, los capítulos. "
   ]
  },
  {
   "cell_type": "markdown",
   "metadata": {},
   "source": [
    "Para ello se trabajará en dos partes: en primer lugar se estudiará las palabras y sus frecuencias para poder elegir adecuadamente las dos palabras a estudiar y luego se realizará un análisis de sus apariciones para poder determinar la dependencia o independencia entre ellas.\n",
    "\n",
    "Para el estudio de la frecuencia y siguiendo lo formulado en la parte 1.a), se graficará las palabras de mayor a menor frecuencia en el corpus utilizado para evidenciar la tendencia que se genera entre ellas. Para dicho efecto se utilizará como métrica el ranking de frecuencias, en donde se le asigna una posición absoluta a las palabras partiendo por las de mayor frecuencia."
   ]
  },
  {
   "cell_type": "code",
   "execution_count": 104,
   "metadata": {},
   "outputs": [
    {
     "data": {
      "image/png": "[encoded data removed]",
      "text/plain": [
       "<Figure size 936x360 with 2 Axes>"
      ]
     },
     "metadata": {},
     "output_type": "display_data"
    }
   ],
   "source": [
    "# Incluir ranking\n",
    "df_ranking = df\n",
    "df_ranking['ranking'] = df_ranking['frecuencia'].rank(ascending=False)\n",
    "\n",
    "# Gráficos ranking vs frecuencia\n",
    "fig, ax = plt.subplots(nrows=1, ncols=2, figsize=(13,5))\n",
    "fig.suptitle(\"Rankings de palabras vs frecuencia\", fontsize=\"x-large\")\n",
    "\n",
    "# Gráfico ranking frecuencia top 30\n",
    "df_top = df_ranking[(df_ranking.ranking <= 30)]\n",
    "plt.subplot(1, 2, 1)\n",
    "plt.plot(df_top.palabra, df_top.frecuencia)\n",
    "plt.xticks(rotation='vertical')\n",
    "plt.xlabel('Palabras')\n",
    "plt.ylabel('Frecuencia')\n",
    "plt.title('Top 30 palabras con mayor frecuencia')\n",
    "\n",
    "# Gráfico ranking frecuencia top 100\n",
    "df_top = df_ranking[(df_ranking.ranking <= 100)]\n",
    "plt.subplot(1, 2, 2, xticklabels=[])\n",
    "plt.plot(df_top.palabra, df_top.frecuencia)\n",
    "plt.xlabel('Palabras')\n",
    "plt.ylabel('Frecuencia')\n",
    "plt.title('Top 100 palabras con mayor frecuencia')\n",
    "plt.show()"
   ]
  },
  {
   "cell_type": "markdown",
   "metadata": {},
   "source": [
    "Se comenzó con el gráfico de la izquierda donde se muestran treinta palabras para visualizar aquellas con mayor frecuencia. Por otro lado, en el gráfico de la derecha se puede visualizar mejor la tendencia, en donde se demuestra una relación inversa entre el ranking y la frecuencia de cada palabra. Para mostrar adecuadamente la relación y la ley de zipf, a continuación se mostrará el dataset entero en escala logarítmica para demostrar la relación de decaimiento según los órdenes de magnitud."
   ]
  },
  {
   "cell_type": "code",
   "execution_count": 105,
   "metadata": {},
   "outputs": [
    {
     "data": {
      "image/png": "[encoded data removed]",
      "text/plain": [
       "<Figure size 432x288 with 1 Axes>"
      ]
     },
     "metadata": {},
     "output_type": "display_data"
    }
   ],
   "source": [
    "# Gráfico ranking frecuencia ajustado\n",
    "plt.plot(df_ranking.ranking, df_ranking.frecuencia)\n",
    "plt.yscale('log')\n",
    "plt.xscale('log')\n",
    "plt.xlabel('Palabras')\n",
    "plt.ylabel('Frecuencia')\n",
    "plt.title('Ranking total de frecuencia de palabras')\n",
    "plt.show()"
   ]
  },
  {
   "cell_type": "markdown",
   "metadata": {},
   "source": [
    "Visualizando los gráficos anteriores se puede notar que aquellas palabras con frecuencia más alta corresponden a stopwords comunes. A su vez, al extremo derecho del gráfico se sitúan las palabras raras, ninguno de los dos casos resulta útil para el estudio, ya que no sirven para caracterizar los textos a los que pertenecen. Es por esto que para continuar trabajando se filtrarán las palabras fuera del IQR del ranking, a su vez se usó un [listado de stopwords](http://xpo6.com/list-of-english-stop-words/) para filtrar posibles stopwords que hayan quedado dentro del rango debido a posibles errores como el tamaño del dataset. De igual forma se filtrarán palabras de una letra que hayan quedado de la limpieza de símbolos y finalmente se elegirán dos palabras al azar para analizar su dependencia."
   ]
  },
  {
   "cell_type": "code",
   "execution_count": 106,
   "metadata": {},
   "outputs": [
    {
     "name": "stdout",
     "output_type": "stream",
     "text": [
      "Las palabras obtenidas son: sleep y remember con frecuencias de: 352 y 221 respectivamente.\n"
     ]
    }
   ],
   "source": [
    "np.random.seed(524)\n",
    "\n",
    "# Filtrar IQR\n",
    "df_filtrado = df_ranking.groupby(by='ranking').size().reset_index(name='counts')\n",
    "p25 = df_filtrado.ranking.quantile(0.25)\n",
    "p75 = df_filtrado.ranking.quantile(0.75)\n",
    "df_filtrado = df_ranking[(df_ranking.ranking >= p25) & (df_ranking.ranking <= p75)]\n",
    "# Filtrar stopwords\n",
    "stopword_list = pd.read_csv('stop-word-list.csv', header=None, index_col=False)\n",
    "stopword_list = stopword_list.transpose()\n",
    "stopword_list = stopword_list[0].apply(lambda x: x.strip()).values.tolist()\n",
    "df_filtrado = df_filtrado[df_filtrado.palabra.apply(lambda x: x not in stopword_list)]\n",
    "# Filtrar basura\n",
    "df_filtrado = df_filtrado[df_filtrado.palabra.str.len() > 1]\n",
    "# Sacar muestra y palabras al azar a utilizar\n",
    "selected = df_filtrado.sample(2)#.palabra.values\n",
    "palabra1, palabra2 = selected.palabra.values[0], selected.palabra.values[1]\n",
    "frec1, frec2 = selected.frecuencia.values[0], selected.frecuencia.values[1]\n",
    "print(\"Las palabras obtenidas son:\", palabra1, \"y\", palabra2, \n",
    "      \"con frecuencias de:\", frec1, \"y\", frec2, \"respectivamente.\")"
   ]
  },
  {
   "cell_type": "markdown",
   "metadata": {},
   "source": [
    "Para continuar, se trabajara con las siguientes variables aleatorias:\n",
    "* x = frecuencia 'sleep'\n",
    "* y = frecuencia 'remember'\n",
    "\n",
    "Así, para tener una caracterización de las partes, el corpus se dividirá en 120 partes de igual tamaño. Entonces, se busca la probabilidad de cada frecuencia posible para ambas palabras, así obtendremos las probabilidades para cada combinación de frecuencias entre ambas palabras y, a su vez, la marginal de cada palabra según su propia frecuencia.\n",
    "\n",
    "Al tener las probabilidades marginales de ambas palabras, calcularemos la multiplicación entre las posibles frecuencias de ambas palabras y así poder comparar los resultados con los antes obtenidos."
   ]
  },
  {
   "cell_type": "code",
   "execution_count": 107,
   "metadata": {},
   "outputs": [
    {
     "name": "stdout",
     "output_type": "stream",
     "text": [
      "\n",
      "Función de probabilidad conjunta x, y; incluyendo marginales (valores aproximados):\n",
      "\n"
     ]
    },
    {
     "data": {
      "text/html": [
       "<div>\n",
       "<style scoped>\n",
       "    .dataframe tbody tr th:only-of-type {\n",
       "        vertical-align: middle;\n",
       "    }\n",
       "\n",
       "    .dataframe tbody tr th {\n",
       "        vertical-align: top;\n",
       "    }\n",
       "\n",
       "    .dataframe thead th {\n",
       "        text-align: right;\n",
       "    }\n",
       "</style>\n",
       "<table border=\"1\" class=\"dataframe\">\n",
       "  <thead>\n",
       "    <tr style=\"text-align: right;\">\n",
       "      <th>y</th>\n",
       "      <th>0</th>\n",
       "      <th>1</th>\n",
       "      <th>2</th>\n",
       "      <th>3</th>\n",
       "      <th>4</th>\n",
       "      <th>5</th>\n",
       "      <th>6</th>\n",
       "      <th>7</th>\n",
       "      <th>8</th>\n",
       "      <th>9</th>\n",
       "      <th>marginal</th>\n",
       "    </tr>\n",
       "    <tr>\n",
       "      <th>x</th>\n",
       "      <th></th>\n",
       "      <th></th>\n",
       "      <th></th>\n",
       "      <th></th>\n",
       "      <th></th>\n",
       "      <th></th>\n",
       "      <th></th>\n",
       "      <th></th>\n",
       "      <th></th>\n",
       "      <th></th>\n",
       "      <th></th>\n",
       "    </tr>\n",
       "  </thead>\n",
       "  <tbody>\n",
       "    <tr>\n",
       "      <td>0</td>\n",
       "      <td>0.1083</td>\n",
       "      <td>0.0583</td>\n",
       "      <td>0.0833</td>\n",
       "      <td>0.025</td>\n",
       "      <td>0</td>\n",
       "      <td>0</td>\n",
       "      <td>0</td>\n",
       "      <td>0</td>\n",
       "      <td>0.0083</td>\n",
       "      <td>0.0083</td>\n",
       "      <td>0.2917</td>\n",
       "    </tr>\n",
       "    <tr>\n",
       "      <td>1</td>\n",
       "      <td>0.0667</td>\n",
       "      <td>0.1</td>\n",
       "      <td>0.025</td>\n",
       "      <td>0.0167</td>\n",
       "      <td>0.0083</td>\n",
       "      <td>0.0083</td>\n",
       "      <td>0.0083</td>\n",
       "      <td>0.0083</td>\n",
       "      <td>0.0083</td>\n",
       "      <td>0</td>\n",
       "      <td>0.25</td>\n",
       "    </tr>\n",
       "    <tr>\n",
       "      <td>2</td>\n",
       "      <td>0.025</td>\n",
       "      <td>0.05</td>\n",
       "      <td>0.0417</td>\n",
       "      <td>0.0167</td>\n",
       "      <td>0.0083</td>\n",
       "      <td>0</td>\n",
       "      <td>0.0083</td>\n",
       "      <td>0</td>\n",
       "      <td>0</td>\n",
       "      <td>0</td>\n",
       "      <td>0.15</td>\n",
       "    </tr>\n",
       "    <tr>\n",
       "      <td>3</td>\n",
       "      <td>0.0167</td>\n",
       "      <td>0.0167</td>\n",
       "      <td>0.0083</td>\n",
       "      <td>0.0167</td>\n",
       "      <td>0.0083</td>\n",
       "      <td>0.0167</td>\n",
       "      <td>0</td>\n",
       "      <td>0</td>\n",
       "      <td>0</td>\n",
       "      <td>0</td>\n",
       "      <td>0.0833</td>\n",
       "    </tr>\n",
       "    <tr>\n",
       "      <td>4</td>\n",
       "      <td>0.025</td>\n",
       "      <td>0.0167</td>\n",
       "      <td>0.0083</td>\n",
       "      <td>0</td>\n",
       "      <td>0</td>\n",
       "      <td>0.0083</td>\n",
       "      <td>0</td>\n",
       "      <td>0</td>\n",
       "      <td>0</td>\n",
       "      <td>0</td>\n",
       "      <td>0.0583</td>\n",
       "    </tr>\n",
       "    <tr>\n",
       "      <td>5</td>\n",
       "      <td>0</td>\n",
       "      <td>0</td>\n",
       "      <td>0.0083</td>\n",
       "      <td>0</td>\n",
       "      <td>0</td>\n",
       "      <td>0</td>\n",
       "      <td>0</td>\n",
       "      <td>0</td>\n",
       "      <td>0</td>\n",
       "      <td>0</td>\n",
       "      <td>0.0083</td>\n",
       "    </tr>\n",
       "    <tr>\n",
       "      <td>6</td>\n",
       "      <td>0</td>\n",
       "      <td>0</td>\n",
       "      <td>0.0083</td>\n",
       "      <td>0.0083</td>\n",
       "      <td>0</td>\n",
       "      <td>0.0167</td>\n",
       "      <td>0</td>\n",
       "      <td>0</td>\n",
       "      <td>0</td>\n",
       "      <td>0</td>\n",
       "      <td>0.0333</td>\n",
       "    </tr>\n",
       "    <tr>\n",
       "      <td>7</td>\n",
       "      <td>0.0083</td>\n",
       "      <td>0</td>\n",
       "      <td>0.0083</td>\n",
       "      <td>0</td>\n",
       "      <td>0</td>\n",
       "      <td>0</td>\n",
       "      <td>0.0083</td>\n",
       "      <td>0</td>\n",
       "      <td>0</td>\n",
       "      <td>0</td>\n",
       "      <td>0.025</td>\n",
       "    </tr>\n",
       "    <tr>\n",
       "      <td>8</td>\n",
       "      <td>0</td>\n",
       "      <td>0.0083</td>\n",
       "      <td>0</td>\n",
       "      <td>0</td>\n",
       "      <td>0.0083</td>\n",
       "      <td>0</td>\n",
       "      <td>0</td>\n",
       "      <td>0</td>\n",
       "      <td>0</td>\n",
       "      <td>0</td>\n",
       "      <td>0.0167</td>\n",
       "    </tr>\n",
       "    <tr>\n",
       "      <td>10</td>\n",
       "      <td>0.0083</td>\n",
       "      <td>0.0083</td>\n",
       "      <td>0</td>\n",
       "      <td>0</td>\n",
       "      <td>0</td>\n",
       "      <td>0</td>\n",
       "      <td>0</td>\n",
       "      <td>0</td>\n",
       "      <td>0</td>\n",
       "      <td>0</td>\n",
       "      <td>0.0167</td>\n",
       "    </tr>\n",
       "    <tr>\n",
       "      <td>12</td>\n",
       "      <td>0</td>\n",
       "      <td>0.0083</td>\n",
       "      <td>0</td>\n",
       "      <td>0</td>\n",
       "      <td>0.0083</td>\n",
       "      <td>0</td>\n",
       "      <td>0</td>\n",
       "      <td>0.0083</td>\n",
       "      <td>0</td>\n",
       "      <td>0</td>\n",
       "      <td>0.025</td>\n",
       "    </tr>\n",
       "    <tr>\n",
       "      <td>13</td>\n",
       "      <td>0</td>\n",
       "      <td>0</td>\n",
       "      <td>0.0083</td>\n",
       "      <td>0</td>\n",
       "      <td>0</td>\n",
       "      <td>0</td>\n",
       "      <td>0</td>\n",
       "      <td>0</td>\n",
       "      <td>0</td>\n",
       "      <td>0</td>\n",
       "      <td>0.0083</td>\n",
       "    </tr>\n",
       "    <tr>\n",
       "      <td>14</td>\n",
       "      <td>0</td>\n",
       "      <td>0.0083</td>\n",
       "      <td>0</td>\n",
       "      <td>0</td>\n",
       "      <td>0</td>\n",
       "      <td>0</td>\n",
       "      <td>0</td>\n",
       "      <td>0</td>\n",
       "      <td>0</td>\n",
       "      <td>0</td>\n",
       "      <td>0.0083</td>\n",
       "    </tr>\n",
       "    <tr>\n",
       "      <td>16</td>\n",
       "      <td>0.0083</td>\n",
       "      <td>0</td>\n",
       "      <td>0</td>\n",
       "      <td>0</td>\n",
       "      <td>0</td>\n",
       "      <td>0</td>\n",
       "      <td>0</td>\n",
       "      <td>0</td>\n",
       "      <td>0</td>\n",
       "      <td>0</td>\n",
       "      <td>0.0083</td>\n",
       "    </tr>\n",
       "    <tr>\n",
       "      <td>31</td>\n",
       "      <td>0</td>\n",
       "      <td>0</td>\n",
       "      <td>0.0083</td>\n",
       "      <td>0</td>\n",
       "      <td>0</td>\n",
       "      <td>0</td>\n",
       "      <td>0</td>\n",
       "      <td>0</td>\n",
       "      <td>0</td>\n",
       "      <td>0</td>\n",
       "      <td>0.0083</td>\n",
       "    </tr>\n",
       "    <tr>\n",
       "      <td>32</td>\n",
       "      <td>0</td>\n",
       "      <td>0.0083</td>\n",
       "      <td>0</td>\n",
       "      <td>0</td>\n",
       "      <td>0</td>\n",
       "      <td>0</td>\n",
       "      <td>0</td>\n",
       "      <td>0</td>\n",
       "      <td>0</td>\n",
       "      <td>0</td>\n",
       "      <td>0.0083</td>\n",
       "    </tr>\n",
       "    <tr>\n",
       "      <td>marginal</td>\n",
       "      <td>0.2667</td>\n",
       "      <td>0.2833</td>\n",
       "      <td>0.2083</td>\n",
       "      <td>0.0833</td>\n",
       "      <td>0.0417</td>\n",
       "      <td>0.05</td>\n",
       "      <td>0.025</td>\n",
       "      <td>0.0167</td>\n",
       "      <td>0.0167</td>\n",
       "      <td>0.0083</td>\n",
       "      <td></td>\n",
       "    </tr>\n",
       "  </tbody>\n",
       "</table>\n",
       "</div>"
      ],
      "text/plain": [
       "y              0       1       2       3       4       5       6       7  \\\n",
       "x                                                                          \n",
       "0         0.1083  0.0583  0.0833   0.025       0       0       0       0   \n",
       "1         0.0667     0.1   0.025  0.0167  0.0083  0.0083  0.0083  0.0083   \n",
       "2          0.025    0.05  0.0417  0.0167  0.0083       0  0.0083       0   \n",
       "3         0.0167  0.0167  0.0083  0.0167  0.0083  0.0167       0       0   \n",
       "4          0.025  0.0167  0.0083       0       0  0.0083       0       0   \n",
       "5              0       0  0.0083       0       0       0       0       0   \n",
       "6              0       0  0.0083  0.0083       0  0.0167       0       0   \n",
       "7         0.0083       0  0.0083       0       0       0  0.0083       0   \n",
       "8              0  0.0083       0       0  0.0083       0       0       0   \n",
       "10        0.0083  0.0083       0       0       0       0       0       0   \n",
       "12             0  0.0083       0       0  0.0083       0       0  0.0083   \n",
       "13             0       0  0.0083       0       0       0       0       0   \n",
       "14             0  0.0083       0       0       0       0       0       0   \n",
       "16        0.0083       0       0       0       0       0       0       0   \n",
       "31             0       0  0.0083       0       0       0       0       0   \n",
       "32             0  0.0083       0       0       0       0       0       0   \n",
       "marginal  0.2667  0.2833  0.2083  0.0833  0.0417    0.05   0.025  0.0167   \n",
       "\n",
       "y              8       9 marginal  \n",
       "x                                  \n",
       "0         0.0083  0.0083   0.2917  \n",
       "1         0.0083       0     0.25  \n",
       "2              0       0     0.15  \n",
       "3              0       0   0.0833  \n",
       "4              0       0   0.0583  \n",
       "5              0       0   0.0083  \n",
       "6              0       0   0.0333  \n",
       "7              0       0    0.025  \n",
       "8              0       0   0.0167  \n",
       "10             0       0   0.0167  \n",
       "12             0       0    0.025  \n",
       "13             0       0   0.0083  \n",
       "14             0       0   0.0083  \n",
       "16             0       0   0.0083  \n",
       "31             0       0   0.0083  \n",
       "32             0       0   0.0083  \n",
       "marginal  0.0167  0.0083           "
      ]
     },
     "metadata": {},
     "output_type": "display_data"
    },
    {
     "name": "stdout",
     "output_type": "stream",
     "text": [
      "\n",
      "Producto probabilidades marginales para cada x, y:\n",
      "\n"
     ]
    },
    {
     "data": {
      "text/html": [
       "<div>\n",
       "<style scoped>\n",
       "    .dataframe tbody tr th:only-of-type {\n",
       "        vertical-align: middle;\n",
       "    }\n",
       "\n",
       "    .dataframe tbody tr th {\n",
       "        vertical-align: top;\n",
       "    }\n",
       "\n",
       "    .dataframe thead th {\n",
       "        text-align: right;\n",
       "    }\n",
       "</style>\n",
       "<table border=\"1\" class=\"dataframe\">\n",
       "  <thead>\n",
       "    <tr style=\"text-align: right;\">\n",
       "      <th>y</th>\n",
       "      <th>0</th>\n",
       "      <th>1</th>\n",
       "      <th>2</th>\n",
       "      <th>3</th>\n",
       "      <th>4</th>\n",
       "      <th>5</th>\n",
       "      <th>6</th>\n",
       "      <th>7</th>\n",
       "      <th>8</th>\n",
       "      <th>9</th>\n",
       "    </tr>\n",
       "    <tr>\n",
       "      <th>x</th>\n",
       "      <th></th>\n",
       "      <th></th>\n",
       "      <th></th>\n",
       "      <th></th>\n",
       "      <th></th>\n",
       "      <th></th>\n",
       "      <th></th>\n",
       "      <th></th>\n",
       "      <th></th>\n",
       "      <th></th>\n",
       "    </tr>\n",
       "  </thead>\n",
       "  <tbody>\n",
       "    <tr>\n",
       "      <td>0</td>\n",
       "      <td>0.0778</td>\n",
       "      <td>0.08264</td>\n",
       "      <td>0.06076</td>\n",
       "      <td>0.0243</td>\n",
       "      <td>0.01216</td>\n",
       "      <td>0.01458</td>\n",
       "      <td>0.00729</td>\n",
       "      <td>0.00487</td>\n",
       "      <td>0.00487</td>\n",
       "      <td>0.00242</td>\n",
       "    </tr>\n",
       "    <tr>\n",
       "      <td>1</td>\n",
       "      <td>0.06668</td>\n",
       "      <td>0.07082</td>\n",
       "      <td>0.05208</td>\n",
       "      <td>0.02082</td>\n",
       "      <td>0.01042</td>\n",
       "      <td>0.0125</td>\n",
       "      <td>0.00625</td>\n",
       "      <td>0.00418</td>\n",
       "      <td>0.00418</td>\n",
       "      <td>0.00208</td>\n",
       "    </tr>\n",
       "    <tr>\n",
       "      <td>2</td>\n",
       "      <td>0.04</td>\n",
       "      <td>0.0425</td>\n",
       "      <td>0.03124</td>\n",
       "      <td>0.0125</td>\n",
       "      <td>0.00626</td>\n",
       "      <td>0.0075</td>\n",
       "      <td>0.00375</td>\n",
       "      <td>0.0025</td>\n",
       "      <td>0.0025</td>\n",
       "      <td>0.00124</td>\n",
       "    </tr>\n",
       "    <tr>\n",
       "      <td>3</td>\n",
       "      <td>0.02222</td>\n",
       "      <td>0.0236</td>\n",
       "      <td>0.01735</td>\n",
       "      <td>0.00694</td>\n",
       "      <td>0.00347</td>\n",
       "      <td>0.00417</td>\n",
       "      <td>0.00208</td>\n",
       "      <td>0.00139</td>\n",
       "      <td>0.00139</td>\n",
       "      <td>0.00069</td>\n",
       "    </tr>\n",
       "    <tr>\n",
       "      <td>4</td>\n",
       "      <td>0.01555</td>\n",
       "      <td>0.01652</td>\n",
       "      <td>0.01214</td>\n",
       "      <td>0.00486</td>\n",
       "      <td>0.00243</td>\n",
       "      <td>0.00292</td>\n",
       "      <td>0.00146</td>\n",
       "      <td>0.00097</td>\n",
       "      <td>0.00097</td>\n",
       "      <td>0.00048</td>\n",
       "    </tr>\n",
       "    <tr>\n",
       "      <td>5</td>\n",
       "      <td>0.00221</td>\n",
       "      <td>0.00235</td>\n",
       "      <td>0.00173</td>\n",
       "      <td>0.00069</td>\n",
       "      <td>0.00035</td>\n",
       "      <td>0.00042</td>\n",
       "      <td>0.00021</td>\n",
       "      <td>0.00014</td>\n",
       "      <td>0.00014</td>\n",
       "      <td>7e-05</td>\n",
       "    </tr>\n",
       "    <tr>\n",
       "      <td>6</td>\n",
       "      <td>0.00888</td>\n",
       "      <td>0.00943</td>\n",
       "      <td>0.00694</td>\n",
       "      <td>0.00277</td>\n",
       "      <td>0.00139</td>\n",
       "      <td>0.00167</td>\n",
       "      <td>0.00083</td>\n",
       "      <td>0.00056</td>\n",
       "      <td>0.00056</td>\n",
       "      <td>0.00028</td>\n",
       "    </tr>\n",
       "    <tr>\n",
       "      <td>7</td>\n",
       "      <td>0.00667</td>\n",
       "      <td>0.00708</td>\n",
       "      <td>0.00521</td>\n",
       "      <td>0.00208</td>\n",
       "      <td>0.00104</td>\n",
       "      <td>0.00125</td>\n",
       "      <td>0.00063</td>\n",
       "      <td>0.00042</td>\n",
       "      <td>0.00042</td>\n",
       "      <td>0.00021</td>\n",
       "    </tr>\n",
       "    <tr>\n",
       "      <td>8</td>\n",
       "      <td>0.00445</td>\n",
       "      <td>0.00473</td>\n",
       "      <td>0.00348</td>\n",
       "      <td>0.00139</td>\n",
       "      <td>0.0007</td>\n",
       "      <td>0.00084</td>\n",
       "      <td>0.00042</td>\n",
       "      <td>0.00028</td>\n",
       "      <td>0.00028</td>\n",
       "      <td>0.00014</td>\n",
       "    </tr>\n",
       "    <tr>\n",
       "      <td>10</td>\n",
       "      <td>0.00445</td>\n",
       "      <td>0.00473</td>\n",
       "      <td>0.00348</td>\n",
       "      <td>0.00139</td>\n",
       "      <td>0.0007</td>\n",
       "      <td>0.00084</td>\n",
       "      <td>0.00042</td>\n",
       "      <td>0.00028</td>\n",
       "      <td>0.00028</td>\n",
       "      <td>0.00014</td>\n",
       "    </tr>\n",
       "    <tr>\n",
       "      <td>12</td>\n",
       "      <td>0.00667</td>\n",
       "      <td>0.00708</td>\n",
       "      <td>0.00521</td>\n",
       "      <td>0.00208</td>\n",
       "      <td>0.00104</td>\n",
       "      <td>0.00125</td>\n",
       "      <td>0.00063</td>\n",
       "      <td>0.00042</td>\n",
       "      <td>0.00042</td>\n",
       "      <td>0.00021</td>\n",
       "    </tr>\n",
       "    <tr>\n",
       "      <td>13</td>\n",
       "      <td>0.00221</td>\n",
       "      <td>0.00235</td>\n",
       "      <td>0.00173</td>\n",
       "      <td>0.00069</td>\n",
       "      <td>0.00035</td>\n",
       "      <td>0.00042</td>\n",
       "      <td>0.00021</td>\n",
       "      <td>0.00014</td>\n",
       "      <td>0.00014</td>\n",
       "      <td>7e-05</td>\n",
       "    </tr>\n",
       "    <tr>\n",
       "      <td>14</td>\n",
       "      <td>0.00221</td>\n",
       "      <td>0.00235</td>\n",
       "      <td>0.00173</td>\n",
       "      <td>0.00069</td>\n",
       "      <td>0.00035</td>\n",
       "      <td>0.00042</td>\n",
       "      <td>0.00021</td>\n",
       "      <td>0.00014</td>\n",
       "      <td>0.00014</td>\n",
       "      <td>7e-05</td>\n",
       "    </tr>\n",
       "    <tr>\n",
       "      <td>16</td>\n",
       "      <td>0.00221</td>\n",
       "      <td>0.00235</td>\n",
       "      <td>0.00173</td>\n",
       "      <td>0.00069</td>\n",
       "      <td>0.00035</td>\n",
       "      <td>0.00042</td>\n",
       "      <td>0.00021</td>\n",
       "      <td>0.00014</td>\n",
       "      <td>0.00014</td>\n",
       "      <td>7e-05</td>\n",
       "    </tr>\n",
       "    <tr>\n",
       "      <td>31</td>\n",
       "      <td>0.00221</td>\n",
       "      <td>0.00235</td>\n",
       "      <td>0.00173</td>\n",
       "      <td>0.00069</td>\n",
       "      <td>0.00035</td>\n",
       "      <td>0.00042</td>\n",
       "      <td>0.00021</td>\n",
       "      <td>0.00014</td>\n",
       "      <td>0.00014</td>\n",
       "      <td>7e-05</td>\n",
       "    </tr>\n",
       "    <tr>\n",
       "      <td>32</td>\n",
       "      <td>0.00221</td>\n",
       "      <td>0.00235</td>\n",
       "      <td>0.00173</td>\n",
       "      <td>0.00069</td>\n",
       "      <td>0.00035</td>\n",
       "      <td>0.00042</td>\n",
       "      <td>0.00021</td>\n",
       "      <td>0.00014</td>\n",
       "      <td>0.00014</td>\n",
       "      <td>7e-05</td>\n",
       "    </tr>\n",
       "  </tbody>\n",
       "</table>\n",
       "</div>"
      ],
      "text/plain": [
       "y         0        1        2        3        4        5        6        7  \\\n",
       "x                                                                            \n",
       "0    0.0778  0.08264  0.06076   0.0243  0.01216  0.01458  0.00729  0.00487   \n",
       "1   0.06668  0.07082  0.05208  0.02082  0.01042   0.0125  0.00625  0.00418   \n",
       "2      0.04   0.0425  0.03124   0.0125  0.00626   0.0075  0.00375   0.0025   \n",
       "3   0.02222   0.0236  0.01735  0.00694  0.00347  0.00417  0.00208  0.00139   \n",
       "4   0.01555  0.01652  0.01214  0.00486  0.00243  0.00292  0.00146  0.00097   \n",
       "5   0.00221  0.00235  0.00173  0.00069  0.00035  0.00042  0.00021  0.00014   \n",
       "6   0.00888  0.00943  0.00694  0.00277  0.00139  0.00167  0.00083  0.00056   \n",
       "7   0.00667  0.00708  0.00521  0.00208  0.00104  0.00125  0.00063  0.00042   \n",
       "8   0.00445  0.00473  0.00348  0.00139   0.0007  0.00084  0.00042  0.00028   \n",
       "10  0.00445  0.00473  0.00348  0.00139   0.0007  0.00084  0.00042  0.00028   \n",
       "12  0.00667  0.00708  0.00521  0.00208  0.00104  0.00125  0.00063  0.00042   \n",
       "13  0.00221  0.00235  0.00173  0.00069  0.00035  0.00042  0.00021  0.00014   \n",
       "14  0.00221  0.00235  0.00173  0.00069  0.00035  0.00042  0.00021  0.00014   \n",
       "16  0.00221  0.00235  0.00173  0.00069  0.00035  0.00042  0.00021  0.00014   \n",
       "31  0.00221  0.00235  0.00173  0.00069  0.00035  0.00042  0.00021  0.00014   \n",
       "32  0.00221  0.00235  0.00173  0.00069  0.00035  0.00042  0.00021  0.00014   \n",
       "\n",
       "y         8        9  \n",
       "x                     \n",
       "0   0.00487  0.00242  \n",
       "1   0.00418  0.00208  \n",
       "2    0.0025  0.00124  \n",
       "3   0.00139  0.00069  \n",
       "4   0.00097  0.00048  \n",
       "5   0.00014    7e-05  \n",
       "6   0.00056  0.00028  \n",
       "7   0.00042  0.00021  \n",
       "8   0.00028  0.00014  \n",
       "10  0.00028  0.00014  \n",
       "12  0.00042  0.00021  \n",
       "13  0.00014    7e-05  \n",
       "14  0.00014    7e-05  \n",
       "16  0.00014    7e-05  \n",
       "31  0.00014    7e-05  \n",
       "32  0.00014    7e-05  "
      ]
     },
     "execution_count": 107,
     "metadata": {},
     "output_type": "execute_result"
    }
   ],
   "source": [
    "# Función para contar las apariciones de las palabras especificadas en cada subdivisión del corpus\n",
    "def cuentaEspecifica(tamPalabras, palabra1, palabra2):\n",
    "    cuenta_total = list()\n",
    "    cuenta_parte = {palabra1: 0, palabra2: 0}\n",
    "    palabrasLeidas = 0\n",
    "    nParte = 1\n",
    "    corpus = open('./corpus.txt', 'r')\n",
    "    for linea in corpus:\n",
    "        for palabra in linea.split():\n",
    "            # Contabilizar palabras\n",
    "            if palabra == palabra1:\n",
    "                cuenta_parte[palabra1] += 1\n",
    "            elif palabra == palabra2:\n",
    "                cuenta_parte[palabra2] += 1\n",
    "            palabrasLeidas += 1\n",
    "            # Finalizar revisión parte actual\n",
    "            if palabrasLeidas == (tamPalabras):\n",
    "                # Guardar resultado\n",
    "                copia_parte = cuenta_parte.copy()\n",
    "                cuenta_total.append(copia_parte)\n",
    "                # Resetear variables\n",
    "                cuenta_parte.clear()\n",
    "                cuenta_parte = {palabra1: 0, palabra2: 0}\n",
    "                palabrasLeidas = 0\n",
    "                nParte += 1\n",
    "    corpus.close()\n",
    "    return cuenta_total\n",
    "\n",
    "## Búsqueda de palabras\n",
    "\n",
    "# Cálculo de tamaño según divisiones\n",
    "nDivisiones = 120\n",
    "tamDivisiones = int(nPalabras/nDivisiones)\n",
    "resultados = cuentaEspecifica(tamDivisiones, palabra1, palabra2)\n",
    "\n",
    "# Muestra de resultados\n",
    "indices = ['parte '+str(elem) for elem in list(range(1, len(resultados)+1))]\n",
    "df_res = pd.DataFrame(resultados, index=indices)\n",
    "\n",
    "# DF fdp multivariada\n",
    "df_conjunto = df_res.groupby(by=[palabra1, palabra2]).size().reset_index(name=\"frecuencia\")\n",
    "df_conjunto['prob'] = round(df_conjunto.frecuencia/nDivisiones, 4)\n",
    "\n",
    "# DF fdp marginal palabra 1\n",
    "df_pal1 = df_res.groupby(by=[palabra1]).size().reset_index(name=\"frecuencia\")\n",
    "df_pal1['prob'] = round(df_pal1.frecuencia/nDivisiones , 4)\n",
    "\n",
    "# DF fdp marginal palabra 2\n",
    "df_pal2 = df_res.groupby(by=[palabra2]).size().reset_index(name=\"frecuencia\")\n",
    "df_pal2['prob'] = round(df_pal2.frecuencia/nDivisiones , 4)\n",
    "\n",
    "# Formular dataframe con fdp multivariada\n",
    "# Llenar etiquetas filas y columnas\n",
    "df_fdp = pd.DataFrame(index = df_pal1[palabra1].values, columns = df_pal2[palabra2].values)\n",
    "df_pal1[palabra1].values\n",
    "df_pal2[palabra2].values\n",
    "df_fdp.fillna(0, inplace=True)\n",
    "df_fdp = df_fdp.astype(float)\n",
    "# Llenar datos\n",
    "for index, row in df_conjunto.iterrows():\n",
    "    i, j = row[0], row[1]\n",
    "    prob = row[3]\n",
    "    df_fdp[j][i] = prob\n",
    "df_fdp.rename_axis(index=['x'], columns=['y'], inplace=True)\n",
    "\n",
    "# Llenado de filas, columnas con marginales\n",
    "df_fdp['marginal'] = df_pal1.prob\n",
    "for index, row in df_pal1.iterrows():\n",
    "    fila = row[0]\n",
    "    prob = row[2]\n",
    "    df_fdp['marginal'][fila] = prob\n",
    "df_fdp.loc['marginal'] = df_pal2.prob\n",
    "for index, row in df_pal2.iterrows():\n",
    "    col = row[0]\n",
    "    prob = row[2]\n",
    "    df_fdp[col]['marginal'] = prob\n",
    "\n",
    "# Limpieza resultado\n",
    "df_fdp = df_fdp.astype(str)\n",
    "df_fdp['marginal']['marginal'] = ''\n",
    "df_fdp.replace('0.0', '0', inplace=True)\n",
    "\n",
    "print('\\nFunción de probabilidad conjunta x, y; incluyendo marginales (valores aproximados):\\n')\n",
    "display(df_fdp)\n",
    "\n",
    "# Formulación de multiplicación de marginales\n",
    "df_marginales = df_fdp.copy()\n",
    "df_marginales.drop('marginal', axis=0, inplace=True)\n",
    "df_marginales.drop('marginal', axis=1, inplace=True)\n",
    "for index, row in df_pal1.iterrows():\n",
    "    fila = row[0]\n",
    "    prob_i = row[2]\n",
    "    for index, col in df_pal2.iterrows():\n",
    "        columna = col[0]\n",
    "        prob_j = col[2]\n",
    "        df_marginales[columna][fila] = round(prob_i * prob_j, 5)\n",
    "\n",
    "print('\\nProducto probabilidades marginales para cada x, y:\\n')\n",
    "df_marginales"
   ]
  },
  {
   "cell_type": "markdown",
   "metadata": {},
   "source": [
    "Finalmente, se puede comprobar inicialmente que en la primera matriz que en general al cambiar el valor de y, se obtienen distintas distribuciones para x, por lo que inicialmente no serían independientes.\n",
    "\n",
    "Según la definición de independencia, esto ocurre sí y solo sí: $f(x_i, y_j) = f_x(x_i) \\cdot f_y(y_j), \\forall x_i, y_j$ en el dominio. Pero, viendo los resultados de la primera y segunda matriz, queda claro que aquello no se cumple para todos los valores, por lo que la ocurrencia de 'sleep' y 'remember' no son independientes."
   ]
  },
  {
   "cell_type": "markdown",
   "metadata": {},
   "source": [
    "# 2. MCMC Decryption (40p)\n",
    "\n",
    "La seguridad es un tema que desde tiempos inmemoriables ha sido utilizado en el envío de mensajes. Desde el *shift* de letras en $x$ posiciones hasta algoritmos complejos de encriptación que tienen a los computadores años intentando descifrarlos. Uno de los algoritmos utilizados para encriptar corresponde al de sustitución. Este algoritmo consiste en tener un hash con los pares (llave, valor) donde la letra que corresponde a la llave se reemplaza por la letra que corresponda a valor. Por ejemplo: \n",
    "\n",
    "\n",
    "```Python\n",
    "\n",
    "Llave = \"ITBLPHWZAREJXNFVOUDMCGYKQS\"\n",
    "\n",
    "Mensaje_Original = \"Hola ¿qué tal?\"\n",
    "\n",
    "Mensaje_Encriptado = \"ZFJI OCP MIJ\"  #(notar que se ignoró puntuación y tilde)\n",
    "\n",
    "Llave_Desencriptacion = \"ICUSKOVFALXDTNQEYJZBRPGMWH\"\n",
    "\n",
    "```\n",
    "\n",
    "\n",
    "#### ¿Cómo interpretar la llave? \n",
    "\n",
    "Dada una llave de la forma $x_{1}x_{2}x_{3}\\dots x_{n}$ con $n$ largo del alfabeto inglés (A hasta Z sin Ñ)\n",
    "la primera letra reemplazará a la \"A\", la segunda a \"B\", la tercera a \"C\" y así hasta la \"Z\". \n",
    "\n",
    "**Ejemplo pequeño:** \n",
    "\n",
    "\"ABCD\" lo encriptaré con la siguiente llave \"CADB\", la llave para desencriptar el mensaje es la siguiente \"BDAC\".\n",
    "\n",
    "1. Encripto \"CADA\" con \"CADB\" $\\rightarrow$ \"DCBC\"\n",
    "2. Descencripto \"DCBC\" con \"BDAC\" $\\rightarrow$ \"CADA\"\n",
    "\n",
    "Esta será la nomenclatura que se utilizará al momento de presentar las llaves. \n",
    "\n",
    "#### Problema\n",
    "\n",
    "A usted le han entregado un texto encriptado mediante sustitución, pero no conoce la llave que se utilizó originalmente para encriptarlo. Un enfoque fuerza bruta para descifrarlo implica que usted probará las $26!$ posibles combinaciones para desencriptar el texto. Claramente, probar semejante cantidad lo tendrá esperando una respuesta hasta mucho después de la fecha de entrega del laboratorio. \n",
    "\n",
    "Para resolver este problema se le plantea un método muy útil para resolver este problema en un tiempo mucho más prudente: cadenas de Markov con el método de Montecarlo (MCMC). El procedimiento es el siguiente: \n",
    "\n",
    "##### 1. Analizar Texto del idioma original\n",
    "\n",
    "Es necesario tener una noción de la estructura del lenguaje origen del mensaje. Descifrar un mensaje en chino (5000 caractes que se utilizan en la vida diaria aprox) o descifrar un mensaje en inglés (26 letras solamente) no\n",
    "utilizarán el mismo criterio para detectar estructura. \n",
    "\n",
    "En este caso trabajará con el idioma inglés y deberá buscar un texto en inglés bastante extenso (Corpus) o compilado de textos extensos para analizar las frecuencias. Para el idioma inglés se sugiere contar las frecuencias de a pares de caracteres, solamente utilice las 26 letras y el espacio \" \" para contar frecuencias.\n",
    "Por ejemplo: \"AH\",\" A\", \"A \", \"BA\", (el orden de aparición si importa en este caso). \n",
    "\n",
    "Recuerde que para los lenguajes de programación \"a\" y \"A\" no son lo mismo, pero para efectos del desencriptado sí.\n",
    "\n",
    "#### 2. Métrica de Desempeño \n",
    "\n",
    "El método que se propone consiste en probar llaves de desencriptación aleatorias. Si no se define una forma para comparar una propuesta de otra, se tendrá el mismo proceso que el de probar todas las posibilidades hasta achuntarle. Se creará una métrica de desempeño que asigne un puntaje a cierta llave para ir optando por llaves que tiendan a un mayor puntaje.\n",
    "\n",
    "La métrica que se sugiere es:\n",
    "\n",
    "$$\n",
    " Puntaje = \\prod Frecs(\"Par\")^{Ocurrencias(\"Par\")}\n",
    "$$\n",
    "\n",
    "Donde \"Frecs(\"Par\")\" corresponde a la frecuencia del par (\"AH\" por ejemplo) en el análisis de texto realizado en el paso 1 y \"Ocurrencias(\"Par\")\" corresponde a la frecuencia de dicho par **en el texto desencriptado con la llave propuesta**. Para facilitar los cálculos es recomendable utilizar $log(Puntaje)$ como métrica final. La métrica sugerida es proporcional a la máxima verosimilitud.\n",
    "\n",
    "#### 3. Decisiones \n",
    "\n",
    "Para decidir si nos quedaremos con la solución actual o la solución propuesta haremos lo siguiente: \n",
    "\n",
    "* Si el puntaje de la solución actual es menor que el de la solución propuesta, nuestra propuesta actual será actualizada por la solución propuesta para la siguiente iteración. \n",
    "\n",
    "* Si el puntaje de la solución actual es mayor que el de la solución propuesta, se tirará una moneda cuya probabilidad de **cara** sea $\\frac{Score\\,Propuesta}{Score\\,Actual}$, si sale cara optaremos por la solución propuesta.\n",
    "\n",
    "#### 4. Procedimiento \n",
    "\n",
    "1. Elegimos alguna llave para desencriptar inicial, la que se quiera.\n",
    "2. La llave propuesta será una variación de la llave actual permutando 2 elementos de ésta. \n",
    "3. Se toman las decisiones como el punto \"Decisiones\" indica. \n",
    "4. Repetir 2 y 3 varias veces. Se recomienda iterar 10000 veces o mas.\n",
    "5. Terminadas las iteraciones se retornar el texto desencriptado junto a la llave de desencriptación.\n",
    "\n",
    ">**Importante:** Es posible que al desencriptar el mensaje su resultado final no parezca tener sentido aunque\n",
    "tenga todo bien programado. Esto es debido al azar así que corra su algoritmo unas cuantas veces si el primer\n",
    "resultado no parece tener sentido antes de corregir el código. (En mis intentos, por lo general unas 3-5 veces era suficiente si no funcionaba a la primera). \n",
    "\n",
    "\n",
    "* Los textos encriptados que se le han facilitado se encuentran en el archivo \"cifrados.txt\"\n",
    "* Los textos 1, 2 y 3 fueron encriptados utilizando la misma llave.\n",
    "* El texto 4 es el mismo mensaje del texto 1 pero encriptado con otra llave.\n",
    "* El texto 2 fue escrito originalmente en español (se reemplazó Ñ por N para mantener el tamaño del alfabeto) y los textos 1, 3 y 4 en inglés.\n",
    "\n",
    ">a) Analice la métrica de desempeño y explique lo que intenta lograr ¿Qué es lo que se premia? \n",
    "\n",
    ">b) Desencripte el texto 1 utilizando el método explicado. \n",
    "\n",
    ">c) Desencripte el texto 2 utilizando el método explicado y el **análisis de texto en inglés**. De lo que obtuvo ¿Qué puede decir acerca de desencriptar un lenguaje distinto del analizado? ¿Qué puede decir acerca de la estructura de ambos lenguajes?\n",
    "\n",
    ">d) Desencripte el texto 3 utilizando el método explicado. *Hint: Texto 1*.\n",
    "\n",
    ">e) Desencripte el texto 4 utilizando el método explicado. Compare con lo obtenido en b) ¿La llave que se utiliza para encriptar tiene importancia en el resultado?\n",
    "\n",
    ">f) ¿A qué se debe que al correr varias veces su algoritmo se pueda obtener un mensaje entendible, pero con distintas llaves de desencriptación? ¿Qué puede decir acerca del método, es determinista o estocástico? \n",
    "\n",
    ">g) **Bonus +5** Plantee una estrategia para desencriptar el texto 2 que está en español. Obtendrá otros 5 puntos si logra desencriptarlo, pero recuerde que la Ñ se reemplazó por N.\n",
    "\n",
    "---\n",
    "Es posible que al descifrar le quede un mensaje con pequeños errores, por ejemplo, \"HSTO NO CONCUHRDA\", si este es su caso, puede intentar sacar el mensaje original haciendo estas correcciones a mano. \n",
    "\n",
    "---"
   ]
  },
  {
   "cell_type": "markdown",
   "metadata": {},
   "source": [
    "**Desarrollo 2**\n"
   ]
  },
  {
   "cell_type": "code",
   "execution_count": 108,
   "metadata": {},
   "outputs": [],
   "source": [
    "import random\n",
    "import numpy as np\n",
    "import math\n",
    "from time import time\n",
    "\n",
    "#Almacenamos los textos en 4 diferentes listas\n",
    "archivo = open('cifrados.txt', 'r')\n",
    "texto_1 =[]\n",
    "texto_2 =[]\n",
    "texto_3 =[]\n",
    "texto_4 =[]\n",
    "for linea in archivo:\n",
    "    linea = linea.strip()\n",
    "    if linea == \"Texto 1\":\n",
    "        linea= archivo.readline()\n",
    "        texto_1.append(linea.strip())\n",
    "    if linea == \"Texto 2\":\n",
    "        linea = archivo.readline()\n",
    "        texto_2.append(linea.strip())\n",
    "    if linea == \"Texto 3\":\n",
    "        linea = archivo.readline()\n",
    "        texto_3.append(linea.strip())\n",
    "    if linea == \"Texto 4\":\n",
    "        linea = archivo.readline()\n",
    "        texto_4.append(linea.strip())\n",
    "archivo.close()      \n",
    "\n",
    "#Función que crea llave al azar\n",
    "def crear_llave():\n",
    "    abecedario = 'abcdefghijklmnopqrstuvwxyz'\n",
    "    desordenar = random.sample(abecedario, len(abecedario))\n",
    "    palabra = ''.join(desordenar)\n",
    "    return palabra\n",
    "\n",
    "#Función obtiene una nueva llave según el enunciado\n",
    "def cambiar_llave(llave_actual):\n",
    "    llave=[]\n",
    "    for i in llave_actual:\n",
    "        llave.append(i)\n",
    "        \n",
    "    x= random.randint(0,len(llave_actual)-1)\n",
    "    y= random.randint(0,len(llave_actual)-1)\n",
    "    \n",
    "    while(x==y):\n",
    "        y= random.randint(0,len(llave_actual)-1)\n",
    "    llave[x]= llave_actual[y]\n",
    "    llave[y]= llave_actual[x]\n",
    "    nueva_palabra = ''.join(llave)\n",
    "    return nueva_palabra\n",
    "\n",
    "#Función retorna el texto desencriptado con la llave ingresada\n",
    "def desencriptar(texto,llave):\n",
    "    abecedario = 'abcdefghijklmnopqrstuvwxyz'\n",
    "    #print(llave)\n",
    "    n_text =''\n",
    "    for letra in texto[0]:\n",
    "        if letra == ' ':\n",
    "            n_text = n_text + ' '\n",
    "        else:\n",
    "            indice = llave.index(letra)\n",
    "            n_text = n_text + abecedario[indice]\n",
    "    return n_text\n",
    "        \n",
    "#Función cuenta la ocurrencia de los pares en un texto\n",
    "def contar_pares(text,pares):\n",
    "    i=0\n",
    "    while i <(len(text)-1):\n",
    "        pal = text[i]+text[i+1]\n",
    "        if pal in pares.keys():\n",
    "            pares[pal]+=1\n",
    "        else:\n",
    "            pares[pal]=1\n",
    "        i+=1\n",
    "    return pares\n",
    "\n",
    "#Función para calcular la ocurrencia de pares en el corpus\n",
    "def pares_corpus(corpus):\n",
    "    corpus = open(corpus,\"r\")\n",
    "    dic_corpus={}\n",
    "    for linea in corpus:\n",
    "        linea = linea.strip()\n",
    "        dic_corpus= contar_pares(linea,dic_corpus)\n",
    "    return dic_corpus\n",
    "\n",
    "#Función calcula el puntaje según la métrica\n",
    "def get_puntaje_k(dic_corpus, dic_des):\n",
    "    list_product = []\n",
    "    for k,v in dic_des.items():\n",
    "        potencia =0\n",
    "        if k not in dic_corpus.keys():\n",
    "            valor = 1\n",
    "            list_product.append(valor)\n",
    "        else:       \n",
    "            oc_corpus = dic_corpus[k]\n",
    "            potencia = pow(oc_corpus,v)\n",
    "            list_product.append(potencia)\n",
    "    m = np.prod(list_product, dtype='int64')\n",
    "    return m\n",
    "\n",
    "def get_puntaje(dic_corpus, dic_des):\n",
    "    m=1\n",
    "    for k,v in dic_des.items():\n",
    "        potencia=0\n",
    "        if k in dic_corpus.keys():\n",
    "            oc_corpus = dic_corpus[k]\n",
    "            potencia = pow(oc_corpus,v)\n",
    "            m=m*potencia\n",
    "    return m\n",
    "\n",
    "#Función principal\n",
    "def MCMC_Decryption(texto,dic_corpus,iteraciones):\n",
    "    tiempo_inicial = time() \n",
    "    llave = crear_llave() #Se asigna una llave aleatoria inicial\n",
    "    llave = llave.upper()\n",
    "    text = desencriptar(texto,llave)  #Desencriptar el texto con la llave incial\n",
    "    \n",
    "    #Obtenemos diccionario de ocurrencia para el texto desencriptado\n",
    "    dic_des={}\n",
    "    dic_des = contar_pares(text,dic_des)\n",
    "    #Calculamos el puntaje según la métrica\n",
    "    mejor_puntaje = get_puntaje(dic_corpus, dic_des)\n",
    "    mejor_llave = llave\n",
    "    \n",
    "    \n",
    "\n",
    "    #Realizamos 10.000 iteraciones para encontrar una llave correcta\n",
    "    i=0\n",
    "    while(i<iteraciones):\n",
    "        #mismo procedimiento inicial\n",
    "        llave_propuesta = cambiar_llave(llave)\n",
    "        dic_desi = {}\n",
    "        n_text = desencriptar(texto,llave_propuesta)\n",
    "        dic_desi = contar_pares(n_text, dic_desi)\n",
    "        puntaje = get_puntaje(dic_corpus, dic_desi)\n",
    "        #print(puntaje)\n",
    "        \n",
    "        #Se elige el mejor puntaje hasta el momento y la llave, según enuncidado\n",
    "        if (mejor_puntaje < puntaje):\n",
    "            mejor_puntaje = puntaje\n",
    "            mejor_llave = llave_propuesta\n",
    "            llave = llave_propuesta\n",
    "        else:\n",
    "            #prob\n",
    "            prob = puntaje/mejor_puntaje\n",
    "            elementos = [mejor_puntaje, puntaje]\n",
    "            pesos = [1-prob, prob]\n",
    "            resultado = []\n",
    "            for e, p in zip(elementos, pesos):\n",
    "                resultado += [e] * int(p * 100)\n",
    "            elegido = random.choice(resultado)\n",
    "            if elegido == mejor_puntaje:\n",
    "                mejor_llave = llave\n",
    "            else:\n",
    "                mejor_llave =llave_propuesta\n",
    "                llave = llave_propuesta\n",
    "                mejor_puntaje = puntaje\n",
    "        i+=1\n",
    "    #se muestra el resultado \n",
    "\n",
    "    texto_final = desencriptar(texto,mejor_llave)\n",
    "    print(\"------------------Texto desencriptado------------------\")\n",
    "    print(texto_final)\n",
    "    print(\"-------------------------------------------------------\")\n",
    "    tiempo_final = time() \n",
    "    t_total = tiempo_final-tiempo_inicial\n",
    "    print(\"LLave: \"+ mejor_llave)\n",
    "    print(\"Tiempo ejecución: \" +str(t_total)+\" seg\")\n"
   ]
  },
  {
   "cell_type": "code",
   "execution_count": 109,
   "metadata": {},
   "outputs": [],
   "source": [
    "#creamos diccionario del corpus (ocurrencia de pares) que utilizaremos para las siguientes preguntas\n",
    "dic_corpus = pares_corpus(\"corpus.txt\")"
   ]
  },
  {
   "cell_type": "markdown",
   "metadata": {},
   "source": [
    ">a) Analice la métrica de desempeño y explique lo que intenta lograr ¿Qué es lo que se premia? \n",
    "\n",
    "La metrica de desempeño funciona asignando un puntaje a cada llave, el cual mientras mayor sea representa una semejanza del texto desencriptado con la distribución del texto original.\n",
    "Esto se premia al existir en el texto desencriptado pares de ocurrencia que aparecen en nuestro corpus, el cual corresponde a una correcta representación de los pares de caracteres presentes en el lenguaje sobre el que se desencripta.\n",
    "\n",
    ">b) Desencripte el texto 1 utilizando el método explicado. "
   ]
  },
  {
   "cell_type": "code",
   "execution_count": 110,
   "metadata": {},
   "outputs": [
    {
     "name": "stdout",
     "output_type": "stream",
     "text": [
      "------------------Texto desencriptado------------------\n",
      "hello how are you i am fine thank you i discovered that if you use a shorter text it will diverge and everything won t work you need to use longer encoded text in order for you to get a trustworthy answer of your algorithm  otherwise you ll get a lot of gibberish and feel like it does not work use long texts if possible with a variety of words also remember that if the message contains digits it will be a lot harder to decypher because there is no rule as how to order the digits of a number the possibilities are infinite and remember that the deciphered text does not have to be equal to the original text if you don thave the original encryption key you answer will also vary if the original text uses a wide variety of lettersor not because this affects the objective function you are using  keep all this things in mind\n",
      "-------------------------------------------------------\n",
      "LLave: TFOHBCLXNMUDYGSKWZIVQRAPEJ\n",
      "Tiempo ejecución: 13.04101014137268 seg\n"
     ]
    }
   ],
   "source": [
    "random.seed(100)\n",
    "MCMC_Decryption(texto_1,dic_corpus,10000)"
   ]
  },
  {
   "cell_type": "markdown",
   "metadata": {},
   "source": [
    "Se puede observar una correcta traducción, cabe destacar que en primera instancia el algoritmo funcionó con efectividad en la tercera ejecución, es por esto que se buscó una semilla donde se encontrara de manera inmediata la llave de desencriptación. "
   ]
  },
  {
   "cell_type": "markdown",
   "metadata": {},
   "source": [
    ">c) Desencripte el texto 2 utilizando el método explicado y el **análisis de texto en inglés**. De lo que obtuvo ¿Qué puede decir acerca de desencriptar un lenguaje distinto del analizado? ¿Qué puede decir acerca de la estructura de ambos lenguajes?\n"
   ]
  },
  {
   "cell_type": "code",
   "execution_count": 111,
   "metadata": {},
   "outputs": [
    {
     "name": "stdout",
     "output_type": "stream",
     "text": [
      "------------------Texto desencriptado------------------\n",
      "asta tauto aste ascrito an aspenol  pere no eltarer al eldoritmo htilikera n sin dorrito pere tastaer al eldoritmo  tembian avitera hser tilfas ye wha son cerectaras aspacielas  el fascigrer asta mansexa pofren var como al eldoritmo sa comporte htilikenfo hne ghncion fisanefe pere al indlas an hn mansexa wha gha ascrito oridinelmanta an aspenol  como sa shdiara idnorer le phnthecion solemanta beste con ascribir les orecionas y wha whafa tofo fa menare cevarnicole  pofre al eldoritmo fascigrer asta tauto\n",
      "-------------------------------------------------------\n",
      "LLave: BFOLTHCQNUJDYGSKXZIVPRWMEA\n",
      "Tiempo ejecución: 9.654088973999023 seg\n"
     ]
    }
   ],
   "source": [
    "random.seed(153)\n",
    "MCMC_Decryption(texto_2,dic_corpus,10000)"
   ]
  },
  {
   "cell_type": "markdown",
   "metadata": {},
   "source": [
    "La desencriptación muestra un texto incompletamente desencriptado, donde se pueden identificar algunas pocas palabras. Lo anterior se debe a que utiliza como base las ocurrencias de pares de un texto en inglés. \n",
    "La métrica de puntaje en este caso será más baja ya que los pares de caracteres que se pueden formar en un texto en español se forman en menor cantidad en el idioma inglés.\n",
    "\n",
    "Aún así, como ambos lenguajes comparten el mismo abecedario, existen pares de caracteres que se presentan de manera concurrente en ambos lenguajes.\n",
    "Basta destacar que la diferencia de los lenguajes radica principalmente en que existen varias combinaciones de caracteres que se utilizan en un lenguaje, pero no en el otro."
   ]
  },
  {
   "cell_type": "markdown",
   "metadata": {},
   "source": [
    ">d) Desencripte el texto 3 utilizando el método explicado. *Hint: Texto 1*.\n"
   ]
  },
  {
   "cell_type": "code",
   "execution_count": 112,
   "metadata": {},
   "outputs": [
    {
     "name": "stdout",
     "output_type": "stream",
     "text": [
      "---------------------Texto original--------------------\n",
      "this is a very short english text congratulations you managed to decipher me\n",
      "\n",
      "------------------Texto desencriptado------------------\n",
      "this is a mord shert onglish tout wengratylatiens dey banagof te fowichor bo\n",
      "-------------------------------------------------------\n",
      "LLave: TYKESHLXNUFDRGBMAZIVPWOJQC\n",
      "Tiempo ejecución: 1.4964678287506104 seg\n"
     ]
    }
   ],
   "source": [
    "random.seed(59)\n",
    "print(\"---------------------Texto original--------------------\")\n",
    "texto_k= desencriptar(texto_3, 'TFOHBCLXNMUDYGSKWZIVQRAPEJ')\n",
    "print(texto_k+\"\\n\")\n",
    "\n",
    "MCMC_Decryption(texto_3,dic_corpus,10000)"
   ]
  },
  {
   "cell_type": "markdown",
   "metadata": {},
   "source": [
    "Como se puede observar el texto no logra una correcta desencriptación, se realizarón pruebas de 10.000, 100.000 y 1.000.000 iteraciones y en todas no se logró la desencriptación esperada.\n",
    "\n",
    "Esto era de esperar debido a que al ser un texto más corto no hay suficientes parejas para hacer una tendencia de la ocurrencia de sus carecteres y poder compararlo con la del lenguaje, es decir diverge para textos más cortos.\n"
   ]
  },
  {
   "cell_type": "markdown",
   "metadata": {},
   "source": [
    ">e) Desencripte el texto 4 utilizando el método explicado. Compare con lo obtenido en b) ¿La llave que se utiliza para encriptar tiene importancia en el resultado?\n"
   ]
  },
  {
   "cell_type": "code",
   "execution_count": 113,
   "metadata": {},
   "outputs": [
    {
     "name": "stdout",
     "output_type": "stream",
     "text": [
      "------------------Texto desencriptado------------------\n",
      "hello how are you i am fine thank you i discovered that if you use a shorter text it will diverge and everything won t work you need to use longer encoded text in order for you to get a trustworthy answer of your algorithm  otherwise you ll get a lot of gibberish and feel like it does not work use long texts if possible with a variety of words also remember that if the message contains digits it will be a lot harder to decypher because there is no rule as how to order the digits of a number the possibilities are infinite and remember that the deciphered text does not have to be equal to the original text if you don thave the original encryption key you answer will also vary if the original text uses a wide variety of lettersor not because this affects the objective function you are using  keep all this things in mind\n",
      "-------------------------------------------------------\n",
      "LLave: KTGODJLIFUCEVPAXYWSHBMNRQZ\n",
      "Tiempo ejecución: 12.093395948410034 seg\n"
     ]
    }
   ],
   "source": [
    "random.seed(76)\n",
    "MCMC_Decryption(texto_4,dic_corpus,10000)"
   ]
  },
  {
   "cell_type": "markdown",
   "metadata": {},
   "source": [
    "Luego de encontrar la llave y realizar la desencriptación, podemos observar que el texto original es el mismo que el texto 1, solo que encriptado con una llave diferente.\n",
    "\n",
    "Finalmente la llave que se utiliza no tiene importancia en el resultado, ya que el algoritmo busca una llave de desencriptación en base al texto encriptado entregado. Para cada llave de encriptación se encontrará una llave de desencriptación que vuelva el texto a su originalidad, es decir, el algoritmo encontrará el texto original sin importar la llave de encriptación, tal como se evidencia anteriormente."
   ]
  },
  {
   "cell_type": "markdown",
   "metadata": {},
   "source": [
    ">f) ¿A qué se debe que al correr varias veces su algoritmo se pueda obtener un mensaje entendible, pero con distintas llaves de desencriptación? ¿Qué puede decir acerca del método, es determinista o estocástico? \n",
    "\n"
   ]
  },
  {
   "cell_type": "markdown",
   "metadata": {},
   "source": [
    "Principalmente el tener que correr más de una vez el algoritmo presentado se debe a la aleatoriedad de datos, por ejemplo, la forma en que se crea la primera llave viene dada absolutamente aleatoria con el modulo random de python, la cual implica que cada vez que se ejecute el algoritmo, comenzará de forma diferente.\n",
    "\n",
    "Lo anterior indica que el método de desencriptación utilizado es estocástico, ya que la forma en que se generan las llaves depende de la llave anterior, lo cual se reduce a la primera llave aleatoria, que como se explicó puede ser cualquiera.\n",
    "\n",
    "Para facilitar la ejecución se logró encontrar semillas exactas donde el algoritmo funciona en su primera ejecución, por ejemplo, con $seed(100)$."
   ]
  },
  {
   "cell_type": "markdown",
   "metadata": {},
   "source": [
    ">g) **Bonus +5** Plantee una estrategia para desencriptar el texto 2 que está en español. Obtendrá otros 5 puntos si logra desencriptarlo, pero recuerde que la Ñ se reemplazó por N."
   ]
  },
  {
   "cell_type": "markdown",
   "metadata": {},
   "source": [
    "Principalmente la estrategía corresponde a utilizar un corpus en español, es decir vamos a obtener la ocurrencias de los pares de caracteres presente en el lenguaje.\n",
    "\n",
    "**Obs**: Se reemplaza la Ñ por una N para obtener un corpus adecuado y se quitan los tildes."
   ]
  },
  {
   "cell_type": "code",
   "execution_count": 114,
   "metadata": {},
   "outputs": [
    {
     "name": "stdout",
     "output_type": "stream",
     "text": [
      "------------------Texto desencriptado------------------\n",
      "este texto esta escrito en espanol  para no alterar el algoritmo utilizare n sin gorrito para testear el algoritmo  tambien evitare usar tildes ya que son caracteres especiales  al descifrar este mensahe podran ver como el algoritmo se comporta utilizando una funcion disenada para el ingles en un mensahe que fue escrito originalmente en espanol  como se sugiere ignorar la puntuacion solamente basta con escribir las oraciones y que quede todo de manera cavernicola  podra el algoritmo descifrar este texto\n",
      "-------------------------------------------------------\n",
      "LLave: TFOHBCLMNXADYGSKWZIVQRUPEJ\n",
      "Tiempo ejecución: 7.901542901992798 seg\n"
     ]
    }
   ],
   "source": [
    "random.seed(8)\n",
    "#Creamos diccionario de ocurrencia de pares para el corpus en español\n",
    "dic_corpus_es = pares_corpus(\"corpus-es.txt\")\n",
    "MCMC_Decryption(texto_2,dic_corpus_es,10000)"
   ]
  },
  {
   "cell_type": "markdown",
   "metadata": {},
   "source": [
    "## 3. Regresión Lineal y Bootstrap (30p)\n",
    "\n",
    "### Introducción a Método Bootstrap\n",
    "\n",
    "Suponga que tiene una muestra  <b>M</b> de una población <b>P</b> y esta muestra <b>M</b> es de tamaño <b>N</b>. Queremos obtener algún estimador $ \\theta $ de <b>P</b> a partir de <b>M</b> ya sea la media, varianza, o alguna otra función que interese, obviamente este estimador tendrá un error asociado ya que no es el estimador de la población. Uno de los métodos para determinar intervalos de confianza es el método bootstrap que permite trabajar solamente con una muestra de la población.\n",
    "\n",
    "Podemos entender bootstrap de la siguiente manera: Suponga que tenemos en una bolsa papelitos con cada elemento de la muestra <b>M</b>, sacamos un papelito, <b>lo volvemos a guardar en la bolsa</b> y repetimos este proceso <b>N</b> veces hasta tener una muestra $M^{1*}$ y sobre esta muestra de la muestra aplicamos la función que queremos conocer (media, varianza, etc) teniendo un estimador $ \\theta ^{1*} $ . Luego repetimos este proceso <b>B</b> veces y terminamos con un conjunto de <b>B</b> estimadores. \n",
    "\n",
    "Una forma de construir intervalos de confianza con el método bootstrap es utilizar los percentiles. Si queremos un intervalo de 90% de confianza, utilizamos un intervalo **simétrico** que vaya desde el percentil $X$ hasta el percentil $Y$ de manera que $Y-X = 0.90$. En el ejemplo anterior serían los percentiles 5% y 95%.\n",
    "\n",
    "[Método Bootstrap](https://www.youtube.com/watch?v=ZCXg64l9R_4)\n",
    "\n",
    "### El problema\n",
    "\n",
    "Usted cuenta con un registro histórico del clima de Szeged, Hungría. Tiene datos comprendidos entre el 2006 y 2016, entre ellos están la temperatura (en °C), la humedad, velocidad del viento (Km/h) y la presión (milibar). Usted trabajará con las 4 columnas mencionadas e intentará encontrar alguna relación entre estas variables.\n",
    "\n",
    "[Dataset aqui](https://www.kaggle.com/budincsevity/szeged-weather)\n",
    "\n",
    "> a) Calcule la correlación entre los pares posibles de las 4 columnas mencionadas e indique entre cuáles de ellas hay relación y el tipo de relación.\n",
    "\n",
    "> b) Construya un modelo de regresión lineal donde se utilice la temperatura para predecir la humedad, indique los valores del coeficiente de posición y la pendiente.\n",
    "\n",
    "> c) Construya un intervalo de confianza del 95% para el coeficiente de posición, sin utilizar bootstrap. Construya el mismo intervalo con el método bootstrap utilizando tamaños $\\frac{N}{2}$ y $N$ , ambos se deben realizar $2000$ veces. Compare los 3 intervalos y comente.\n",
    "\n",
    "*Hint: Hay varios modelos involucrados*\n",
    "\n",
    "> d) Un amigo suyo que había trabajado previamente con este conjunto de datos le dijo que no existía relación lineal entre la temperatura y la humedad. Usted decide verificar esto aplicando un test de hipótesis con un 95% de significancia. \n",
    "\n",
    "*Hint: Tiene que ver con la pendiente*\n",
    "\n",
    "> e) Su amigo también le dijo que no existía una relación lineal entre la temperatura y la presión. Usted decide verificar esto aplicando un test de hipótesis con un 95% de significancia.\n",
    "\n",
    "> f) Calcule el [mse](https://es.wikipedia.org/wiki/Error_cuadr%C3%A1tico_medio) del modelo obtenido en b). Se le ha propuesto la opción de realizar 3 modelos utilizando 3 intervalos de temperatura: \n",
    "\n",
    "* $\\left(-\\infty,0\\right]$\n",
    "* $ \\left(0,20\\right]$\n",
    "* $\\left(20,+\\infty \\right]$\n",
    "\n",
    "Utilizando el método propuesto calcule el nuevo $ MSE^{*} = MSE_1 + MSE_2 + MSE_3$ y compárelo con el $MSE_b$ (el de b). ¿Es esta propuesta mejor o peor que la realizada con anterioridad?\n",
    "\n"
   ]
  },
  {
   "cell_type": "markdown",
   "metadata": {},
   "source": [
    "**Desarrollo 3**\n"
   ]
  },
  {
   "cell_type": "markdown",
   "metadata": {},
   "source": [
    "Se procede a calcular el coeficiente de correlación entre todos los pares posibles de las cuatro columnas mencionadas, este coeficiente se calculará bajo la siguiente fórmula:\n",
    "\n",
    "$$\n",
    "\\rho_{X, Y}=\\frac{\\operatorname{cov}(X, Y)}{\\sqrt{\\operatorname{Var}(X)} \\sqrt{\\operatorname{Var}(Y)}}\n",
    "$$\n",
    "\n",
    "El valor del coeficiente de correlación entre el par de datos X,Y , indicará el tipo de relación de estos, de la siguiente forma:\n",
    "\n",
    "*  Si r = 1, existe una correlación positiva perfecta. Relación **directa**\n",
    "*  Si 0 < r < 1, existe una correlación positiva.\n",
    "*  Si r = 0, no existe relación lineal. **Variables son independientes**\n",
    "*  Si -1 < r < 0, existe una correlación negativa.\n",
    "*  Si r = -1, existe una correlación negativa perfecta. Relación **inversa**\n",
    "\n",
    "**Nota:** Si $\\operatorname{cov}(X, Y) = 0 \\Rightarrow  \\rho_{X,Y} = 0$\n",
    "**Nota 2:** Si $\\operatorname{cov}(X, Y) \\Leftrightarrow \\operatorname{cov}(Y, X) $\n"
   ]
  },
  {
   "cell_type": "code",
   "execution_count": 115,
   "metadata": {},
   "outputs": [
    {
     "name": "stdout",
     "output_type": "stream",
     "text": [
      "Coeficientes de correlación\n",
      "\n",
      "Temperatura y Humedad            -0.6322612301502994\n",
      "Temperatura y Velocidad viento   0.008957061208217858\n",
      "Temperatura y Presión            -0.005447162626738259\n",
      "Humedad y Velocidad viento       -0.22495378814304165\n",
      "Humedad y Presión                0.005454319810932627\n",
      "Velocidad viento y Presión       -0.049263316260607384\n"
     ]
    }
   ],
   "source": [
    "#leemos el archivo:\n",
    "we = pd.read_csv(\"weatherHistory.csv\")\n",
    "\n",
    "#columnas\n",
    "temp = we['Temperature (C)'] #temperatura\n",
    "h = we['Humidity'] #humedad\n",
    "v = we['Wind Speed (km/h)'] #velocidad viento\n",
    "p = we['Pressure (millibars)'] #presion\n",
    "\n",
    "#definimos la funcion para el coef de correlación\n",
    "def coef_correlacion(x,y):\n",
    "    cov_xy = np.cov(x,y)[0][1]\n",
    "    if cov_xy == 0:\n",
    "        return 0\n",
    "    else:\n",
    "        var_x = np.var(x)\n",
    "        var_y = np.var(y)\n",
    "        den = np.sqrt(var_x)* np.sqrt(var_y)\n",
    "        return cov_xy/den\n",
    "\n",
    "#Calculamos el coeficiente de correlacion para los pares posibles: (t,h) (t,v) (t,p) (h,v) (h,p) (v,p)\n",
    "\n",
    "print(\"Coeficientes de correlación\\n\")\n",
    "print(\"Temperatura y Humedad            \" + str(coef_correlacion(temp,h))) \n",
    "print(\"Temperatura y Velocidad viento   \" + str(coef_correlacion(temp,v)))\n",
    "print(\"Temperatura y Presión            \" + str(coef_correlacion(temp,p)))\n",
    "print(\"Humedad y Velocidad viento       \" + str(coef_correlacion(h,v)))\n",
    "print(\"Humedad y Presión                \" + str(coef_correlacion(h,p)))\n",
    "print(\"Velocidad viento y Presión       \" + str(coef_correlacion(v,p)))"
   ]
  },
  {
   "cell_type": "markdown",
   "metadata": {},
   "source": [
    "> a) Calcule la correlación entre los pares posibles de las 4 columnas mencionadas e indique entre cuáles de ellas hay relación y el tipo de relación.\n",
    "\n",
    "Según los valores de coeficiente de correlación presentados podemos concluir lo siguiente:\n",
    "\n",
    "*  Relación **inversa** entre temperatura y humedad\n",
    "*  Relación **NO EXISTE** entre temperatura y velocidad del viento\n",
    "*  Relación **NO EXISTE** entre temperatura y presión\n",
    "*  Relación **inversa** entre humedad y velocidad de viento\n",
    "*  Relación **NO EXISTE** entre temperatura y humedad\n",
    "*  Relación **inversa** entre temperatura y humedad\n",
    "\n",
    "> b) Construya un modelo de regresión lineal donde se utilice la temperatura para predecir la humedad, indique los valores del coeficiente de posición y la pendiente.\n",
    "\n",
    "Según lo expuesto en el enunciado se puede deducir que la variable independiente ($X$) será la temperatura, mientras que la variable dependiente ($Y$) será la humedad.\n",
    "\n",
    "Con esto en claro vamos a definir nuestro modelo de regresión lineal, el cual será encontrado mediante dos metodos:\n",
    "\n",
    "*  Calculo de pendiente ($m$) y coeficiente de posición ($b$) en base a las siguientes fórmulas:\n",
    "\n",
    "$$\n",
    "\\begin{array}{c}{m=\\frac{\\sum x \\sum y-n \\sum(x y)}{\\left(\\sum x\\right)^{2}-n \\sum x^{2}}} \\\\ {b=\\bar{y}-m \\bar{x}}\\end{array}\n",
    "$$\n",
    "\n",
    "*  Utilizando la libreria linear_model de sklearn.\n",
    "\n"
   ]
  },
  {
   "cell_type": "code",
   "execution_count": 116,
   "metadata": {},
   "outputs": [
    {
     "name": "stdout",
     "output_type": "stream",
     "text": [
      "Modelo de regresión lineal:\n",
      " Y = -0.012939114669674852X + 0.8892972609552132\n",
      "Gráfica:\n"
     ]
    },
    {
     "data": {
      "image/png": "[encoded data removed]",
      "text/plain": [
       "<Figure size 432x288 with 1 Axes>"
      ]
     },
     "metadata": {},
     "output_type": "display_data"
    }
   ],
   "source": [
    "x = np.array(temp)\n",
    "y = np.array(h)\n",
    "\n",
    "n = len(x) #cantidad de datos\n",
    "\n",
    "sumx = sum(x)\n",
    "sumy = sum(y)\n",
    "suma = 0 \n",
    "for i in y:\n",
    "    suma = suma + i**2\n",
    "sumx2 = sum(x*x)\n",
    "sumy2 = sum(y*y)\n",
    "sumxy = sum(x*y)\n",
    "\n",
    "mean_x = sumx/n\n",
    "mean_y = sumy/n\n",
    "\n",
    "m = (sumx*sumy - n*sumxy) / (sumx**2 - n*sumx2)\n",
    "b = ((mean_y - m*mean_x))\n",
    "\n",
    "print(\"Modelo de regresión lineal:\")\n",
    "print(\" Y = \"+ str(m) + 'X + ' + str(b))\n",
    "print(\"Gráfica:\")\n",
    "\n",
    "plt.plot(x, y, 'o', label = 'Datos')\n",
    "plt.plot(x, m*x +b, label = 'Ajuste')\n",
    "plt.xlabel('Temperatura')\n",
    "plt.ylabel('Humedad')\n",
    "plt.title('Temperatura v/s Humedad')\n",
    "plt.grid()\n",
    "plt.legend()\n",
    "plt.show()\n"
   ]
  },
  {
   "cell_type": "code",
   "execution_count": 117,
   "metadata": {},
   "outputs": [],
   "source": [
    "from sklearn import linear_model\n",
    "from sklearn.metrics import mean_squared_error, r2_score\n",
    "\n",
    "def crear_modelo(data):\n",
    "    datax = data[['Temperature (C)']]\n",
    "    x_train = np.array(datax) \n",
    "    y_train = data['Humidity'].values \n",
    "    \n",
    "    regr = linear_model.LinearRegression()\n",
    "    regr.fit(x_train, y_train) \n",
    "    y_pred = regr.predict(x_train)\n",
    "    m = regr.coef_\n",
    "    b = regr.intercept_\n",
    "    mse = mean_squared_error(y_train, y_pred)\n",
    "\n",
    "    print(\"Modelo de regresión lineal: \")\n",
    "    print(\" Y = \"+ str(m[0]) + 'X + ' + str(b))\n",
    "    print(\"Gráfica:\")\n",
    "    plt.plot(x_train,y_train,'o', label = 'Datos')\n",
    "    plt.plot(x, m*x +b,  label = 'Ajuste')\n",
    "    plt.xlabel('Temperatura')\n",
    "    plt.ylabel('Humedad')\n",
    "    plt.title('Temperatura v/s Humedad')\n",
    "    plt.grid()\n",
    "    plt.legend()\n",
    "    plt.show()\n",
    "\n",
    "    return (m,b,mse)\n"
   ]
  },
  {
   "cell_type": "code",
   "execution_count": 118,
   "metadata": {},
   "outputs": [
    {
     "name": "stdout",
     "output_type": "stream",
     "text": [
      "Modelo de regresión lineal: \n",
      " Y = -0.012939114669679513X + 0.8892972609553139\n",
      "Gráfica:\n"
     ]
    },
    {
     "data": {
      "image/png": "[encoded data removed]",
      "text/plain": [
       "<Figure size 432x288 with 1 Axes>"
      ]
     },
     "metadata": {},
     "output_type": "display_data"
    }
   ],
   "source": [
    "#creamos modelo\n",
    "modelo_b = crear_modelo(we)"
   ]
  },
  {
   "cell_type": "markdown",
   "metadata": {},
   "source": [
    "> c) Construya un intervalo de confianza del 95% para el coeficiente de posición, sin utilizar bootstrap. Construya el mismo intervalo con el método bootstrap utilizando tamaños $\\frac{N}{2}$ y $N$ , ambos se deben realizar $2000$ veces. Compare los 3 intervalos y comente.\n",
    "\n",
    "El primer intervalo de confianza a construir se basará en la teoría la cual dice que un intervalo de confianza de $100(1 − \\alpha)\\%$ para el parámetro $\\alpha$ en la recta de regresión $\\bar{y}=b+m \\bar{x}$ viene dado con la siguiente distribución T.\n",
    "$$\n",
    "T=\\frac{b-b_0}{S \\sqrt{\\sum_{i=1}^{n} x_{i}^{2} /\\left(n S_{x x}\\right)}}\n",
    "$$\n",
    "\n",
    "Donde $b$ corresponde al coeficiente de posición, $b_0$ al valor correspondiente de b en la muestra.\n",
    "Donde $t_{α/2}$ es un valor de la distribución $t$ con $n − 2$ grados de libertad.\n",
    "\n",
    "$$\n",
    "S_{x x}=\\sum_{i=1}^{n}\\left(x_{i}-\\bar{x}\\right)^{2}, \\quad S_{y y}=\\sum_{i=1}^{n}\\left(y_{i}-\\bar{y}\\right)^{2}, \\quad S_{x y}=\\sum_{i=1}^{n}\\left(x_{i}-\\bar{x}\\right)\\left(y_{i}-\\bar{y}\\right)\n",
    "$$\n",
    "\n",
    "Quedando el intervalo de confianza expresado de la siguiente manera:\n",
    "$$\n",
    "b-t_{\\alpha / 2} \\frac{s \\sqrt{\\sum_{i=1}^{n} x_{i}^{2}}}{\\sqrt{n S_{x x}}}<b<b+t_{\\alpha / 2} \\frac{s \\sqrt{\\sum_{i=1}^{n} x_{i}^{2}}}{\\sqrt{n S_{x x}}}$$\n",
    "\n",
    "Mientras que $s$ viene definido del error cuadrático medio :\n",
    "$$\n",
    "s^2 = \\frac{S_{y y}-m S_{x y}}{n-2}\n",
    "$$\n",
    "\n",
    "Donde $m$ es la pendiente que a su vez se puede escribir como $m=S_{x y} / S_{x x}$"
   ]
  },
  {
   "cell_type": "code",
   "execution_count": 119,
   "metadata": {},
   "outputs": [
    {
     "name": "stdout",
     "output_type": "stream",
     "text": [
      "IC teórico para b: [0.8880137102305306,0.8905808116800973]\n"
     ]
    }
   ],
   "source": [
    "import math \n",
    "from scipy.stats import t\n",
    "\n",
    "x = np.array(temp)\n",
    "y = np.array(h)\n",
    "mean_x = np.mean(x)\n",
    "mean_y = np.mean(y)\n",
    "\n",
    "n=len(x)\n",
    "\n",
    "#Se calcula los valores expuestos anteriormente\n",
    "sxx = np.sum((x-mean_x) ** 2)\n",
    "syy = np.sum((y-mean_y) ** 2)\n",
    "sx = np.sum(x-mean_x)\n",
    "sy = np.sum(y-mean_y)\n",
    "\n",
    "#Calcular Sxy\n",
    "sxy= 0\n",
    "i=0\n",
    "while(i<len(x)):\n",
    "    mult = (x[i]- mean_x)*(y[i]- mean_y)\n",
    "    sxy+=mult\n",
    "    i+=1\n",
    "\n",
    "#Se calcula s\n",
    "s2= (syy - (m*sxy))/(n-2)\n",
    "s = np.sqrt(s2)\n",
    "\n",
    "#coeficiente de posición\n",
    "b = modelo_b[1]\n",
    "\n",
    "#Se calcula el intervalo alpha = 0,05\n",
    "alpha = 0.05\n",
    "t_alpha = t.ppf(1-alpha,df=n-2) #t_alpha con n-2 grados de libertad\n",
    "\n",
    "suma_x2 = np.sum(x*x)\n",
    "numerador = np.sqrt(suma_x2) *s\n",
    "nsxx = n*sxx\n",
    "denominador = np.sqrt(nsxx)\n",
    "\n",
    "\n",
    "i_sup = b + (t_alpha * (numerador/denominador))\n",
    "i_inf = b - (t_alpha * (numerador/denominador))\n",
    "\n",
    "print(\"IC teórico para b: \" + \"[\"+str(i_inf)+\",\"+str(i_sup)+\"]\")"
   ]
  },
  {
   "cell_type": "markdown",
   "metadata": {},
   "source": [
    "Para la formulación del intervalo de confianza mediante el método de bootstrap, se utilizará la siguiente función para obtener una distribución correspondiente al coeficiente de posición.\n",
    "$$\n",
    "m=\\frac{\\sum x \\sum y-n \\sum(x y)}{\\left(\\sum x\\right)^{2}-n \\sum x^{2}} (1)\n",
    "$$\n",
    "\n",
    "$$\n",
    "b=\\bar{y}-m \\bar{x} (2)\n",
    "$$\n",
    "\n",
    "\n"
   ]
  },
  {
   "cell_type": "code",
   "execution_count": 120,
   "metadata": {},
   "outputs": [
    {
     "name": "stdout",
     "output_type": "stream",
     "text": [
      "Tiempo ejecución: 133.67259907722473 seg\n",
      "Tiempo ejecución: 58.020155906677246 seg\n"
     ]
    }
   ],
   "source": [
    "#función para obtener valor de b, según teoria\n",
    "def get_b(x,y,n):\n",
    "    sumx = sum(x)\n",
    "    sumy = sum(y)\n",
    "    sumx2 = sum(x*x)\n",
    "    sumxy = sum(x*y)\n",
    "    \n",
    "    mean_x = sumx/n\n",
    "    mean_y = sum(y)/n\n",
    "    m = (sumx*sumy - n*sumxy) / (sumx**2 - n*sumx2)\n",
    "    return((mean_y - m*mean_x))\n",
    "\n",
    "def bootstrap(poblacion, n):\n",
    "    poblacion_b = []\n",
    "    tiempo_inicial = time()\n",
    "    for i in range(1000):\n",
    "        #muestra de la población \n",
    "        muestra = poblacion.sample(n=n, replace=True)\n",
    "        temp = muestra['Temperature (C)']\n",
    "        h = muestra['Humidity']\n",
    "        x = np.array(temp)\n",
    "        y = np.array(h)\n",
    "        b = get_b(x,y,n)\n",
    "        poblacion_b.append(b)\n",
    "    tiempo_final = time() \n",
    "    t_total = tiempo_final-tiempo_inicial\n",
    "    print(\"Tiempo ejecución: \" +str(t_total)+\" seg\")\n",
    "    return poblacion_b\n",
    "\n",
    "#obtenemos la población\n",
    "new = we.iloc[:,[3,5]] #datos temperatura y humedad\n",
    "#bootstrap para n \n",
    "coeficientes_n = bootstrap(new,n)\n",
    "#bootstrap para n/2\n",
    "n2 = n//2\n",
    "coeficientes_nmedio = bootstrap(new,n2)\n"
   ]
  },
  {
   "cell_type": "code",
   "execution_count": 121,
   "metadata": {},
   "outputs": [
    {
     "name": "stdout",
     "output_type": "stream",
     "text": [
      "Intervalo de confianza del 95% para muestra tamaño n : [0.8870252490143021, 0.8875512968108816]\n",
      "Intervalo de confianza del 95% para muestra tamaño n/2 : [0.8862159804061285, 0.8868076898269954]\n"
     ]
    }
   ],
   "source": [
    "coeficientes_n.sort()\n",
    "coeficientes_nmedio.sort()\n",
    "\n",
    "lower95 = np.percentile(coeficientes_n,0.025)\n",
    "upper95 = np.percentile(coeficientes_n,0.975)\n",
    "\n",
    "lower95_2 = np.percentile(coeficientes_nmedio,0.025)\n",
    "upper95_2 = np.percentile(coeficientes_nmedio,0.975)\n",
    "\n",
    "i95 = [lower95, upper95]\n",
    "i95_2 = [lower95_2, upper95_2]\n",
    "print(\"Intervalo de confianza del 95% para muestra tamaño n : \"+str(i95))\n",
    "print(\"Intervalo de confianza del 95% para muestra tamaño n/2 : \"+str(i95_2))"
   ]
  },
  {
   "cell_type": "markdown",
   "metadata": {},
   "source": [
    "Los intervalos son:\n",
    "- Método teórico\n",
    "    - [0.8880129794441468,0.890581542466481]\n",
    "- Bootstrap \n",
    "    - Para $n$ : [0.8866298612714061, 0.8875688152131662]\n",
    "    - Para $n/2$: [0.8859857473581328, 0.8869776740403789]\n",
    "    \n",
    "Se puede observar que en los tres casos el intervalo es coherente respecto al coeficiente de posición encontrado en nuestro modelo de regresión lineal.\n",
    "En base al modelo téorico se puede decir que cubre un intervalo mayor, debido a que la interpretación y cálculo de este contempla los errores asociados a cada variable en cuestión.\n",
    "En bootstrap al diferenciar el tamaño de la muestra de $n$ a $n/2$ se presenta por decirlo un intervalo corrido hacia la izquierda.\n",
    "La distribución utilizada para estos calculos fue de t-student con (n-2) grados de libertad."
   ]
  },
  {
   "cell_type": "markdown",
   "metadata": {},
   "source": [
    "\n",
    "> d) Un amigo suyo que había trabajado previamente con este conjunto de datos le dijo que no existía relación lineal entre la temperatura y la humedad. Usted decide verificar esto aplicando un test de hipótesis con un 95% de significancia. \n",
    "\n",
    "*Hint: Tiene que ver con la pendiente*\n",
    "\n",
    "Se  realizará un test de hipótesis para determinar si existe una relación entre las variables X(temperatura) e Y (humedad) o no, esto se traduce a trabajar con la hipótesis nula (No hay relación entre X e Y): $$ H_{0}: \\hat{m} = 0$$ $$ H_{a}:\\hat{m}\\neq 0$$\n",
    "\n",
    "Donde $\\hat{m}$ corresponde a la pendiende del modelo $\\hat{Y} = \\hat{m}\\cdot X + \\hat{b} $. \n",
    "\n",
    "El valor crítico que determinará si la hipótesis nula se acepta o rechaza viene dado por una distribución de t student de (n-2) grados de libertad. Se obtendra un *p-valor* cuya interpretación correcta permitirá decir si la hipótesis nula se acepta o rechaza.\n",
    "\n",
    "Debemos encontrar un intervalo de confianza para la pendiente y comprobar si pertenece el 0, si es así no existe una relación lineal.\n",
    "\n",
    "\n",
    "El intervalo de confianza para la pendiente viene dada por la siguiente fórmula:\n",
    "\n",
    "$$\n",
    "m-t_{\\alpha / 2} \\frac{s}{\\sqrt{S_{x x}}}<m<m+t_{\\alpha / 2} \\frac{s}{\\sqrt{S_{x x}}}\n",
    "$$\n"
   ]
  },
  {
   "cell_type": "code",
   "execution_count": 122,
   "metadata": {},
   "outputs": [
    {
     "name": "stdout",
     "output_type": "stream",
     "text": [
      "IC para m: [-0.013039179215109664,-0.01283905012424004]\n"
     ]
    }
   ],
   "source": [
    "alpha = 0.05/2\n",
    "t_alpha = t.ppf(1-alpha,df=n-2)\n",
    "\n",
    "i_inf = m - t_alpha*(s/np.sqrt(sxx))\n",
    "i_sup = m + t_alpha*(s/np.sqrt(sxx))\n",
    "\n",
    "print(\"IC para m: \" + \"[\"+str(i_inf)+\",\"+str(i_sup)+\"]\")"
   ]
  },
  {
   "cell_type": "markdown",
   "metadata": {},
   "source": [
    "Podemos ver del intervalo que no comprende el 0, es decir se rechaza $H_0$ con un 95% de certeza, comprobando que si existe una relación lineal entre las variables."
   ]
  },
  {
   "cell_type": "markdown",
   "metadata": {},
   "source": [
    "> e) Su amigo también le dijo que no existía una relación lineal entre la temperatura y la presión. Usted decide verificar esto aplicando un test de hipótesis con un 95% de significancia.\n",
    "\n",
    "Creamos un nuevo modelo de regresión lineal con variable independiente $X$ la temperatura y la variable dependiente $Y$ la presión.\n",
    "\n"
   ]
  },
  {
   "cell_type": "code",
   "execution_count": 123,
   "metadata": {},
   "outputs": [
    {
     "name": "stdout",
     "output_type": "stream",
     "text": [
      "Ecuación lineal representativa del modelo\n",
      "Y = -0.0667062139937273X +1004.0319396555178\n"
     ]
    }
   ],
   "source": [
    "#creamos el modelo \n",
    "datax = we[['Temperature (C)']]\n",
    "x_train = np.array(datax) \n",
    "y_train = we['Pressure (millibars)'].values \n",
    "\n",
    "regr = linear_model.LinearRegression()\n",
    "regr.fit(x_train, y_train) \n",
    "y_pred = regr.predict(x_train)\n",
    "m_e = regr.coef_\n",
    "b_e = regr.intercept_\n",
    "mse_e = mean_squared_error(y_train, y_pred)\n",
    "print(\"Ecuación lineal representativa del modelo\")\n",
    "print(\"Y = \"+str(m_e[0])+\"X \" + \"+\" + str(b_e))"
   ]
  },
  {
   "cell_type": "markdown",
   "metadata": {},
   "source": [
    "Calculamos el intervalo de confianza de la pendiente, para determinar si la hipotesis se cumple.\n",
    "\n",
    "$$ H_{0}: \\hat{m} = 0$$ $$ H_{a}:\\hat{m}\\neq 0$$"
   ]
  },
  {
   "cell_type": "code",
   "execution_count": 124,
   "metadata": {},
   "outputs": [
    {
     "name": "stdout",
     "output_type": "stream",
     "text": [
      "IC para m_1: [-0.1439919553926548,0.010579527405200212]\n"
     ]
    }
   ],
   "source": [
    "#Calculamos el s y Sxx\n",
    "x_1 = np.array(temp)\n",
    "y_1 = np.array(p)\n",
    "\n",
    "#medias\n",
    "mean_x1 = np.mean(x_1)\n",
    "mean_y1 = np.mean(y_1)\n",
    "\n",
    "#Sxx y Syy\n",
    "sxx_1 = np.sum((x_1-mean_x1) ** 2)\n",
    "syy_1 = np.sum((y_1-mean_y1) ** 2)\n",
    "\n",
    "#Sxy\n",
    "sxy_1= 0\n",
    "i=0\n",
    "while(i<len(x_1)):\n",
    "    mult = (x_1[i]- mean_x1)*(y_1[i]- mean_y1)\n",
    "    sxy_1+=mult\n",
    "    i+=1\n",
    "\n",
    "#Se calcula s\n",
    "s2_1= (syy_1 - (m*sxy_1))/(n-2)\n",
    "s_1 = np.sqrt(s2_1)\n",
    "\n",
    "#Calculamos el intervalo de confianza\n",
    "\n",
    "alpha = 0.05/2\n",
    "t_alpha1 = t.ppf(1-alpha,df=n-2)\n",
    "\n",
    "i_inf = m_e[0] - t_alpha1*(s_1/np.sqrt(sxx_1))\n",
    "i_sup = m_e[0] + t_alpha1*(s_1/np.sqrt(sxx_1))\n",
    "\n",
    "print(\"IC para m_1: \" + \"[\"+str(i_inf)+\",\"+str(i_sup)+\"]\")"
   ]
  },
  {
   "cell_type": "markdown",
   "metadata": {},
   "source": [
    "Se puede observar del intervalo obtenido que la hipótesis $H_0$ se cumple, la pendiente puede tomar un valor nulo haciendo que no exista una relación entre las variables.\n",
    "\n",
    "Se puede concluir que no existe una relación lineal entre Temperatura y presión, confirmando lo expuesto en el inciso a), donde el coeficiente de correlación entre las variables dió 0. "
   ]
  },
  {
   "cell_type": "markdown",
   "metadata": {},
   "source": [
    "> f) Calcule el [mse](https://es.wikipedia.org/wiki/Error_cuadr%C3%A1tico_medio) del modelo obtenido en b). Se le ha propuesto la opción de realizar 3 modelos utilizando 3 intervalos de temperatura: \n",
    "\n",
    "* $\\left(-\\infty,0\\right]$\n",
    "* $ \\left(0,20\\right]$\n",
    "* $\\left(20,+\\infty \\right]$"
   ]
  },
  {
   "cell_type": "code",
   "execution_count": 125,
   "metadata": {},
   "outputs": [
    {
     "name": "stdout",
     "output_type": "stream",
     "text": [
      "Error cuadrado medio parte (b): 0.022935223468210423\n",
      "----------------------------------------------------\n",
      "Modelo de regresión lineal: \n",
      " Y = 0.004497601387175279X + 0.8779738315051768\n",
      "Gráfica:\n"
     ]
    },
    {
     "data": {
      "image/png": "[encoded data removed]",
      "text/plain": [
       "<Figure size 432x288 with 1 Axes>"
      ]
     },
     "metadata": {},
     "output_type": "display_data"
    },
    {
     "name": "stdout",
     "output_type": "stream",
     "text": [
      "Modelo de regresión lineal: \n",
      " Y = -0.008742574520792782X + 0.8746070979721229\n",
      "Gráfica:\n"
     ]
    },
    {
     "data": {
      "image/png": "[encoded data removed]",
      "text/plain": [
       "<Figure size 432x288 with 1 Axes>"
      ]
     },
     "metadata": {},
     "output_type": "display_data"
    },
    {
     "name": "stdout",
     "output_type": "stream",
     "text": [
      "Modelo de regresión lineal: \n",
      " Y = -0.024643012332182617X + 1.1304559844190265\n",
      "Gráfica:\n"
     ]
    },
    {
     "data": {
      "image/png": "[encoded data removed]",
      "text/plain": [
       "<Figure size 432x288 with 1 Axes>"
      ]
     },
     "metadata": {},
     "output_type": "display_data"
    },
    {
     "name": "stdout",
     "output_type": "stream",
     "text": [
      "Error cuadrado medio*: 0.05203567104814688\n"
     ]
    }
   ],
   "source": [
    "#calculo de Mean squared error\n",
    "print(\"Error cuadrado medio parte (b): \"+ str(modelo_b[2]))\n",
    "\n",
    "#Creamos data para cada intervalo\n",
    "#para el intervalo (-inf,0]\n",
    "data_i1 = we[we['Temperature (C)']<= 0] #data filtrada con el primer intervalo\n",
    "\n",
    "#para el intervalo (0,20]\n",
    "data_i2 = we[(we['Temperature (C)']> 0) & (we['Temperature (C)'] <= 20)] \n",
    "\n",
    "#para el intervalo (20,+inf]\n",
    "data_i3 = we[we['Temperature (C)']> 20] \n",
    "\n",
    "print(\"----------------------------------------------------\")\n",
    "#calculamos nuevo mse (suma de los mse de los intervalos)\n",
    "nuevo_mse = crear_modelo(data_i1)[2]+ crear_modelo(data_i2)[2]+ crear_modelo(data_i3)[2]\n",
    "print ('Error cuadrado medio*: '+ str(nuevo_mse))"
   ]
  },
  {
   "cell_type": "markdown",
   "metadata": {},
   "source": [
    "**Conclusión (f):** \n",
    "El valor de $MSE^*$ calculado como la suma de los $MSE$ de cada intervalo resulta ser 5,19% aprox.\n",
    "Mientras que el valor del $MSE$ del modelo presentado en el inciso b con intervalo $ (-\\infty, +\\infty)$ es de 2,29%.\n",
    "\n",
    "Esto debido que en el primer intervalo $(-\\infty, 0]$ los datos obtienen una representación lineal con pendiente positiva (observar gráficas presentadas), la cual difiere al comportamiento de la totalidad de los datos haciendo esto de un error mayor."
   ]
  },
  {
   "cell_type": "markdown",
   "metadata": {},
   "source": [
    "## Bonus Section \n",
    "\n",
    "### B.1 NLP (+10)\n",
    "\n",
    "Natural Language Processing (NLP) corresponde al análisis del lenguaje natural para realizar estudios acerca de: análisis de sentimiento, patrones del discurso en la voz para los asistentes (Ok google, Alexa, etc.), entre otros. Debido a su utilidad y complejidad, creó su propia area de inteligencia artificial. En esta sección usted trabajará con algunos aspectos básicos de NLP.\n",
    "\n",
    "Dentro del análisis de patrones en el texto hay una técnica que se llama *Pos Tagging* (Parts of Speech tagging) que corresponde a la asignación de un *tag* a una palabra, estos tags son: sustantivo, verbo, adeverbio, etc. \n",
    "\n",
    "Trabajára con las relaciones \"antes de\" y \"después de\", es decir, utilizará alguna estructura de datos conveniente para almacenar las palabras que vienen antes de $X$ y las que vienen después de $X$.\n",
    "\n",
    "\n",
    "> a) Determine las probabilidades del *tag* sucesor dado el *tag* de la palabra (Pos Tagging). Realice esto para los 3 tags de mayor frecuencia.\n",
    "\n",
    "> b) Determine las probabilidades del *tag* antecesor dado el *tag* de la palabra (Pos Tagging). Realice esto para los mismos tags de e) y comente. ¿Hay alguna relación con lo trabajado en e)?\n",
    "\n",
    "Puede trabajar con 1 solo texto en esta sub-sección, si lo prefiere.\n",
    "\n",
    "----\n",
    "\n",
    "* [POS Tagging en Python](https://www.nltk.org/book/ch05.html)\n",
    "* [POS Tagging en R](https://smart-statistics.com/part-speech-tagging-r/)\n",
    "\n",
    "### B.2 Redes Complejas ft. TLC (+10)\n",
    "\n",
    "En el laboratorio 2 usted conoció un tipo de modelo para generar redes complejas de libre escala. En este laboratorio se le presenta otro tipo de modelo, un poco más básico, cuyo proceso de generación es el siguiente:\n",
    "\n",
    "1. Se inicializa la red con una cantidad fija de nodos $N$ \n",
    "2. Entre cada par de nodos existe una probabilidad $\\rho$ de colocar una arista entre cada par de nodos.\n",
    "\n",
    "Este proceso puede hacerse tanto de forma dirigida como no dirigida. \n",
    "\n",
    "#### Teorema del Límite Central \n",
    "\n",
    "El teorema del límite central es uno de los postulados más importantes de estadística.\n",
    "\n",
    "Sea $x_{1},x_{2},....,x_{n}$ una muestra aleatoria de tamaño $n$ IID extraidas de una distribución con valor esperado $\\mu$ y varianza finita $\\sigma^{2}$. Si calculamos la media muestral: \n",
    "\n",
    "$$ \\bar{X}_{n} = \\frac{\\sum x_{i}}{n}$$\n",
    "\n",
    "Y repetimos este proceso una gran cantidad de veces $(P)$ tendremos una distribución de las medias de las muestras (*Sample mean distribution*). El TLC establece que, si el número de repeticiones es lo suficientemente grande: \n",
    "\n",
    "$$ \\bar{X} \\sim N\\left(\\mu,\\sqrt{\\frac{\\sigma^{2}}{n}}\\right)$$ \n",
    "\n",
    "En esta sección comprobaremos el TLC utilizando el grafo descrito al inicio.\n",
    "\n",
    ">a) Considerando la construcción del grafo ¿A qué distribución corresponde el proceso?\n",
    "\n",
    ">b) En este caso nos interesa la distribución de **Grado Promedio**. En base a lo enunciado en el TLC identifique:\n",
    "\n",
    "* Elementos de la muestra Aleatoria.\n",
    "* La media de la distribución de grado promedio\n",
    "* La varianza/std de la distribución de grado promedio.\n",
    "\n",
    "Tanto para el caso **dirigido** como el **no dirigido**. En el caso dirigido se refiere a grado promedio de entrada y grado promedio de salida.\n",
    "\n",
    "\n",
    ">c) Utilizando un $\\rho$ fijo (a su elección, pero distinto de 0 y 1) genere la distribución de grado utilizando:\n",
    "\n",
    "* 1000 grafos de 5 nodos\n",
    "* 1000 grafos de 50 nodos\n",
    "* 1000 grafos de 500 nodos\n",
    "* 1000 grafos de 1000 nodos\n",
    "\n",
    "**SOLO EN CASO NO DIRIGIDO**\n",
    "\n",
    "Comparando los resultados obtenidos con su respuesta en b) ¿Es posible concluir que el teorema del límite central se cumple tanto para el grafo dirigido como no dirigido?\n"
   ]
  },
  {
   "cell_type": "markdown",
   "metadata": {},
   "source": [
    "### Parte B.1)"
   ]
  },
  {
   "cell_type": "markdown",
   "metadata": {},
   "source": [
    "Para ello, se trabajó con un solo libro (A Tale of Two Cities de Charles Dickens), en donde se identificarán los tags de cada palabra ahí incluida con su frecuencia y las relaciones de antecesor y sucesor entre dichas palabras, para así poder determinar la frecuencia de cada tag antecesor/sucesor para todos los tags específicos. Con dichos valores se calculará la probabilidad deseada.\n",
    "\n",
    "En este trabajo se dejo toda puntuación dentro del corpus para permitir que el procesamiento de lenguaje (de `nltk`) se encargue de identificar adecuadamente la composición de las oraciones y así, los tags correspondientes. Los tags trabajados y que utiliza la librería `nltk` se pueden visualizar en el [siguiente sitio](https://www.ling.upenn.edu/courses/Fall_2003/ling001/penn_treebank_pos.html), quedando la puntuación con su propio tag identificador."
   ]
  },
  {
   "cell_type": "code",
   "execution_count": 10,
   "metadata": {},
   "outputs": [
    {
     "ename": "LookupError",
     "evalue": "\n**********************************************************************\n  Resource \u001b[93mpunkt\u001b[0m not found.\n  Please use the NLTK Downloader to obtain the resource:\n\n  \u001b[31m>>> import nltk\n  >>> nltk.download('punkt')\n  \u001b[0m\n  For more information see: https://www.nltk.org/data.html\n\n  Attempted to load \u001b[93mtokenizers/punkt/PY3/english.pickle\u001b[0m\n\n  Searched in:\n    - '/Users/dmedel/nltk_data'\n    - '/Library/Frameworks/Python.framework/Versions/3.7/nltk_data'\n    - '/Library/Frameworks/Python.framework/Versions/3.7/share/nltk_data'\n    - '/Library/Frameworks/Python.framework/Versions/3.7/lib/nltk_data'\n    - '/usr/share/nltk_data'\n    - '/usr/local/share/nltk_data'\n    - '/usr/lib/nltk_data'\n    - '/usr/local/lib/nltk_data'\n    - ''\n**********************************************************************\n",
     "output_type": "error",
     "traceback": [
      "\u001b[0;31m---------------------------------------------------------------------------\u001b[0m",
      "\u001b[0;31mLookupError\u001b[0m                               Traceback (most recent call last)",
      "\u001b[0;32m<ipython-input-10-c90df391f26f>\u001b[0m in \u001b[0;36m<module>\u001b[0;34m\u001b[0m\n\u001b[1;32m    107\u001b[0m \u001b[0;31m## Main ##\u001b[0m\u001b[0;34m\u001b[0m\u001b[0;34m\u001b[0m\u001b[0;34m\u001b[0m\u001b[0m\n\u001b[1;32m    108\u001b[0m \u001b[0;31m# Obtener palabras y tokens asociados y frecuencias de tokens\u001b[0m\u001b[0;34m\u001b[0m\u001b[0;34m\u001b[0m\u001b[0;34m\u001b[0m\u001b[0m\n\u001b[0;32m--> 109\u001b[0;31m \u001b[0mtokens\u001b[0m\u001b[0;34m,\u001b[0m \u001b[0mfrecuencias\u001b[0m \u001b[0;34m=\u001b[0m \u001b[0mtokenize\u001b[0m\u001b[0;34m(\u001b[0m\u001b[0;34m\"corpus-libro.txt\"\u001b[0m\u001b[0;34m)\u001b[0m\u001b[0;34m\u001b[0m\u001b[0;34m\u001b[0m\u001b[0m\n\u001b[0m\u001b[1;32m    110\u001b[0m \u001b[0;31m# Obtener relaciones antecesor, sucesor\u001b[0m\u001b[0;34m\u001b[0m\u001b[0;34m\u001b[0m\u001b[0;34m\u001b[0m\u001b[0m\n\u001b[1;32m    111\u001b[0m \u001b[0mantes\u001b[0m\u001b[0;34m,\u001b[0m \u001b[0mdespues\u001b[0m \u001b[0;34m=\u001b[0m \u001b[0mrelacionPalabras\u001b[0m\u001b[0;34m(\u001b[0m\u001b[0;34m\"corpus-libro.txt\"\u001b[0m\u001b[0;34m)\u001b[0m\u001b[0;34m\u001b[0m\u001b[0;34m\u001b[0m\u001b[0m\n",
      "\u001b[0;32m<ipython-input-10-c90df391f26f>\u001b[0m in \u001b[0;36mtokenize\u001b[0;34m(nombreArchivo)\u001b[0m\n\u001b[1;32m     10\u001b[0m     \u001b[0;32mfor\u001b[0m \u001b[0mlinea\u001b[0m \u001b[0;32min\u001b[0m \u001b[0mcorpus\u001b[0m\u001b[0;34m:\u001b[0m\u001b[0;34m\u001b[0m\u001b[0;34m\u001b[0m\u001b[0m\n\u001b[1;32m     11\u001b[0m         \u001b[0;31m# Extraer tags\u001b[0m\u001b[0;34m\u001b[0m\u001b[0;34m\u001b[0m\u001b[0;34m\u001b[0m\u001b[0m\n\u001b[0;32m---> 12\u001b[0;31m         \u001b[0mtokens\u001b[0m \u001b[0;34m=\u001b[0m \u001b[0mnltk\u001b[0m\u001b[0;34m.\u001b[0m\u001b[0mword_tokenize\u001b[0m\u001b[0;34m(\u001b[0m\u001b[0mlinea\u001b[0m\u001b[0;34m)\u001b[0m\u001b[0;34m\u001b[0m\u001b[0;34m\u001b[0m\u001b[0m\n\u001b[0m\u001b[1;32m     13\u001b[0m         \u001b[0mtags\u001b[0m \u001b[0;34m=\u001b[0m \u001b[0mnltk\u001b[0m\u001b[0;34m.\u001b[0m\u001b[0mpos_tag\u001b[0m\u001b[0;34m(\u001b[0m\u001b[0mtokens\u001b[0m\u001b[0;34m)\u001b[0m\u001b[0;34m\u001b[0m\u001b[0;34m\u001b[0m\u001b[0m\n\u001b[1;32m     14\u001b[0m         \u001b[0;31m# Palabra, tag obtenidos\u001b[0m\u001b[0;34m\u001b[0m\u001b[0;34m\u001b[0m\u001b[0;34m\u001b[0m\u001b[0m\n",
      "\u001b[0;32m~/Library/Python/3.7/lib/python/site-packages/nltk/tokenize/__init__.py\u001b[0m in \u001b[0;36mword_tokenize\u001b[0;34m(text, language, preserve_line)\u001b[0m\n\u001b[1;32m    142\u001b[0m     \u001b[0;34m:\u001b[0m\u001b[0mtype\u001b[0m \u001b[0mpreserve_line\u001b[0m\u001b[0;34m:\u001b[0m \u001b[0mbool\u001b[0m\u001b[0;34m\u001b[0m\u001b[0;34m\u001b[0m\u001b[0m\n\u001b[1;32m    143\u001b[0m     \"\"\"\n\u001b[0;32m--> 144\u001b[0;31m     \u001b[0msentences\u001b[0m \u001b[0;34m=\u001b[0m \u001b[0;34m[\u001b[0m\u001b[0mtext\u001b[0m\u001b[0;34m]\u001b[0m \u001b[0;32mif\u001b[0m \u001b[0mpreserve_line\u001b[0m \u001b[0;32melse\u001b[0m \u001b[0msent_tokenize\u001b[0m\u001b[0;34m(\u001b[0m\u001b[0mtext\u001b[0m\u001b[0;34m,\u001b[0m \u001b[0mlanguage\u001b[0m\u001b[0;34m)\u001b[0m\u001b[0;34m\u001b[0m\u001b[0;34m\u001b[0m\u001b[0m\n\u001b[0m\u001b[1;32m    145\u001b[0m     return [\n\u001b[1;32m    146\u001b[0m         \u001b[0mtoken\u001b[0m \u001b[0;32mfor\u001b[0m \u001b[0msent\u001b[0m \u001b[0;32min\u001b[0m \u001b[0msentences\u001b[0m \u001b[0;32mfor\u001b[0m \u001b[0mtoken\u001b[0m \u001b[0;32min\u001b[0m \u001b[0m_treebank_word_tokenizer\u001b[0m\u001b[0;34m.\u001b[0m\u001b[0mtokenize\u001b[0m\u001b[0;34m(\u001b[0m\u001b[0msent\u001b[0m\u001b[0;34m)\u001b[0m\u001b[0;34m\u001b[0m\u001b[0;34m\u001b[0m\u001b[0m\n",
      "\u001b[0;32m~/Library/Python/3.7/lib/python/site-packages/nltk/tokenize/__init__.py\u001b[0m in \u001b[0;36msent_tokenize\u001b[0;34m(text, language)\u001b[0m\n\u001b[1;32m    103\u001b[0m     \u001b[0;34m:\u001b[0m\u001b[0mparam\u001b[0m \u001b[0mlanguage\u001b[0m\u001b[0;34m:\u001b[0m \u001b[0mthe\u001b[0m \u001b[0mmodel\u001b[0m \u001b[0mname\u001b[0m \u001b[0;32min\u001b[0m \u001b[0mthe\u001b[0m \u001b[0mPunkt\u001b[0m \u001b[0mcorpus\u001b[0m\u001b[0;34m\u001b[0m\u001b[0;34m\u001b[0m\u001b[0m\n\u001b[1;32m    104\u001b[0m     \"\"\"\n\u001b[0;32m--> 105\u001b[0;31m     \u001b[0mtokenizer\u001b[0m \u001b[0;34m=\u001b[0m \u001b[0mload\u001b[0m\u001b[0;34m(\u001b[0m\u001b[0;34m'tokenizers/punkt/{0}.pickle'\u001b[0m\u001b[0;34m.\u001b[0m\u001b[0mformat\u001b[0m\u001b[0;34m(\u001b[0m\u001b[0mlanguage\u001b[0m\u001b[0;34m)\u001b[0m\u001b[0;34m)\u001b[0m\u001b[0;34m\u001b[0m\u001b[0;34m\u001b[0m\u001b[0m\n\u001b[0m\u001b[1;32m    106\u001b[0m     \u001b[0;32mreturn\u001b[0m \u001b[0mtokenizer\u001b[0m\u001b[0;34m.\u001b[0m\u001b[0mtokenize\u001b[0m\u001b[0;34m(\u001b[0m\u001b[0mtext\u001b[0m\u001b[0;34m)\u001b[0m\u001b[0;34m\u001b[0m\u001b[0;34m\u001b[0m\u001b[0m\n\u001b[1;32m    107\u001b[0m \u001b[0;34m\u001b[0m\u001b[0m\n",
      "\u001b[0;32m~/Library/Python/3.7/lib/python/site-packages/nltk/data.py\u001b[0m in \u001b[0;36mload\u001b[0;34m(resource_url, format, cache, verbose, logic_parser, fstruct_reader, encoding)\u001b[0m\n\u001b[1;32m    866\u001b[0m \u001b[0;34m\u001b[0m\u001b[0m\n\u001b[1;32m    867\u001b[0m     \u001b[0;31m# Load the resource.\u001b[0m\u001b[0;34m\u001b[0m\u001b[0;34m\u001b[0m\u001b[0;34m\u001b[0m\u001b[0m\n\u001b[0;32m--> 868\u001b[0;31m     \u001b[0mopened_resource\u001b[0m \u001b[0;34m=\u001b[0m \u001b[0m_open\u001b[0m\u001b[0;34m(\u001b[0m\u001b[0mresource_url\u001b[0m\u001b[0;34m)\u001b[0m\u001b[0;34m\u001b[0m\u001b[0;34m\u001b[0m\u001b[0m\n\u001b[0m\u001b[1;32m    869\u001b[0m \u001b[0;34m\u001b[0m\u001b[0m\n\u001b[1;32m    870\u001b[0m     \u001b[0;32mif\u001b[0m \u001b[0mformat\u001b[0m \u001b[0;34m==\u001b[0m \u001b[0;34m'raw'\u001b[0m\u001b[0;34m:\u001b[0m\u001b[0;34m\u001b[0m\u001b[0;34m\u001b[0m\u001b[0m\n",
      "\u001b[0;32m~/Library/Python/3.7/lib/python/site-packages/nltk/data.py\u001b[0m in \u001b[0;36m_open\u001b[0;34m(resource_url)\u001b[0m\n\u001b[1;32m    991\u001b[0m \u001b[0;34m\u001b[0m\u001b[0m\n\u001b[1;32m    992\u001b[0m     \u001b[0;32mif\u001b[0m \u001b[0mprotocol\u001b[0m \u001b[0;32mis\u001b[0m \u001b[0;32mNone\u001b[0m \u001b[0;32mor\u001b[0m \u001b[0mprotocol\u001b[0m\u001b[0;34m.\u001b[0m\u001b[0mlower\u001b[0m\u001b[0;34m(\u001b[0m\u001b[0;34m)\u001b[0m \u001b[0;34m==\u001b[0m \u001b[0;34m'nltk'\u001b[0m\u001b[0;34m:\u001b[0m\u001b[0;34m\u001b[0m\u001b[0;34m\u001b[0m\u001b[0m\n\u001b[0;32m--> 993\u001b[0;31m         \u001b[0;32mreturn\u001b[0m \u001b[0mfind\u001b[0m\u001b[0;34m(\u001b[0m\u001b[0mpath_\u001b[0m\u001b[0;34m,\u001b[0m \u001b[0mpath\u001b[0m \u001b[0;34m+\u001b[0m \u001b[0;34m[\u001b[0m\u001b[0;34m''\u001b[0m\u001b[0;34m]\u001b[0m\u001b[0;34m)\u001b[0m\u001b[0;34m.\u001b[0m\u001b[0mopen\u001b[0m\u001b[0;34m(\u001b[0m\u001b[0;34m)\u001b[0m\u001b[0;34m\u001b[0m\u001b[0;34m\u001b[0m\u001b[0m\n\u001b[0m\u001b[1;32m    994\u001b[0m     \u001b[0;32melif\u001b[0m \u001b[0mprotocol\u001b[0m\u001b[0;34m.\u001b[0m\u001b[0mlower\u001b[0m\u001b[0;34m(\u001b[0m\u001b[0;34m)\u001b[0m \u001b[0;34m==\u001b[0m \u001b[0;34m'file'\u001b[0m\u001b[0;34m:\u001b[0m\u001b[0;34m\u001b[0m\u001b[0;34m\u001b[0m\u001b[0m\n\u001b[1;32m    995\u001b[0m         \u001b[0;31m# urllib might not use mode='rb', so handle this one ourselves:\u001b[0m\u001b[0;34m\u001b[0m\u001b[0;34m\u001b[0m\u001b[0;34m\u001b[0m\u001b[0m\n",
      "\u001b[0;32m~/Library/Python/3.7/lib/python/site-packages/nltk/data.py\u001b[0m in \u001b[0;36mfind\u001b[0;34m(resource_name, paths)\u001b[0m\n\u001b[1;32m    699\u001b[0m     \u001b[0msep\u001b[0m \u001b[0;34m=\u001b[0m \u001b[0;34m'*'\u001b[0m \u001b[0;34m*\u001b[0m \u001b[0;36m70\u001b[0m\u001b[0;34m\u001b[0m\u001b[0;34m\u001b[0m\u001b[0m\n\u001b[1;32m    700\u001b[0m     \u001b[0mresource_not_found\u001b[0m \u001b[0;34m=\u001b[0m \u001b[0;34m'\\n%s\\n%s\\n%s\\n'\u001b[0m \u001b[0;34m%\u001b[0m \u001b[0;34m(\u001b[0m\u001b[0msep\u001b[0m\u001b[0;34m,\u001b[0m \u001b[0mmsg\u001b[0m\u001b[0;34m,\u001b[0m \u001b[0msep\u001b[0m\u001b[0;34m)\u001b[0m\u001b[0;34m\u001b[0m\u001b[0;34m\u001b[0m\u001b[0m\n\u001b[0;32m--> 701\u001b[0;31m     \u001b[0;32mraise\u001b[0m \u001b[0mLookupError\u001b[0m\u001b[0;34m(\u001b[0m\u001b[0mresource_not_found\u001b[0m\u001b[0;34m)\u001b[0m\u001b[0;34m\u001b[0m\u001b[0;34m\u001b[0m\u001b[0m\n\u001b[0m\u001b[1;32m    702\u001b[0m \u001b[0;34m\u001b[0m\u001b[0m\n\u001b[1;32m    703\u001b[0m \u001b[0;34m\u001b[0m\u001b[0m\n",
      "\u001b[0;31mLookupError\u001b[0m: \n**********************************************************************\n  Resource \u001b[93mpunkt\u001b[0m not found.\n  Please use the NLTK Downloader to obtain the resource:\n\n  \u001b[31m>>> import nltk\n  >>> nltk.download('punkt')\n  \u001b[0m\n  For more information see: https://www.nltk.org/data.html\n\n  Attempted to load \u001b[93mtokenizers/punkt/PY3/english.pickle\u001b[0m\n\n  Searched in:\n    - '/Users/dmedel/nltk_data'\n    - '/Library/Frameworks/Python.framework/Versions/3.7/nltk_data'\n    - '/Library/Frameworks/Python.framework/Versions/3.7/share/nltk_data'\n    - '/Library/Frameworks/Python.framework/Versions/3.7/lib/nltk_data'\n    - '/usr/share/nltk_data'\n    - '/usr/local/share/nltk_data'\n    - '/usr/lib/nltk_data'\n    - '/usr/local/lib/nltk_data'\n    - ''\n**********************************************************************\n"
     ]
    }
   ],
   "source": [
    "import nltk\n",
    "import collections\n",
    "\n",
    "\n",
    "# Función para relacionar palabras con sus tags apropiados y contar frecuencia de cada tag\n",
    "def tokenize(nombreArchivo):\n",
    "    corpus = open('./'+nombreArchivo, 'r')\n",
    "    frecuencias = dict()\n",
    "    palabra_tokens = dict()\n",
    "    for linea in corpus:\n",
    "        # Extraer tags\n",
    "        tokens = nltk.word_tokenize(linea)\n",
    "        tags = nltk.pos_tag(tokens)\n",
    "        # Palabra, tag obtenidos\n",
    "        for pal, tag in tags:\n",
    "            # Palabra nueva\n",
    "            if pal not in palabra_tokens.keys():\n",
    "                palabra_tokens[pal] = tag\n",
    "            # Tag nuevo\n",
    "            if tag not in frecuencias.keys():\n",
    "                frecuencias[tag] = 1\n",
    "            else:\n",
    "                frecuencias[tag] += 1\n",
    "    corpus.close()\n",
    "    return palabra_tokens, frecuencias\n",
    "\n",
    "# Función para identificar antecesores y sucesores de cada palabra\n",
    "def relacionPalabras(nombreArchivo):\n",
    "    corpus = open('./'+nombreArchivo, 'r')\n",
    "    antes_de = dict()\n",
    "    despues_de = dict()\n",
    "    primeros=0\n",
    "    anterior = \"\"\n",
    "    ante_anterior = \"\"\n",
    "    palabra = \"\"\n",
    "    for linea in corpus:\n",
    "        # Leer cada palabra\n",
    "        tokens = nltk.word_tokenize(linea)\n",
    "        for palabra in tokens:\n",
    "            # Palabras nuevas\n",
    "            if palabra not in antes_de:\n",
    "                antes_de[palabra] = []\n",
    "                despues_de[palabra] = []\n",
    "            # Caso base, asignar primeros valores\n",
    "            if (primeros==0):\n",
    "                if ante_anterior != \"\":\n",
    "                    primeros = 1\n",
    "                    despues_de[ante_anterior].append(anterior)\n",
    "                    antes_de[anterior].append(ante_anterior)\n",
    "                    despues_de[anterior].append(palabra)\n",
    "            # Caso general, asignar en palabra intermedia\n",
    "            else:\n",
    "                antes_de[anterior].append(ante_anterior)\n",
    "                despues_de[anterior].append(palabra)\n",
    "            # Actualizar palabras\n",
    "            ante_anterior = anterior\n",
    "            anterior = palabra\n",
    "    # Caso final\n",
    "    despues_de[ante_anterior].append(anterior)\n",
    "    antes_de[anterior].append(ante_anterior)\n",
    "    despues_de[anterior].append(palabra)\n",
    "    antes_de[palabra].append(anterior)\n",
    "    corpus.close()\n",
    "    return antes_de, despues_de\n",
    "\n",
    "# Función para realizar conteo de frecuencia de los tags antecesores/sucesores de cada tag\n",
    "# diccionario viene en palabras, tokens incluye la relación palabra - tag\n",
    "def contarTags(diccionario, tokens):\n",
    "    tags_generales=dict()\n",
    "    for key, values in diccionario.items():\n",
    "        # Extraer tags de palabras\n",
    "        tags = []\n",
    "        for pal in values:\n",
    "            tag = tokens[pal]\n",
    "            tags.append(tag)\n",
    "        # Contar total\n",
    "        freq_tags = dict()\n",
    "        freq_tags = {x: tags.count(x) for x in tags}\n",
    "        # Si no hay tag en los anteriores\n",
    "        if tag not in tags_generales.keys():\n",
    "            tags_generales[tag] = freq_tags\n",
    "        else:\n",
    "            actual = tags_generales[tag]\n",
    "            lista = [actual, freq_tags]\n",
    "            # Unir y sumar diccionario con tags actuales y nuevos\n",
    "            counter = collections.Counter() \n",
    "            for d in lista:  \n",
    "                counter.update(d) \n",
    "            result = dict(counter) \n",
    "            tags_generales[tag] = result\n",
    "    return(tags_generales)\n",
    "\n",
    "# Función para calcular la probabilidad de los tags (antecesores o sucesores) de un tag específico\n",
    "def probabilidadTag(diccionario, tagObjetivo):\n",
    "    tagsActuales = diccionario[tagObjetivo]\n",
    "    totalTags = 0\n",
    "    probabilidades = dict()\n",
    "    # Contar frecuencias\n",
    "    for tagKey, frec in tagsActuales.items():\n",
    "        totalTags += frec\n",
    "        probabilidades[tagKey] = 0\n",
    "    # Calculo probabilidad\n",
    "    for tagKey, frec in tagsActuales.items():\n",
    "        probabilidades[tagKey] = round(frec/totalTags, 5)\n",
    "    return probabilidades\n",
    "\n",
    "## Main ##\n",
    "# Obtener palabras y tokens asociados y frecuencias de tokens\n",
    "tokens, frecuencias = tokenize(\"corpus-libro.txt\")\n",
    "# Obtener relaciones antecesor, sucesor\n",
    "antes, despues = relacionPalabras(\"corpus-libro.txt\")\n",
    "# Conteo de tags antecesores, sucesores\n",
    "tagsAntes = contarTags(antes, tokens)\n",
    "tagsDespues = contarTags(despues, tokens)\n",
    "# Ordernar frecuencias\n",
    "ordenado = sorted(frecuencias.items(), key=lambda x: x[1], reverse=True)\n",
    "# Obtener top 3 tags\n",
    "tag1 = ordenado[0][0]\n",
    "tag2 = ordenado[1][0]\n",
    "tag3 = ordenado[2][0]\n",
    "# Gráfico frecuencias\n",
    "df_tags = pd.DataFrame(ordenado, columns=[\"tag\", \"frecuencia\"])\n",
    "plt.bar(df_tags['tag'].head(10), df_tags.head(10)['frecuencia'].tolist(), align='center')\n",
    "plt.title('Top 10 tags con mayores frecuencias')\n",
    "plt.ylabel('Frecuencia')\n",
    "plt.xlabel('Tags')\n",
    "plt.show()"
   ]
  },
  {
   "cell_type": "markdown",
   "metadata": {},
   "source": [
    "### Parte B.1.a)\n",
    "Así, los 3 tags con mayor frecuencia y que se estudiarán corresponden a: NN (sustantivos), IN (preposiciones) y DT (determinantes). Luego, se busca las probabilidades de los tags sucesores para cada uno de ellos."
   ]
  },
  {
   "cell_type": "code",
   "execution_count": 11,
   "metadata": {},
   "outputs": [
    {
     "ename": "NameError",
     "evalue": "name 'tagsDespues' is not defined",
     "output_type": "error",
     "traceback": [
      "\u001b[0;31m---------------------------------------------------------------------------\u001b[0m",
      "\u001b[0;31mNameError\u001b[0m                                 Traceback (most recent call last)",
      "\u001b[0;32m<ipython-input-11-475706f99209>\u001b[0m in \u001b[0;36m<module>\u001b[0;34m\u001b[0m\n\u001b[1;32m      1\u001b[0m \u001b[0;31m# Cálculo de probabilidades\u001b[0m\u001b[0;34m\u001b[0m\u001b[0;34m\u001b[0m\u001b[0;34m\u001b[0m\u001b[0m\n\u001b[0;32m----> 2\u001b[0;31m \u001b[0mprob_despues1\u001b[0m \u001b[0;34m=\u001b[0m \u001b[0mprobabilidadTag\u001b[0m\u001b[0;34m(\u001b[0m\u001b[0mtagsDespues\u001b[0m\u001b[0;34m,\u001b[0m \u001b[0mtag1\u001b[0m\u001b[0;34m)\u001b[0m\u001b[0;34m\u001b[0m\u001b[0;34m\u001b[0m\u001b[0m\n\u001b[0m\u001b[1;32m      3\u001b[0m \u001b[0mprob_despues2\u001b[0m \u001b[0;34m=\u001b[0m \u001b[0mprobabilidadTag\u001b[0m\u001b[0;34m(\u001b[0m\u001b[0mtagsDespues\u001b[0m\u001b[0;34m,\u001b[0m \u001b[0mtag2\u001b[0m\u001b[0;34m)\u001b[0m\u001b[0;34m\u001b[0m\u001b[0;34m\u001b[0m\u001b[0m\n\u001b[1;32m      4\u001b[0m \u001b[0mprob_despues3\u001b[0m \u001b[0;34m=\u001b[0m \u001b[0mprobabilidadTag\u001b[0m\u001b[0;34m(\u001b[0m\u001b[0mtagsDespues\u001b[0m\u001b[0;34m,\u001b[0m \u001b[0mtag3\u001b[0m\u001b[0;34m)\u001b[0m\u001b[0;34m\u001b[0m\u001b[0;34m\u001b[0m\u001b[0m\n\u001b[1;32m      5\u001b[0m \u001b[0;31m# Gráfico probabilidades antecesor dado tag 1\u001b[0m\u001b[0;34m\u001b[0m\u001b[0;34m\u001b[0m\u001b[0;34m\u001b[0m\u001b[0m\n",
      "\u001b[0;31mNameError\u001b[0m: name 'tagsDespues' is not defined"
     ]
    }
   ],
   "source": [
    "# Cálculo de probabilidades\n",
    "prob_despues1 = probabilidadTag(tagsDespues, tag1)\n",
    "prob_despues2 = probabilidadTag(tagsDespues, tag2)\n",
    "prob_despues3 = probabilidadTag(tagsDespues, tag3)\n",
    "# Gráfico probabilidades antecesor dado tag 1\n",
    "print(\"Probabilidades de tags sucesores dado tag\", tag1, \": (de mayor a menor)\")\n",
    "df_despues1 = pd.DataFrame(prob_despues1.items(), columns=[\"tag\", \"probabilidad\"])\n",
    "df_despues1.sort_values(by=['probabilidad'], ascending=False, inplace=True)\n",
    "display(df_despues1)\n",
    "# Gráfico probabilidades antecesor dado tag 2\n",
    "print(\"Probabilidades de tags sucesores dado tag\", tag2, \": (de mayor a menor)\")\n",
    "df_despues2 = pd.DataFrame(prob_despues2.items(), columns=[\"tag\", \"probabilidad\"])\n",
    "df_despues2.sort_values(by=['probabilidad'], ascending=False, inplace=True)\n",
    "display(df_despues2)\n",
    "# Gráfico probabilidades antecesor dado tag 1\n",
    "print(\"Probabilidades de tags sucesores dado tag\", tag3, \": (de mayor a menor)\")\n",
    "df_despues3 = pd.DataFrame(prob_despues3.items(), columns=[\"tag\", \"probabilidad\"])\n",
    "df_despues3.sort_values(by=['probabilidad'], ascending=False, inplace=True)\n",
    "display(df_despues3)"
   ]
  },
  {
   "cell_type": "markdown",
   "metadata": {},
   "source": [
    "### Parte B.1.b)\n",
    "Así, se finaliza calculando las probabilidades de los antecesores de los tags trabajados."
   ]
  },
  {
   "cell_type": "code",
   "execution_count": null,
   "metadata": {},
   "outputs": [],
   "source": [
    "# Cálculo de probabilidades\n",
    "prob_antes1 = probabilidadTag(tagsAntes, tag1)\n",
    "prob_antes2 = probabilidadTag(tagsAntes, tag2)\n",
    "prob_antes3 = probabilidadTag(tagsAntes, tag3)\n",
    "# Gráfico probabilidades antecesor dado tag 1\n",
    "print(\"Probabilidades de tags antecesores dado tag\", tag1, \": (de mayor a menor)\")\n",
    "df_antes1 = pd.DataFrame(prob_antes1.items(), columns=[\"tag\", \"probabilidad\"])\n",
    "df_antes1.sort_values(by=['probabilidad'], ascending=False, inplace=True)\n",
    "display(df_antes1)\n",
    "# Gráfico probabilidades antecesor dado tag 2\n",
    "print(\"Probabilidades de tags antecesores dado tag\", tag2, \": (de mayor a menor)\")\n",
    "df_antes2 = pd.DataFrame(prob_antes2.items(), columns=[\"tag\", \"probabilidad\"])\n",
    "df_antes2.sort_values(by=['probabilidad'], ascending=False, inplace=True)\n",
    "display(df_antes2)\n",
    "# Gráfico probabilidades antecesor dado tag 3\n",
    "print(\"Probabilidades de tags antecesores dado tag\", tag3, \": (de mayor a menor)\")\n",
    "df_antes3 = pd.DataFrame(prob_antes3.items(), columns=[\"tag\", \"probabilidad\"])\n",
    "df_antes3.sort_values(by=['probabilidad'], ascending=False, inplace=True)\n",
    "display(df_antes3)"
   ]
  },
  {
   "cell_type": "markdown",
   "metadata": {},
   "source": [
    "Finalmente, se evidencia que efectivamente hay una relación con la probabilidad de los sucesores y de los antecesores, ya que al ser más probable que un tag sea sucesor de otro, se espera que sea recíproco, es decir, que entre los antecesores más probables del segundo tag sea el primero (y viceversa). Mirando las tablas se puede ver que los primeros sucesores y antecesores son los mismos tags y, salvo algunas excepciones, las posiciones de dichos tags en las tablas corresponden a dicha tendencia. Resulta importante destacar que dicha relación entre antecesores y sucesores no es equivalente (de igual probabilidad), ya que las probabilidades dependen en un mayor grado de la frecuencia del tag en cuestión y de los otros posibles tags que lo rodean."
   ]
  },
  {
   "cell_type": "markdown",
   "metadata": {},
   "source": [
    "## Reglas del Juego y Comentarios \n",
    "\n",
    "+ Errores ortográficos, de redacción y oraciones ambiguas descontarán parte de su puntaje.\n",
    "+ En esta ocasión se podrán realizar consultas hasta el 4 de noviembre a las 15:00h.\n",
    "+ Cada día de atraso descuenta 25 puntos de la nota final con un máximo de dos días de retraso (después es 0).\n",
    "+ La versión de R que se usará para revisar es 3.6.1\n",
    "+ La versión de Python que se usará para revisar es 3.6.8\n",
    "+ Use cualquier librería que estime conveniente, si requiere de instalación explicitarlo en el README (y bien explicitado).\n",
    "+ Código comentado para facilitar entendimiento.\n",
    "+ Sea formal y claro con su respuesta, **explique su procedimiento y luego responda.** \n",
    "+ Defina bien las secciones de su notebook, el orden siempre es bueno :) [Tips para usar Markdown](https://github.com/adam-p/markdown-here/wiki/Markdown-Cheatsheet)"
   ]
  }
 ],
 "metadata": {
  "kernelspec": {
   "display_name": "Python 3",
   "language": "python",
   "name": "python3"
  },
  "language_info": {
   "codemirror_mode": {
    "name": "ipython",
    "version": 3
   },
   "file_extension": ".py",
   "mimetype": "text/x-python",
   "name": "python",
   "nbconvert_exporter": "python",
   "pygments_lexer": "ipython3",
   "version": "3.7.3"
  }
 },
 "nbformat": 4,
 "nbformat_minor": 4
}
