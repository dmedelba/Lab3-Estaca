{
 "cells": [
  {
   "cell_type": "markdown",
   "metadata": {},
   "source": [
    "<table style=\"width:100%\">\n",
    "  <tr>\n",
    "    <th align=\"right\"><img src=\"img/dilogo.png\" style=\"float:left;height:90px\"></th>\n",
    "    <th align=\"center\">\n",
    "    <h1 align=\"center\">Laboratorio 3</h1>\n",
    "    <h2 align=\"center\">Profesor: Ricardo Ñanculef</h2>\n",
    "    <h3 align=\"center\">Ayudante: Gabriel Ortega</h3>\n",
    "    <h3 align=\"center\">Juan Pablo Jorquera;201573533-6</h3>\n",
    "    <h3 align=\"center\">David Medel;201573548-4</h3>\n",
    "    <h3 align=\"center\">Diciembre de 2019</h3>\n",
    "    </th> \n",
    "    <th align=\"left\"><img src=\"img/usmlogo.png\" style=\"float:right;height:85px\"></th>\n",
    "  </tr>"
   ]
  },
  {
   "cell_type": "markdown",
   "metadata": {},
   "source": [
    "## Instrucciones\n",
    "\n",
    "La modalidad de trabajo será mediante el uso de jupyter notebook. El notebook debe ser desarrollado en parejas o individual y ser entregado el 31 de diciembre de 2019.\n",
    "\n",
    "La **modalidad de entrega será un archivo Apellido1_Apellido2_Lab3.zip** que contenga un notebook que incluya todas las preguntas con sus respectivas respuestas, un README que indique la forma correcta de ejecutar su notebook y cualquier archivo/carpeta extra que considere necesario para el correcto funcionamiento de su tarea. El laboratorio puede ser trabajado tanto en lenguaje R como en python 3 (para los que usen python 2.X, absténganse a las consecuencias). Lea bien el enunciado.\n",
    "\n",
    "**Cualquier copia detectada implicará nota 0 en el laboratorio correspondiente y se notificará la situación al profesor.**\n",
    "\n",
    "\n"
   ]
  },
  {
   "cell_type": "markdown",
   "metadata": {},
   "source": [
    "## 1. Ley de Zipf y NLP (30p)\n",
    "\n",
    "\n",
    "#### Zipf\n",
    "\n",
    "La ley de Zipf corresponde a una ley empírica elaborada por George Kingsley Zipf, lingüista americano. Esta ley dice que la distribución de palabras en un texto es de libre escala. Este fenómeno se evidenció en el idioma inglés y, después, se expandió a todos los otros idiomas. Su popularidad es tal, que se tiende a asociar a Zipf con leyes de potencia más allá del ámbito lingüista, se habla de comportamiento \"zipfiano\".\n",
    "\n",
    "Para trabajar con esta ley es necesario analizar texto/s de gran extensión, formalmente conocidos como corpus. En este caso, trabajarán con una selección de libros en formatos .txt [disponibles aqui](https://www.gutenberg.org/browse/scores/top). No es necesario que los descargue todos, mínimo 3, máximo una cantidad que su computador pueda procesar en un tiempo decente para usted.\n",
    "\n",
    "> a) Con los libros que usted seleccionó haga un gráfico en el que se muestren las 10 palabras de mayor frecuencia. ¿Qué puede decir acerca de las palabras que aparecen? \n",
    "\n",
    "> b) Del universo de palabras que puede construir mediante el análisis de texto ¿Cuál es la probabilidad de que, al elegir al azar una de ellas, obtenga una palabra rara? **Palabra rara:** su frecuencia de aparición es 1.\n",
    "\n",
    "> c) ¿Se podría establecer alguna relación entre la probabilidad de encontrar $N$ palabras raras (su frecuencia de aparición es 1) en función del largo del texto analizado? ¿Hay alguna relación con b)? Fundamente. Pruebe para 3-5 valores distintos de $N$.\n",
    "\n",
    "*Hint: podría ir leyendo por partes y cada vez seleccionando partes de mayor o menor largo.*\n",
    "\n",
    "Para clasificar un texto (asignarles palabras o temas claves) se necesitan utilizar palabras características. Utilizando la ley de zipf se tiene que los extremos de la distribución no son útiles. Las palabras más comunes estarían presentes en casi todos los textos y las menos frecuentes no estarían en ninguno.\n",
    "\n",
    "> d) En base a lo anterior seleccione 2 palabras que usted utilizaría para clasificar los textos analizados (el conjunto entero). Para las dos palabras $(w_1,w_2)$ seleccionadas se plantea la siguiente pregunta ¿La ocurrencia de $w_1$ en un texto es independiente de la presencia de $w_2$ en el mismo texto?. Debido que la cantidad de libros podría no ser suficiente para mostrar esto, es posible considerar sub-secciones como \"mismo texto\", por ejemplo, los capítulos. \n",
    "\n",
    "* Usted debe hacer la partición útil de la distribución según su criterio. No use stopwords para $w_1,w_2$ (¿No sabe lo que es una stopword? [Pinche aqui](https://www.google.com/)). Los extremos no sirven así que deberá buscar en otra parte.\n",
    "* Explique el prodecimiento que realizará para mostrar la independencia o no independencia de las palabras.\n",
    "\n",
    "----\n",
    "\n",
    "Es muy posible que su corpus no pueda ser adjuntado junto a su laboratorio. Debido a esto, debe referenciar el sitio de donde descargó su corpus en el README."
   ]
  },
  {
   "cell_type": "markdown",
   "metadata": {},
   "source": [
    "### Respuesta \n",
    "\n",
    "Inicialmente se listará los diez libros (y archivos) utilizados para trabajar para luego continuar trabajando parte por parte. Dichos libros fueron obtenidos del [proyecto gutenberg](https://www.gutenberg.org/browse/scores/top).\n",
    "\n",
    "Libros seleccionados y archivo asociado:\n",
    "- Frankenstein; Or, The Modern Prometheus by Mary Wollstonecraft Shelley - frankenstein.txt\n",
    "- Moby Dick; Or, The Whale by Herman Melville - moby_dick.txt\n",
    "- A Modest Proposal by Jonathan Swift - modest_proposal.txt\n",
    "- The Strange Case of Dr. Jekyll and Mr. Hyde by Robert Louis Stevenson - jekyll_hyde.txt\n",
    "- A Tale of Two Cities by Charles Dickens - two_cities.txt\n",
    "- Pride and Prejudice by Jane Austen - pride_prejudice.txt\n",
    "- Beowulf: An Anglo-Saxon Epic Poem by J. Lesslie Hall - beowulf.txt\n",
    "- Dracula by Bram Stoker - dracula.txt\n",
    "- Metamorphosis by Franz Kafka - metamorphosis.txt\n",
    "- Ulysses by James Joyce - ulysses.txt"
   ]
  },
  {
   "cell_type": "code",
   "execution_count": 1,
   "metadata": {},
   "outputs": [],
   "source": [
    "# Incluir librerías a utilizar a lo largo del informe\n",
    "import pandas as pd\n",
    "import numpy as np\n",
    "import matplotlib.pyplot as plt\n",
    "from matplotlib import style"
   ]
  },
  {
   "cell_type": "code",
   "execution_count": 2,
   "metadata": {},
   "outputs": [
    {
     "data": {
      "image/png": "[encoded data removed]",
      "text/plain": [
       "<Figure size 432x288 with 1 Axes>"
      ]
     },
     "metadata": {},
     "output_type": "display_data"
    }
   ],
   "source": [
    "libros = ['frankenstein.txt', 'moby_dick.txt', 'modest_proposal.txt', \n",
    "          'jekyll_hyde.txt', 'two_cities.txt', 'pride_prejudice.txt', \n",
    "          'beowulf.txt', 'dracula.txt', 'metamorphosis.txt', 'ulysses.txt']\n",
    "\n",
    "# Armar corpus\n",
    "corpus = ''\n",
    "for libro in libros:\n",
    "    archivo = open('./libros/'+libro, 'r')\n",
    "    for linea in archivo:\n",
    "        if not linea.strip():\n",
    "            continue\n",
    "        corpus += linea\n",
    "    archivo.close()\n",
    "\n",
    "# Realizar conteo\n",
    "cuenta_palabras = dict()\n",
    "nLineas = 0\n",
    "for linea in corpus.split('\\n'):\n",
    "    nLineas += 1\n",
    "    for palabra in linea.split():\n",
    "        # Separar palabras de símbolos\n",
    "        if not palabra.isalnum():\n",
    "            continue\n",
    "        # Estandarizar a minúsculas\n",
    "        palabra = palabra.lower()\n",
    "        if palabra in cuenta_palabras:\n",
    "            cuenta_palabras[palabra] += 1\n",
    "        else:\n",
    "            cuenta_palabras[palabra] = 1\n",
    "\n",
    "df = pd.DataFrame(list(cuenta_palabras.items()), columns=('palabra', 'frecuencia'))\n",
    "df.sort_values(by=['frecuencia'], ascending=False, inplace=True)\n",
    "\n",
    "# Graficar\n",
    "style.use('ggplot')\n",
    "plt.bar(df.head(10)['palabra'].tolist(), df.head(10)['frecuencia'].tolist(), align='center')\n",
    "plt.title('Palabras con más repeticiones en los libros seleccionados')\n",
    "plt.ylabel('Frecuencia de apariciones')\n",
    "plt.xlabel('Palabras')\n",
    "plt.show()"
   ]
  },
  {
   "cell_type": "markdown",
   "metadata": {},
   "source": [
    "> a) Con los libros que usted seleccionó haga un gráfico en el que se muestren las 10 palabras de mayor frecuencia. ¿Qué puede decir acerca de las palabras que aparecen? \n",
    "\n",
    "Para ello, se tomaron los diez libros seleccionados como corpus, simulando un libro más grande. Sobre las palabras podemos decir que las que más se repiten son artículos o pronombres, es decir, palabras que se utilizan para componer oraciones por sobre palabras que conlleven contenido."
   ]
  },
  {
   "cell_type": "markdown",
   "metadata": {},
   "source": [
    "> b) Del universo de palabras que puede construir mediante el análisis de texto ¿Cuál es la probabilidad de que, al elegir al azar una de ellas, obtenga una palabra rara? **Palabra rara:** su frecuencia de aparición es 1."
   ]
  },
  {
   "cell_type": "code",
   "execution_count": 3,
   "metadata": {},
   "outputs": [
    {
     "name": "stdout",
     "output_type": "stream",
     "text": [
      "La probabilidad de obtener una palabra rara es de:  0.016\n"
     ]
    }
   ],
   "source": [
    "cuenta_rara = 0\n",
    "total = 0\n",
    "for palabra in cuenta_palabras:\n",
    "    cuenta_pal_actual = cuenta_palabras[palabra]\n",
    "    if cuenta_pal_actual == 1:\n",
    "        cuenta_rara += 1\n",
    "    total += cuenta_pal_actual\n",
    "\n",
    "probabilidad = round(cuenta_rara/total, 3)\n",
    "print('La probabilidad de obtener una palabra rara es de: ', probabilidad)"
   ]
  },
  {
   "cell_type": "markdown",
   "metadata": {},
   "source": [
    "Como se puede ver, hay una muy baja probabilidad de obtener una palabra rara con un 1,6%; lo que concuerda con el crecimiento de libre escala donde las palabras más comunes crecen más, aislando las palabras raras."
   ]
  },
  {
   "cell_type": "markdown",
   "metadata": {},
   "source": [
    "> c) ¿Se podría establecer alguna relación entre la probabilidad de encontrar $N$ palabras raras (su frecuencia de aparición es 1) en función del largo del texto analizado? ¿Hay alguna relación con b)? Fundamente. Pruebe para 3-5 valores distintos de $N$."
   ]
  },
  {
   "cell_type": "code",
   "execution_count": 4,
   "metadata": {},
   "outputs": [
    {
     "name": "stdout",
     "output_type": "stream",
     "text": [
      "lineas totales: 100459\n",
      "cantidad palabras:  4034 total palabras: 96748\n",
      "con porcentaje:  4.2 %\n",
      "cantidad palabras:  5065 total palabras: 92765\n",
      "con porcentaje:  5.5 %\n",
      "cantidad palabras:  4677 total palabras: 90089\n",
      "con porcentaje:  5.2 %\n",
      "cantidad palabras:  3523 total palabras: 88075\n",
      "con porcentaje:  4.0 %\n",
      "cantidad palabras:  2554 total palabras: 85357\n",
      "con porcentaje:  3.0 %\n",
      "cantidad palabras:  3114 total palabras: 73312\n",
      "con porcentaje:  4.2 %\n",
      "cantidad palabras:  3128 total palabras: 102305\n",
      "con porcentaje:  3.1 %\n",
      "cantidad palabras:  4792 total palabras: 86992\n",
      "con porcentaje:  5.5 %\n",
      "cantidad palabras:  8009 total palabras: 83871\n",
      "con porcentaje:  9.5 %\n",
      "cantidad palabras:  8283 total palabras: 86426\n",
      "con porcentaje:  9.6 %\n"
     ]
    }
   ],
   "source": [
    "print(\"lineas totales:\", nLineas)\n",
    "\n",
    "tamDivisiones = 10000\n",
    "lineasLeidas = 1\n",
    "cuenta_parte = dict()\n",
    "for linea in corpus.split('\\n'):\n",
    "    # Contar palabras parte actual\n",
    "    for palabra in linea.split():\n",
    "        if not palabra.isalnum():\n",
    "            continue\n",
    "        palabra = palabra.lower()\n",
    "        if palabra in cuenta_parte:\n",
    "            cuenta_parte[palabra] += 1\n",
    "        else:\n",
    "            cuenta_parte[palabra] = 1\n",
    "            \n",
    "    lineasLeidas += 1\n",
    "    # Finalizar revisión parte actual\n",
    "    if lineasLeidas == tamDivisiones:\n",
    "        # Chequear palabras raras\n",
    "        cuenta_rara = 0\n",
    "        total = 0\n",
    "        for palabra in cuenta_parte:\n",
    "            cuenta_pal_actual = cuenta_parte[palabra]\n",
    "            if cuenta_pal_actual == 1:\n",
    "                cuenta_rara += 1\n",
    "            total += cuenta_pal_actual\n",
    "        probabilidad = round(cuenta_rara/total, 3)\n",
    "        print('cantidad palabras: ', cuenta_rara, 'total palabras:', total)\n",
    "        print('con porcentaje: ', probabilidad*100, '%')\n",
    "        # Resetear variables\n",
    "        cuenta_parte.clear()\n",
    "        lineasLeidas = 1"
   ]
  },
  {
   "cell_type": "markdown",
   "metadata": {},
   "source": [
    "## 2. MCMC Decryption (40p)\n",
    "\n",
    "La seguridad es un tema que desde tiempos inmemoriables ha sido utilizado en el envío de mensajes. Desde el *shift* de letras en $x$ posiciones hasta algoritmos complejos de encriptación que tienen a los computadores años intentando descifrarlos. Uno de los algoritmos utilizados para encriptar corresponde al de sustitución. Este algoritmo consiste en tener un hash con los pares (llave, valor) donde la letra que corresponde a la llave se reemplaza por la letra que corresponda a valor. Por ejemplo: \n",
    "\n",
    "\n",
    "```Python\n",
    "\n",
    "Llave = \"ITBLPHWZAREJXNFVOUDMCGYKQS\"\n",
    "\n",
    "Mensaje_Original = \"Hola ¿qué tal?\"\n",
    "\n",
    "Mensaje_Encriptado = \"ZFJI OCP MIJ\"  #(notar que se ignoró puntuación y tilde)\n",
    "\n",
    "Llave_Desencriptacion = \"ICUSKOVFALXDTNQEYJZBRPGMWH\"\n",
    "\n",
    "```\n",
    "\n",
    "\n",
    "#### ¿Cómo interpretar la llave? \n",
    "\n",
    "Dada una llave de la forma $x_{1}x_{2}x_{3}\\dots x_{n}$ con $n$ largo del alfabeto inglés (A hasta Z sin Ñ)\n",
    "la primera letra reemplazará a la \"A\", la segunda a \"B\", la tercera a \"C\" y así hasta la \"Z\". \n",
    "\n",
    "**Ejemplo pequeño:** \n",
    "\n",
    "\"ABCD\" lo encriptaré con la siguiente llave \"CADB\", la llave para desencriptar el mensaje es la siguiente \"BDAC\".\n",
    "\n",
    "1. Encripto \"CADA\" con \"CADB\" $\\rightarrow$ \"DCBC\"\n",
    "2. Descencripto \"DCBC\" con \"BDAC\" $\\rightarrow$ \"CADA\"\n",
    "\n",
    "Esta será la nomenclatura que se utilizará al momento de presentar las llaves. \n",
    "\n",
    "#### Problema\n",
    "\n",
    "A usted le han entregado un texto encriptado mediante sustitución, pero no conoce la llave que se utilizó originalmente para encriptarlo. Un enfoque fuerza bruta para descifrarlo implica que usted probará las $26!$ posibles combinaciones para desencriptar el texto. Claramente, probar semejante cantidad lo tendrá esperando una respuesta hasta mucho después de la fecha de entrega del laboratorio. \n",
    "\n",
    "Para resolver este problema se le plantea un método muy útil para resolver este problema en un tiempo mucho más prudente: cadenas de Markov con el método de Montecarlo (MCMC). El procedimiento es el siguiente: \n",
    "\n",
    "##### 1. Analizar Texto del idioma original\n",
    "\n",
    "Es necesario tener una noción de la estructura del lenguaje origen del mensaje. Descifrar un mensaje en chino (5000 caractes que se utilizan en la vida diaria aprox) o descifrar un mensaje en inglés (26 letras solamente) no\n",
    "utilizarán el mismo criterio para detectar estructura. \n",
    "\n",
    "En este caso trabajará con el idioma inglés y deberá buscar un texto en inglés bastante extenso (Corpus) o compilado de textos extensos para analizar las frecuencias. Para el idioma inglés se sugiere contar las frecuencias de a pares de caracteres, solamente utilice las 26 letras y el espacio \" \" para contar frecuencias.\n",
    "Por ejemplo: \"AH\",\" A\", \"A \", \"BA\", (el orden de aparición si importa en este caso). \n",
    "\n",
    "Recuerde que para los lenguajes de programación \"a\" y \"A\" no son lo mismo, pero para efectos del desencriptado sí.\n",
    "\n",
    "#### 2. Métrica de Desempeño \n",
    "\n",
    "El método que se propone consiste en probar llaves de desencriptación aleatorias. Si no se define una forma para comparar una propuesta de otra, se tendrá el mismo proceso que el de probar todas las posibilidades hasta achuntarle. Se creará una métrica de desempeño que asigne un puntaje a cierta llave para ir optando por llaves que tiendan a un mayor puntaje.\n",
    "\n",
    "La métrica que se sugiere es:\n",
    "\n",
    "$$\n",
    " Puntaje = \\prod Frecs(\"Par\")^{Ocurrencias(\"Par\")}\n",
    "$$\n",
    "\n",
    "Donde \"Frecs(\"Par\")\" corresponde a la frecuencia del par (\"AH\" por ejemplo) en el análisis de texto realizado en el paso 1 y \"Ocurrencias(\"Par\")\" corresponde a la frecuencia de dicho par **en el texto desencriptado con la llave propuesta**. Para facilitar los cálculos es recomendable utilizar $log(Puntaje)$ como métrica final. La métrica sugerida es proporcional a la máxima verosimilitud.\n",
    "\n",
    "#### 3. Decisiones \n",
    "\n",
    "Para decidir si nos quedaremos con la solución actual o la solución propuesta haremos lo siguiente: \n",
    "\n",
    "* Si el puntaje de la solución actual es menor que el de la solución propuesta, nuestra propuesta actual será actualizada por la solución propuesta para la siguiente iteración. \n",
    "\n",
    "* Si el puntaje de la solución actual es mayor que el de la solución propuesta, se tirará una moneda cuya probabilidad de **cara** sea $\\frac{Score\\,Propuesta}{Score\\,Actual}$, si sale cara optaremos por la solución propuesta.\n",
    "\n",
    "#### 4. Procedimiento \n",
    "\n",
    "1. Elegimos alguna llave para desencriptar inicial, la que se quiera.\n",
    "2. La llave propuesta será una variación de la llave actual permutando 2 elementos de ésta. \n",
    "3. Se toman las decisiones como el punto \"Decisiones\" indica. \n",
    "4. Repetir 2 y 3 varias veces. Se recomienda iterar 10000 veces o mas.\n",
    "5. Terminadas las iteraciones se retornar el texto desencriptado junto a la llave de desencriptación.\n",
    "\n",
    ">**Importante:** Es posible que al desencriptar el mensaje su resultado final no parezca tener sentido aunque\n",
    "tenga todo bien programado. Esto es debido al azar así que corra su algoritmo unas cuantas veces si el primer\n",
    "resultado no parece tener sentido antes de corregir el código. (En mis intentos, por lo general unas 3-5 veces era suficiente si no funcionaba a la primera). \n",
    "\n",
    "\n",
    "* Los textos encriptados que se le han facilitado se encuentran en el archivo \"cifrados.txt\"\n",
    "* Los textos 1, 2 y 3 fueron encriptados utilizando la misma llave.\n",
    "* El texto 4 es el mismo mensaje del texto 1 pero encriptado con otra llave.\n",
    "* El texto 2 fue escrito originalmente en español (se reemplazó Ñ por N para mantener el tamaño del alfabeto) y los textos 1, 3 y 4 en inglés.\n",
    "\n",
    ">a) Analice la métrica de desempeño y explique lo que intenta lograr ¿Qué es lo que se premia? \n",
    "\n",
    ">b) Desencripte el texto 1 utilizando el método explicado. \n",
    "\n",
    ">c) Desencripte el texto 2 utilizando el método explicado y el **análisis de texto en inglés**. De lo que obtuvo ¿Qué puede decir acerca de desencriptar un lenguaje distinto del analizado? ¿Qué puede decir acerca de la estructura de ambos lenguajes?\n",
    "\n",
    ">d) Desencripte el texto 3 utilizando el método explicado. *Hint: Texto 1*.\n",
    "\n",
    ">e) Desencripte el texto 4 utilizando el método explicado. Compare con lo obtenido en b) ¿La llave que se utiliza para encriptar tiene importancia en el resultado?\n",
    "\n",
    ">f) ¿A qué se debe que al correr varias veces su algoritmo se pueda obtener un mensaje entendible, pero con distintas llaves de desencriptación? ¿Qué puede decir acerca del método, es determinista o estocástico? \n",
    "\n",
    ">g) **Bonus +5** Plantee una estrategia para desencriptar el texto 2 que está en español. Obtendrá otros 5 puntos si logra desencriptarlo, pero recuerde que la Ñ se reemplazó por N.\n",
    "\n",
    "---\n",
    "Es posible que al descifrar le quede un mensaje con pequeños errores, por ejemplo, \"HSTO NO CONCUHRDA\", si este es su caso, puede intentar sacar el mensaje original haciendo estas correcciones a mano. \n",
    "\n",
    "---"
   ]
  },
  {
   "cell_type": "markdown",
   "metadata": {},
   "source": [
    "**Desarrollo 2**\n"
   ]
  },
  {
   "cell_type": "code",
   "execution_count": 111,
   "metadata": {},
   "outputs": [],
   "source": [
    "import random\n",
    "import numpy as np\n",
    "import math\n",
    "from time import time\n",
    "\n",
    "random.seed(100)\n",
    "\n",
    "#Almacenamos los textos en 4 diferentes listas\n",
    "archivo = open('cifrados.txt', 'r')\n",
    "texto_1 =[]\n",
    "texto_2 =[]\n",
    "texto_3 =[]\n",
    "texto_4 =[]\n",
    "for linea in archivo:\n",
    "    linea = linea.strip()\n",
    "    if linea == \"Texto 1\":\n",
    "        linea= archivo.readline()\n",
    "        texto_1.append(linea.strip())\n",
    "    if linea == \"Texto 2\":\n",
    "        linea = archivo.readline()\n",
    "        texto_2.append(linea.strip())\n",
    "    if linea == \"Texto 3\":\n",
    "        linea = archivo.readline()\n",
    "        texto_3.append(linea.strip())\n",
    "    if linea == \"Texto 4\":\n",
    "        linea = archivo.readline()\n",
    "        texto_4.append(linea.strip())\n",
    "archivo.close()      \n",
    "\n",
    "#Función que crea llave al azar\n",
    "def crear_llave():\n",
    "    abecedario = 'abcdefghijklmnopqrstuvwxyz'\n",
    "    desordenar = random.sample(abecedario, len(abecedario))\n",
    "    palabra = ''.join(desordenar)\n",
    "    return palabra\n",
    "\n",
    "#Función obtiene una nueva llave según el enunciado\n",
    "def cambiar_llave(llave_actual):\n",
    "    llave=[]\n",
    "    for i in llave_actual:\n",
    "        llave.append(i)\n",
    "        \n",
    "    x= random.randint(0,len(llave_actual)-1)\n",
    "    y= random.randint(0,len(llave_actual)-1)\n",
    "    \n",
    "    while(x==y):\n",
    "        y= random.randint(0,len(llave_actual)-1)\n",
    "    llave[x]= llave_actual[y]\n",
    "    llave[y]= llave_actual[x]\n",
    "    nueva_palabra = ''.join(llave)\n",
    "    return nueva_palabra\n",
    "\n",
    "#Función retorna el texto desencriptado con la llave ingresada\n",
    "def desencriptar(texto,llave):\n",
    "    abecedario = 'abcdefghijklmnopqrstuvwxyz'\n",
    "    #print(llave)\n",
    "    n_text =''\n",
    "    for letra in texto[0]:\n",
    "        if letra == ' ':\n",
    "            n_text = n_text + ' '\n",
    "        else:\n",
    "            indice = llave.index(letra)\n",
    "            n_text = n_text + abecedario[indice]\n",
    "    return n_text\n",
    "        \n",
    "#Función cuenta la ocurrencia de los pares en un texto\n",
    "def contar_pares(text,pares):\n",
    "    i=0\n",
    "    while i <(len(text)-1):\n",
    "        pal = text[i]+text[i+1]\n",
    "        if pal in pares.keys():\n",
    "            pares[pal]+=1\n",
    "        else:\n",
    "            pares[pal]=1\n",
    "        i+=1\n",
    "    return pares\n",
    "\n",
    "#Función para calcular la ocurrencia de pares en el corpus\n",
    "def pares_corpus(corpus):\n",
    "    corpus = open(corpus,\"r\")\n",
    "    dic_corpus={}\n",
    "    for linea in corpus:\n",
    "        linea = linea.strip()\n",
    "        dic_corpus= contar_pares(linea,dic_corpus)\n",
    "    return dic_corpus\n",
    "\n",
    "#Función calcula el puntaje según la métrica\n",
    "def get_puntaje_k(dic_corpus, dic_des):\n",
    "    list_product = []\n",
    "    for k,v in dic_des.items():\n",
    "        potencia =0\n",
    "        if k not in dic_corpus.keys():\n",
    "            valor = 1\n",
    "            list_product.append(valor)\n",
    "        else:       \n",
    "            oc_corpus = dic_corpus[k]\n",
    "            potencia = pow(oc_corpus,v)\n",
    "            list_product.append(potencia)\n",
    "    m = np.prod(list_product, dtype='int64')\n",
    "    return m\n",
    "\n",
    "def get_puntaje(dic_corpus, dic_des):\n",
    "    m=1\n",
    "    for k,v in dic_des.items():\n",
    "        potencia=0\n",
    "        if k in dic_corpus.keys():\n",
    "            oc_corpus = dic_corpus[k]\n",
    "            potencia = pow(oc_corpus,v)\n",
    "            m=m*potencia\n",
    "    return m\n",
    "\n",
    "#Función principal\n",
    "def MCMC_Decryption(texto,dic_corpus,iteraciones):\n",
    "    random.seed(100)\n",
    "    tiempo_inicial = time() \n",
    "    llave = crear_llave() #Se asigna una llave aleatoria inicial\n",
    "    llave = llave.upper()\n",
    "    text = desencriptar(texto,llave)  #Desencriptar el texto con la llave incial\n",
    "    \n",
    "    #Obtenemos diccionario de ocurrencia para el texto desencriptado\n",
    "    dic_des={}\n",
    "    dic_des = contar_pares(text,dic_des)\n",
    "    #Calculamos el puntaje según la métrica\n",
    "    mejor_puntaje = get_puntaje(dic_corpus, dic_des)\n",
    "    mejor_llave = llave\n",
    "    \n",
    "    \n",
    "\n",
    "    #Realizamos 10.000 iteraciones para encontrar una llave correcta\n",
    "    i=0\n",
    "    while(i<iteraciones):\n",
    "        #mismo procedimiento inicial\n",
    "        llave_propuesta = cambiar_llave(llave)\n",
    "        dic_desi = {}\n",
    "        n_text = desencriptar(texto,llave_propuesta)\n",
    "        dic_desi = contar_pares(n_text, dic_desi)\n",
    "        puntaje = get_puntaje(dic_corpus, dic_desi)\n",
    "        #print(puntaje)\n",
    "        \n",
    "        #Se elige el mejor puntaje hasta el momento y la llave, según enuncidado\n",
    "        if (mejor_puntaje < puntaje):\n",
    "            mejor_puntaje = puntaje\n",
    "            mejor_llave = llave_propuesta\n",
    "            llave = llave_propuesta\n",
    "        else:\n",
    "            #prob\n",
    "            prob = puntaje/mejor_puntaje\n",
    "            elementos = [mejor_puntaje, puntaje]\n",
    "            pesos = [1-prob, prob]\n",
    "            resultado = []\n",
    "            for e, p in zip(elementos, pesos):\n",
    "                resultado += [e] * int(p * 100)\n",
    "            elegido = random.choice(resultado)\n",
    "            if elegido == mejor_puntaje:\n",
    "                mejor_llave = llave\n",
    "            else:\n",
    "                mejor_llave =llave_propuesta\n",
    "                llave = llave_propuesta\n",
    "                mejor_puntaje = puntaje\n",
    "        i+=1\n",
    "    #se muestra el resultado \n",
    "\n",
    "    texto_final = desencriptar(texto,mejor_llave)\n",
    "    print(\"------------------Texto desencriptado------------------\")\n",
    "    print(texto_final)\n",
    "    print(\"-------------------------------------------------------\")\n",
    "    tiempo_final = time() \n",
    "    t_total = tiempo_final-tiempo_inicial\n",
    "    print(\"LLave: \"+ mejor_llave)\n",
    "    print(\"Tiempo ejecución: \" +str(t_total)+\" seg\")\n"
   ]
  },
  {
   "cell_type": "code",
   "execution_count": 68,
   "metadata": {},
   "outputs": [],
   "source": [
    "#creamos diccionario del corpus (ocurrencia de pares) que utilizaremos para las siguientes preguntas\n",
    "dic_corpus = pares_corpus(\"corpus.txt\")"
   ]
  },
  {
   "cell_type": "markdown",
   "metadata": {},
   "source": [
    ">a) Analice la métrica de desempeño y explique lo que intenta lograr ¿Qué es lo que se premia? \n",
    "\n",
    "La metrica de desempeño funciona asignando un puntaje a cada llave, el cual mientras mayor sea representa una semejanza del texto desencriptado con la distribución del texto original.\n",
    "Esto se premia al existir en el texto desencriptado pares de ocurrencia que aparecen en nuestro corpus, el cual corresponde a una correcta representación de los pares de caracteres presentes en el lenguaje sobre el que se desencripta.\n",
    "\n",
    ">b) Desencripte el texto 1 utilizando el método explicado. "
   ]
  },
  {
   "cell_type": "code",
   "execution_count": 121,
   "metadata": {},
   "outputs": [
    {
     "name": "stdout",
     "output_type": "stream",
     "text": [
      "------------------Texto desencriptado------------------\n",
      "hello how are you i am fine thank you i discovered that if you use a shorter text it will diverge and everything won t work you need to use longer encoded text in order for you to get a trustworthy answer of your algorithm  otherwise you ll get a lot of gibberish and feel like it does not work use long texts if possible with a variety of words also remember that if the message contains digits it will be a lot harder to decypher because there is no rule as how to order the digits of a number the possibilities are infinite and remember that the deciphered text does not have to be equal to the original text if you don thave the original encryption key you answer will also vary if the original text uses a wide variety of lettersor not because this affects the objective function you are using  keep all this things in mind\n",
      "-------------------------------------------------------\n",
      "LLave: TFOHBCLXNMUDYGSKWZIVQRAPEJ\n",
      "Tiempo ejecución: 11.62917184829712 seg\n"
     ]
    }
   ],
   "source": [
    "MCMC_Decryption(texto_1,dic_corpus,10000)"
   ]
  },
  {
   "cell_type": "markdown",
   "metadata": {},
   "source": [
    ">c) Desencripte el texto 2 utilizando el método explicado y el **análisis de texto en inglés**. De lo que obtuvo ¿Qué puede decir acerca de desencriptar un lenguaje distinto del analizado? ¿Qué puede decir acerca de la estructura de ambos lenguajes?\n"
   ]
  },
  {
   "cell_type": "code",
   "execution_count": 122,
   "metadata": {},
   "outputs": [
    {
     "name": "stdout",
     "output_type": "stream",
     "text": [
      "------------------Texto desencriptado------------------\n",
      "asta tauto aste ascrito an aspenol  pere no eltarer al eldoritmo htilikera n sin dorrito pere tastaer al eldoritmo  tembian avitera hser tilfas ye wha son cerectaras aspacielas  el fascigrer asta mansexa pofren var como al eldoritmo sa comporte htilikenfo hne ghncion fisanefe pere al indlas an hn mansexa wha gha ascrito oridinelmanta an aspenol  como sa shdiara idnorer le phnthecion solemanta beste con ascribir les orecionas y wha whafa tofo fa menare cevarnicole  pofre al eldoritmo fascigrer asta tauto\n",
      "-------------------------------------------------------\n",
      "LLave: BFOLTHCQNXJDYGSKAZIVPRWMEU\n",
      "Tiempo ejecución: 7.3213770389556885 seg\n"
     ]
    }
   ],
   "source": [
    "MCMC_Decryption(texto_2,dic_corpus,10000)"
   ]
  },
  {
   "cell_type": "markdown",
   "metadata": {},
   "source": [
    "La desencriptación presenta un texto **medio** entendible, debido a que se utiliza como base las ocurrencias de pares de un texto en inglés. La métrica de puntaje en este caso será más baja ya que los pares de caracteres que se pueden formar en un texto en español se forman en menor cantidad en el idioma inglés.\n",
    "Aún así, como ambos lenguajes comparten el mismo abecedario, existen pares de caracteres que se presentan de manera concurrente en ambos lenguajes, es por esto que el texto desencriptado se puede \"pseudo\" entender.\n",
    "Existen varias combinaciones de caracteres que se utilizan en un lenguaje, pero no en el otro."
   ]
  },
  {
   "cell_type": "markdown",
   "metadata": {},
   "source": [
    ">d) Desencripte el texto 3 utilizando el método explicado. *Hint: Texto 1*.\n"
   ]
  },
  {
   "cell_type": "code",
   "execution_count": 120,
   "metadata": {},
   "outputs": [
    {
     "name": "stdout",
     "output_type": "stream",
     "text": [
      "---------------------Texto original--------------------\n",
      "this is a very short english text congratulations you managed to decipher me\n",
      "\n",
      "------------------Texto desencriptado------------------\n",
      "reld ld o fath deitr anculde ragr binctorsuorlind his wonocam ri mablyeat wa\n",
      "-------------------------------------------------------\n",
      "LLave: BOLIXRPESFCNHGTWMVQZDUYJKA\n",
      "Tiempo ejecución: 2.0072479248046875 seg\n"
     ]
    }
   ],
   "source": [
    "print(\"---------------------Texto original--------------------\")\n",
    "texto_k= desencriptar(texto_3, 'TFOHBCLXNMUDYGSKWZIVQRAPEJ')\n",
    "print(texto_k+\"\\n\")\n",
    "\n",
    "MCMC_Decryption(texto_3,dic_corpus,10000)"
   ]
  },
  {
   "cell_type": "markdown",
   "metadata": {},
   "source": [
    "Como se puede observar el texto no logra desencriptarse correctamente, se realizó tester de 10.000, 100.000 y 1.000.000 iteraciones y en todas no se logró la desencriptación esperada.\n",
    "\n",
    "Esto era de esperar debido a que al ser un texto más corto no hay suficientes parejas para hacer una tendencia de la ocurrencia de sus carecteres y poder compararlo con la del lenguaje, es decir diverge para textos más cortos.\n"
   ]
  },
  {
   "cell_type": "markdown",
   "metadata": {},
   "source": [
    ">e) Desencripte el texto 4 utilizando el método explicado. Compare con lo obtenido en b) ¿La llave que se utiliza para encriptar tiene importancia en el resultado?\n"
   ]
  },
  {
   "cell_type": "code",
   "execution_count": 106,
   "metadata": {},
   "outputs": [
    {
     "name": "stdout",
     "output_type": "stream",
     "text": [
      "------------------Texto desencriptado------------------\n",
      "hello how are you i am fine thank you i discovered that if you use a shorter text it will diverge and everything won t work you need to use longer encoded text in order for you to get a trustworthy answer of your algorithm  otherwise you ll get a lot of gibberish and feel like it does not work use long texts if possible with a variety of words also remember that if the message contains digits it will be a lot harder to decypher because there is no rule as how to order the digits of a number the possibilities are infinite and remember that the deciphered text does not have to be equal to the original text if you don thave the original encryption key you answer will also vary if the original text uses a wide variety of lettersor not because this affects the objective function you are using  keep all this things in mind\n",
      "-------------------------------------------------------\n",
      "LLave: KTGODJLIFUCEVPAXYWSHBMNRQZ\n",
      "Tiempo ejecución: 11.96370005607605 seg\n"
     ]
    }
   ],
   "source": [
    "MCMC_Decryption(texto_4,dic_corpus)"
   ]
  },
  {
   "cell_type": "markdown",
   "metadata": {},
   "source": [
    "Luego de encontrar la llave y realizar la desencriptación, podemos evidenciar que **si importa la llave de encriptación**. El texto 4 es el mismo que el texto 1 originalmente, solo que poseen una diferente llave de encriptación, lo cual podemos ver con la llave obtenida es diferente a la del texto 1. Para demostrar esto se desencriptará el texto 4, con la llave obtenida en el texto 1."
   ]
  },
  {
   "cell_type": "markdown",
   "metadata": {},
   "source": [
    "texto_k= desencriptar(texto_4, 'TFOHBCLXNMUDYGSKWZIVQRAPEJ')\n",
    "print(texto_k)"
   ]
  },
  {
   "cell_type": "markdown",
   "metadata": {},
   "source": [
    ">f) ¿A qué se debe que al correr varias veces su algoritmo se pueda obtener un mensaje entendible, pero con distintas llaves de desencriptación? ¿Qué puede decir acerca del método, es determinista o estocástico? \n",
    "\n"
   ]
  },
  {
   "cell_type": "markdown",
   "metadata": {},
   "source": [
    "Principalmente el tener que correr más de una vez el algoritmo presentado se debe a la aleatoriedad de datos, por ejemplo, la forma en que se crea la primera llave viene dada absolutamente aleatoria con el modulo random de python, la cual implica que cada vez que se ejecute el algoritmo, comenzará de forma diferente.\n",
    "\n",
    "Lo anterior indica que el método de desencriptación utilizado es estocástico, ya que la forma en que se generan las llaves depende de la llave anterior, lo cual se reduce a la primera llave aleatoria, que como se explicó puede ser cualquiera.\n",
    "\n",
    "Para facilitar la ejecución se logró encontrar la semilla exacta donde el algoritmo funciona en su primera ejecución. (seed = 100)."
   ]
  },
  {
   "cell_type": "markdown",
   "metadata": {},
   "source": [
    ">g) **Bonus +5** Plantee una estrategia para desencriptar el texto 2 que está en español. Obtendrá otros 5 puntos si logra desencriptarlo, pero recuerde que la Ñ se reemplazó por N."
   ]
  },
  {
   "cell_type": "markdown",
   "metadata": {},
   "source": [
    "Principalmente la estrategía corresponde a utilizar un corpus en español, es decir vamos a obtener la ocurrencias de los pares de caracteres presente en el lenguaje.\n",
    "\n",
    "**Obs**: Se reemplaza la Ñ por una N para obtener un corpus adecuado y se quitan los tildes."
   ]
  },
  {
   "cell_type": "code",
   "execution_count": 38,
   "metadata": {},
   "outputs": [
    {
     "name": "stdout",
     "output_type": "stream",
     "text": [
      "LLave: TFOHBCLMNJXDYGSKWZIVQRUPEA\n",
      "------------------Texto desencriptado------------------\n",
      "este texto esta escrito en espanol  para no alterar el algoritmo utilijare n sin gorrito para testear el algoritmo  tambien evitare usar tildes ya que son caracteres especiales  al descifrar este mensahe podran ver como el algoritmo se comporta utilijando una funcion disenada para el ingles en un mensahe que fue escrito originalmente en espanol  como se sugiere ignorar la puntuacion solamente basta con escribir las oraciones y que quede todo de manera cavernicola  podra el algoritmo descifrar este texto\n",
      "-------------------------------------------------------\n",
      "Tiempo ejecución: 7.776196718215942 seg\n"
     ]
    }
   ],
   "source": [
    "#Creamos diccionario de ocurrencia de pares para el corpus en español\n",
    "dic_corpus_es = pares_corpus(\"corpus-es.txt\")\n",
    "MCMC_Decryption(texto_2,dic_corpus_es)"
   ]
  },
  {
   "cell_type": "markdown",
   "metadata": {},
   "source": [
    "## 3. Regresión Lineal y Bootstrap (30p)\n",
    "\n",
    "### Introducción a Método Bootstrap\n",
    "\n",
    "Suponga que tiene una muestra  <b>M</b> de una población <b>P</b> y esta muestra <b>M</b> es de tamaño <b>N</b>. Queremos obtener algún estimador $ \\theta $ de <b>P</b> a partir de <b>M</b> ya sea la media, varianza, o alguna otra función que interese, obviamente este estimador tendrá un error asociado ya que no es el estimador de la población. Uno de los métodos para determinar intervalos de confianza es el método bootstrap que permite trabajar solamente con una muestra de la población.\n",
    "\n",
    "Podemos entender bootstrap de la siguiente manera: Suponga que tenemos en una bolsa papelitos con cada elemento de la muestra <b>M</b>, sacamos un papelito, <b>lo volvemos a guardar en la bolsa</b> y repetimos este proceso <b>N</b> veces hasta tener una muestra $M^{1*}$ y sobre esta muestra de la muestra aplicamos la función que queremos conocer (media, varianza, etc) teniendo un estimador $ \\theta ^{1*} $ . Luego repetimos este proceso <b>B</b> veces y terminamos con un conjunto de <b>B</b> estimadores. \n",
    "\n",
    "Una forma de construir intervalos de confianza con el método bootstrap es utilizar los percentiles. Si queremos un intervalo de 90% de confianza, utilizamos un intervalo **simétrico** que vaya desde el percentil $X$ hasta el percentil $Y$ de manera que $Y-X = 0.90$. En el ejemplo anterior serían los percentiles 5% y 95%.\n",
    "\n",
    "[Método Bootstrap](https://www.youtube.com/watch?v=ZCXg64l9R_4)\n",
    "\n",
    "### El problema\n",
    "\n",
    "Usted cuenta con un registro histórico del clima de Szeged, Hungría. Tiene datos comprendidos entre el 2006 y 2016, entre ellos están la temperatura (en °C), la humedad, velocidad del viento (Km/h) y la presión (milibar). Usted trabajará con las 4 columnas mencionadas e intentará encontrar alguna relación entre estas variables.\n",
    "\n",
    "[Dataset aqui](https://www.kaggle.com/budincsevity/szeged-weather)\n",
    "\n",
    "> a) Calcule la correlación entre los pares posibles de las 4 columnas mencionadas e indique entre cuáles de ellas hay relación y el tipo de relación.\n",
    "\n",
    "> b) Construya un modelo de regresión lineal donde se utilice la temperatura para predecir la humedad, indique los valores del coeficiente de posición y la pendiente.\n",
    "\n",
    "> c) Construya un intervalo de confianza del 95% para el coeficiente de posición, sin utilizar bootstrap. Construya el mismo intervalo con el método bootstrap utilizando tamaños $\\frac{N}{2}$ y $N$ , ambos se deben realizar $2000$ veces. Compare los 3 intervalos y comente.\n",
    "\n",
    "*Hint: Hay varios modelos involucrados*\n",
    "\n",
    "> d) Un amigo suyo que había trabajado previamente con este conjunto de datos le dijo que no existía relación lineal entre la temperatura y la humedad. Usted decide verificar esto aplicando un test de hipótesis con un 95% de significancia. \n",
    "\n",
    "*Hint: Tiene que ver con la pendiente*\n",
    "\n",
    "> e) Su amigo también le dijo que no existía una relación lineal entre la temperatura y la presión. Usted decide verificar esto aplicando un test de hipótesis con un 95% de significancia.\n",
    "\n",
    "> f) Calcule el [mse](https://es.wikipedia.org/wiki/Error_cuadr%C3%A1tico_medio) del modelo obtenido en b). Se le ha propuesto la opción de realizar 3 modelos utilizando 3 intervalos de temperatura: \n",
    "\n",
    "* $\\left(-\\infty,0\\right]$\n",
    "* $ \\left(0,20\\right]$\n",
    "* $\\left(20,+\\infty \\right]$\n",
    "\n",
    "Utilizando el método propuesto calcule el nuevo $ MSE^{*} = MSE_1 + MSE_2 + MSE_3$ y compárelo con el $MSE_b$ (el de b). ¿Es esta propuesta mejor o peor que la realizada con anterioridad?\n",
    "\n"
   ]
  },
  {
   "cell_type": "markdown",
   "metadata": {},
   "source": [
    "**Desarrollo 3**\n"
   ]
  },
  {
   "cell_type": "markdown",
   "metadata": {},
   "source": [
    "Se procede a calcular el coeficiente de correlación entre todos los pares posibles de las cuatro columnas mencionadas, este coeficiente se calculará bajo la siguiente fórmula:\n",
    "\n",
    "$$\n",
    "\\rho_{X, Y}=\\frac{\\operatorname{cov}(X, Y)}{\\sqrt{\\operatorname{Var}(X)} \\sqrt{\\operatorname{Var}(Y)}}\n",
    "$$\n",
    "\n",
    "El valor del coeficiente de correlación entre el par de datos X,Y , indicará el tipo de relación de estos, de la siguiente forma:\n",
    "\n",
    "*  Si r = 1, existe una correlación positiva perfecta. Relación **directa**\n",
    "*  Si 0 < r < 1, existe una correlación positiva.\n",
    "*  Si r = 0, no existe relación lineal. **Variables son independientes**\n",
    "*  Si -1 < r < 0, existe una correlación negativa.\n",
    "*  Si r = -1, existe una correlación negativa perfecta. Relación **inversa**\n",
    "\n",
    "**Nota:** Si $\\operatorname{cov}(X, Y) = 0 \\Rightarrow  \\rho_{X,Y} = 0$\n",
    "**Nota 2:** Si $\\operatorname{cov}(X, Y) \\Leftrightarrow \\operatorname{cov}(Y, X) $\n"
   ]
  },
  {
   "cell_type": "code",
   "execution_count": 6,
   "metadata": {},
   "outputs": [
    {
     "name": "stdout",
     "output_type": "stream",
     "text": [
      "Coeficientes de correlación\n",
      "\n",
      "Temperatura y Humedad            -0.6322612301502994\n",
      "Temperatura y Velocidad viento   0.008957061208217858\n",
      "Temperatura y Presión            -0.005447162626738259\n",
      "Humedad y Velocidad viento       -0.22495378814304165\n",
      "Humedad y Presión                0.005454319810932627\n",
      "Velocidad viento y Presión       -0.049263316260607384\n"
     ]
    }
   ],
   "source": [
    "#leemos el archivo:\n",
    "we = pd.read_csv(\"weatherHistory.csv\")\n",
    "\n",
    "#columnas\n",
    "t = we['Temperature (C)'] #temperatura\n",
    "h = we['Humidity'] #humedad\n",
    "v = we['Wind Speed (km/h)'] #velocidad viento\n",
    "p = we['Pressure (millibars)'] #presion\n",
    "\n",
    "#definimos la funcion para el coef de correlación\n",
    "def coef_correlacion(x,y):\n",
    "    cov_xy = np.cov(x,y)[0][1]\n",
    "    if cov_xy == 0:\n",
    "        return 0\n",
    "    else:\n",
    "        var_x = np.var(x)\n",
    "        var_y = np.var(y)\n",
    "        den = np.sqrt(var_x)* np.sqrt(var_y)\n",
    "        return cov_xy/den\n",
    "\n",
    "#Calculamos el coeficiente de correlacion para los pares posibles: (t,h) (t,v) (t,p) (h,v) (h,p) (v,p)\n",
    "\n",
    "print(\"Coeficientes de correlación\\n\")\n",
    "print(\"Temperatura y Humedad            \" + str(coef_correlacion(t,h))) \n",
    "print(\"Temperatura y Velocidad viento   \" + str(coef_correlacion(t,v)))\n",
    "print(\"Temperatura y Presión            \" + str(coef_correlacion(t,p)))\n",
    "print(\"Humedad y Velocidad viento       \" + str(coef_correlacion(h,v)))\n",
    "print(\"Humedad y Presión                \" + str(coef_correlacion(h,p)))\n",
    "print(\"Velocidad viento y Presión       \" + str(coef_correlacion(v,p)))"
   ]
  },
  {
   "cell_type": "markdown",
   "metadata": {},
   "source": [
    "> a) Calcule la correlación entre los pares posibles de las 4 columnas mencionadas e indique entre cuáles de ellas hay relación y el tipo de relación.\n",
    "\n",
    "Según los valores de coeficiente de correlación presentados podemos concluir lo siguiente:\n",
    "\n",
    "*  Relación **inversa** entre temperatura y humedad\n",
    "*  Relación **directa** (NO EXISTE) entre temperatura y velocidad del viento\n",
    "*  Relación **indirecta** (NO EXISTE) entre temperatura y presión\n",
    "*  Relación **inversa** entre humedad y velocidad de viento\n",
    "*  Relación **directa** (NO EXISTE) entre temperatura y humedad\n",
    "*  Relación **inversa** entre temperatura y humedad\n"
   ]
  },
  {
   "cell_type": "markdown",
   "metadata": {},
   "source": [
    "## Bonus Section \n",
    "\n",
    "### B.1 NLP (+10)\n",
    "\n",
    "Natural Language Processing (NLP) corresponde al análisis del lenguaje natural para realizar estudios acerca de: análisis de sentimiento, patrones del discurso en la voz para los asistentes (Ok google, Alexa, etc.), entre otros. Debido a su utilidad y complejidad, creó su propia area de inteligencia artificial. En esta sección usted trabajará con algunos aspectos básicos de NLP.\n",
    "\n",
    "Dentro del análisis de patrones en el texto hay una técnica que se llama *Pos Tagging* (Parts of Speech tagging) que corresponde a la asignación de un *tag* a una palabra, estos tags son: sustantivo, verbo, adeverbio, etc. \n",
    "\n",
    "Trabajára con las relaciones \"antes de\" y \"después de\", es decir, utilizará alguna estructura de datos conveniente para almacenar las palabras que vienen antes de $X$ y las que vienen después de $X$.\n",
    "\n",
    "\n",
    "> a) Determine las probabilidades del *tag* sucesor dado el *tag* de la palabra (Pos Tagging). Realice esto para los 3 tags de mayor frecuencia.\n",
    "\n",
    "> b) Determine las probabilidades del *tag* antecesor dado el *tag* de la palabra (Pos Tagging). Realice esto para los mismos tags de e) y comente. ¿Hay alguna relación con lo trabajado en e)?\n",
    "\n",
    "Puede trabajar con 1 solo texto en esta sub-sección, si lo prefiere.\n",
    "\n",
    "----\n",
    "\n",
    "* [POS Tagging en Python](https://www.nltk.org/book/ch05.html)\n",
    "* [POS Tagging en R](https://smart-statistics.com/part-speech-tagging-r/)\n",
    "\n",
    "### B.2 Redes Complejas ft. TLC (+10)\n",
    "\n",
    "En el laboratorio 2 usted conoció un tipo de modelo para generar redes complejas de libre escala. En este laboratorio se le presenta otro tipo de modelo, un poco más básico, cuyo proceso de generación es el siguiente:\n",
    "\n",
    "1. Se inicializa la red con una cantidad fija de nodos $N$ \n",
    "2. Entre cada par de nodos existe una probabilidad $\\rho$ de colocar una arista entre cada par de nodos.\n",
    "\n",
    "Este proceso puede hacerse tanto de forma dirigida como no dirigida. \n",
    "\n",
    "#### Teorema del Límite Central \n",
    "\n",
    "El teorema del límite central es uno de los postulados más importantes de estadística.\n",
    "\n",
    "Sea $x_{1},x_{2},....,x_{n}$ una muestra aleatoria de tamaño $n$ IID extraidas de una distribución con valor esperado $\\mu$ y varianza finita $\\sigma^{2}$. Si calculamos la media muestral: \n",
    "\n",
    "$$ \\bar{X}_{n} = \\frac{\\sum x_{i}}{n}$$\n",
    "\n",
    "Y repetimos este proceso una gran cantidad de veces $(P)$ tendremos una distribución de las medias de las muestras (*Sample mean distribution*). El TLC establece que, si el número de repeticiones es lo suficientemente grande: \n",
    "\n",
    "$$ \\bar{X} \\sim N\\left(\\mu,\\sqrt{\\frac{\\sigma^{2}}{n}}\\right)$$ \n",
    "\n",
    "En esta sección comprobaremos el TLC utilizando el grafo descrito al inicio.\n",
    "\n",
    ">a) Considerando la construcción del grafo ¿A qué distribución corresponde el proceso?\n",
    "\n",
    ">b) En este caso nos interesa la distribución de **Grado Promedio**. En base a lo enunciado en el TLC identifique:\n",
    "\n",
    "* Elementos de la muestra Aleatoria.\n",
    "* La media de la distribución de grado promedio\n",
    "* La varianza/std de la distribución de grado promedio.\n",
    "\n",
    "Tanto para el caso **dirigido** como el **no dirigido**. En el caso dirigido se refiere a grado promedio de entrada y grado promedio de salida.\n",
    "\n",
    "\n",
    ">c) Utilizando un $\\rho$ fijo (a su elección, pero distinto de 0 y 1) genere la distribución de grado utilizando:\n",
    "\n",
    "* 1000 grafos de 5 nodos\n",
    "* 1000 grafos de 50 nodos\n",
    "* 1000 grafos de 500 nodos\n",
    "* 1000 grafos de 1000 nodos\n",
    "\n",
    "**SOLO EN CASO NO DIRIGIDO**\n",
    "\n",
    "Comparando los resultados obtenidos con su respuesta en b) ¿Es posible concluir que el teorema del límite central se cumple tanto para el grafo dirigido como no dirigido?\n"
   ]
  },
  {
   "cell_type": "markdown",
   "metadata": {},
   "source": [
    "## Reglas del Juego y Comentarios \n",
    "\n",
    "+ Errores ortográficos, de redacción y oraciones ambiguas descontarán parte de su puntaje.\n",
    "+ En esta ocasión se podrán realizar consultas hasta el 4 de noviembre a las 15:00h.\n",
    "+ Cada día de atraso descuenta 25 puntos de la nota final con un máximo de dos días de retraso (después es 0).\n",
    "+ La versión de R que se usará para revisar es 3.6.1\n",
    "+ La versión de Python que se usará para revisar es 3.6.8\n",
    "+ Use cualquier librería que estime conveniente, si requiere de instalación explicitarlo en el README (y bien explicitado).\n",
    "+ Código comentado para facilitar entendimiento.\n",
    "+ Sea formal y claro con su respuesta, **explique su procedimiento y luego responda.** \n",
    "+ Defina bien las secciones de su notebook, el orden siempre es bueno :) [Tips para usar Markdown](https://github.com/adam-p/markdown-here/wiki/Markdown-Cheatsheet)"
   ]
  }
 ],
 "metadata": {
  "kernelspec": {
   "display_name": "Python 3",
   "language": "python",
   "name": "python3"
  },
  "language_info": {
   "codemirror_mode": {
    "name": "ipython",
    "version": 3
   },
   "file_extension": ".py",
   "mimetype": "text/x-python",
   "name": "python",
   "nbconvert_exporter": "python",
   "pygments_lexer": "ipython3",
   "version": "3.7.3"
  }
 },
 "nbformat": 4,
 "nbformat_minor": 4
}
